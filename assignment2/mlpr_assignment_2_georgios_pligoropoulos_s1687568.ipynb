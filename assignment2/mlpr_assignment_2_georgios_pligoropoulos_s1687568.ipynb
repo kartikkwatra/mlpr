{
 "cells": [
  {
   "cell_type": "markdown",
   "metadata": {},
   "source": [
    "# Machine Learning and Pattern Recognition (MLPR)"
   ]
  },
  {
   "cell_type": "markdown",
   "metadata": {},
   "source": [
    "# Assignment 2"
   ]
  },
  {
   "cell_type": "markdown",
   "metadata": {},
   "source": [
    "# Georgios Pligoropoulos - s1687568"
   ]
  },
  {
   "cell_type": "markdown",
   "metadata": {
    "collapsed": true
   },
   "source": [
    "## November 2016 - 1st Semester"
   ]
  },
  {
   "cell_type": "code",
   "execution_count": 1,
   "metadata": {
    "collapsed": false
   },
   "outputs": [],
   "source": [
    "import math\n",
    "import imp\n",
    "from scipy import io\n",
    "from sklearn.model_selection import KFold\n",
    "import numpy as np\n",
    "from matplotlib import pyplot as plt\n",
    "import time\n",
    "\n",
    "#or notebook\n",
    "%matplotlib inline"
   ]
  },
  {
   "cell_type": "code",
   "execution_count": 2,
   "metadata": {
    "collapsed": true
   },
   "outputs": [],
   "source": [
    "import sys\n",
    "mlprDir = '/home/student/Dropbox/MSc_Artificial_Intelligence/mlpr_Machine_Learning_Pattern_Recognition/mlpr'\n",
    "sys.path.append(mlprDir)"
   ]
  },
  {
   "cell_type": "code",
   "execution_count": 3,
   "metadata": {
    "collapsed": true
   },
   "outputs": [],
   "source": [
    "randomSeed = 0"
   ]
  },
  {
   "cell_type": "code",
   "execution_count": 4,
   "metadata": {
    "collapsed": false
   },
   "outputs": [
    {
     "data": {
      "text/plain": [
       "9"
      ]
     },
     "execution_count": 4,
     "metadata": {},
     "output_type": "execute_result"
    }
   ],
   "source": [
    "ctData = io.loadmat('ct_data.mat', squeeze_me=True) #“squeeze_me=True” so thaty_train.shapeis(N,)ratherthan(N,1)\n",
    "ctDataLen = len(ctData)\n",
    "ctDataLen"
   ]
  },
  {
   "cell_type": "code",
   "execution_count": 5,
   "metadata": {
    "collapsed": false
   },
   "outputs": [
    {
     "data": {
      "text/plain": [
       "['X_val',\n",
       " 'X_train',\n",
       " 'X_test',\n",
       " '__header__',\n",
       " '__globals__',\n",
       " 'y_val',\n",
       " 'y_train',\n",
       " '__version__',\n",
       " 'y_test']"
      ]
     },
     "execution_count": 5,
     "metadata": {},
     "output_type": "execute_result"
    }
   ],
   "source": [
    "ctData.keys()"
   ]
  },
  {
   "cell_type": "code",
   "execution_count": 6,
   "metadata": {
    "collapsed": true
   },
   "outputs": [],
   "source": [
    "assert len(ctData['y_train'].shape) == 1, \"the squeeze me = True above has failed\""
   ]
  },
  {
   "cell_type": "code",
   "execution_count": 7,
   "metadata": {
    "collapsed": false
   },
   "outputs": [],
   "source": [
    "def convertDictionaryToVariables(dictionary):\n",
    "    \"\"\"http://stackoverflow.com/questions/18090672/convert-dictionary-entries-into-variables-python\"\"\"\n",
    "    for key,val in dictionary.items():\n",
    "        exec(key + '=val')"
   ]
  },
  {
   "cell_type": "code",
   "execution_count": 8,
   "metadata": {
    "collapsed": false
   },
   "outputs": [],
   "source": [
    "convertDictionaryToVariables(ctData) # TODO: does not work in python notebook ??"
   ]
  },
  {
   "cell_type": "code",
   "execution_count": 9,
   "metadata": {
    "collapsed": false
   },
   "outputs": [],
   "source": [
    "Xtrain, Xval, Xtest, yTrain, yVal, yTest = ctData['X_train'], ctData['X_val'], ctData['X_test'], \\\n",
    "    ctData['y_train'], ctData['y_val'], ctData['y_test']"
   ]
  },
  {
   "cell_type": "code",
   "execution_count": 10,
   "metadata": {
    "collapsed": false
   },
   "outputs": [
    {
     "data": {
      "text/plain": [
       "'MATLAB 5.0 MAT-file, written by Octave 4.0.0, 2016-10-30 15:41:35 UTC'"
      ]
     },
     "execution_count": 10,
     "metadata": {},
     "output_type": "execute_result"
    }
   ],
   "source": [
    "ctData['__header__']"
   ]
  },
  {
   "cell_type": "code",
   "execution_count": 11,
   "metadata": {
    "collapsed": false
   },
   "outputs": [
    {
     "data": {
      "text/plain": [
       "[]"
      ]
     },
     "execution_count": 11,
     "metadata": {},
     "output_type": "execute_result"
    }
   ],
   "source": [
    "ctData['__globals__']"
   ]
  },
  {
   "cell_type": "code",
   "execution_count": 12,
   "metadata": {
    "collapsed": false
   },
   "outputs": [
    {
     "data": {
      "text/plain": [
       "'1.0'"
      ]
     },
     "execution_count": 12,
     "metadata": {},
     "output_type": "execute_result"
    }
   ],
   "source": [
    "ctData['__version__']"
   ]
  },
  {
   "cell_type": "code",
   "execution_count": 13,
   "metadata": {
    "collapsed": false
   },
   "outputs": [
    {
     "data": {
      "text/plain": [
       "((40754, 384), (40754,))"
      ]
     },
     "execution_count": 13,
     "metadata": {},
     "output_type": "execute_result"
    }
   ],
   "source": [
    "Xtrain.shape, yTrain.shape"
   ]
  },
  {
   "cell_type": "code",
   "execution_count": 14,
   "metadata": {
    "collapsed": false
   },
   "outputs": [
    {
     "data": {
      "text/plain": [
       "((5785, 384), (5785,))"
      ]
     },
     "execution_count": 14,
     "metadata": {},
     "output_type": "execute_result"
    }
   ],
   "source": [
    "Xval.shape, yVal.shape"
   ]
  },
  {
   "cell_type": "code",
   "execution_count": 15,
   "metadata": {
    "collapsed": false
   },
   "outputs": [
    {
     "data": {
      "text/plain": [
       "((6961, 384), (6961,))"
      ]
     },
     "execution_count": 15,
     "metadata": {},
     "output_type": "execute_result"
    }
   ],
   "source": [
    "Xtest.shape, yTest.shape"
   ]
  },
  {
   "cell_type": "code",
   "execution_count": 16,
   "metadata": {
    "collapsed": true
   },
   "outputs": [],
   "source": [
    "someWhereInTheMiddleOfTraining = range(len(Xtrain)/2,len(Xtrain)/2 + 6)"
   ]
  },
  {
   "cell_type": "code",
   "execution_count": 17,
   "metadata": {
    "collapsed": false
   },
   "outputs": [
    {
     "data": {
      "text/plain": [
       "array([[ 0.      ,  0.      ,  0.      , ...,  0.      ,  0.      , -0.25    ],\n",
       "       [ 0.      ,  0.      ,  0.      , ...,  0.963103,  0.      , -0.25    ],\n",
       "       [ 0.      ,  0.      ,  0.      , ...,  0.975469,  0.      , -0.25    ],\n",
       "       [ 0.      ,  0.      ,  0.      , ...,  0.807768,  0.      , -0.25    ],\n",
       "       [ 0.      ,  0.      ,  0.      , ...,  0.      ,  0.      , -0.25    ],\n",
       "       [ 0.      ,  0.      ,  0.      , ...,  0.      ,  0.      , -0.25    ]])"
      ]
     },
     "execution_count": 17,
     "metadata": {},
     "output_type": "execute_result"
    }
   ],
   "source": [
    "Xtrain[someWhereInTheMiddleOfTraining]"
   ]
  },
  {
   "cell_type": "code",
   "execution_count": 18,
   "metadata": {
    "collapsed": false
   },
   "outputs": [
    {
     "data": {
      "text/plain": [
       "array([-0.39463686,  0.37122723,  0.37342168,  0.36903278,  0.33611602,\n",
       "        0.35147717])"
      ]
     },
     "execution_count": 18,
     "metadata": {},
     "output_type": "execute_result"
    }
   ],
   "source": [
    "yTrain[someWhereInTheMiddleOfTraining]"
   ]
  },
  {
   "cell_type": "markdown",
   "metadata": {},
   "source": [
    "### 1a"
   ]
  },
  {
   "cell_type": "markdown",
   "metadata": {},
   "source": [
    "Verifying that the mean of the training positions in yTrain is zero"
   ]
  },
  {
   "cell_type": "code",
   "execution_count": 19,
   "metadata": {
    "collapsed": false
   },
   "outputs": [
    {
     "data": {
      "text/plain": [
       "True"
      ]
     },
     "execution_count": 19,
     "metadata": {},
     "output_type": "execute_result"
    }
   ],
   "source": [
    "np.allclose(np.mean(yTrain), 0)"
   ]
  },
  {
   "cell_type": "markdown",
   "metadata": {},
   "source": [
    "The mean of the 5,785 positions in they_valarray is not zero."
   ]
  },
  {
   "cell_type": "code",
   "execution_count": 20,
   "metadata": {
    "collapsed": false
   },
   "outputs": [
    {
     "data": {
      "text/plain": [
       "-0.21600850932415991"
      ]
     },
     "execution_count": 20,
     "metadata": {},
     "output_type": "execute_result"
    }
   ],
   "source": [
    "yValMean = np.mean(yVal)\n",
    "yValMean"
   ]
  },
  {
   "cell_type": "markdown",
   "metadata": {},
   "source": [
    "If we gathered a second dataset and computed its mean in the same way, we would get a different mean. For some datasets the mean will be bigger than the underlying true mean, sometimes it will be smaller.  \n",
    "Here we do not have a second dataset and thus we are stuck with that. But we can use the standard deviation to see how much the mean would vary."
   ]
  },
  {
   "cell_type": "code",
   "execution_count": 21,
   "metadata": {
    "collapsed": true
   },
   "outputs": [],
   "source": [
    "def getMeanError(arr):\n",
    "    return np.std(arr)/math.sqrt(len(arr))"
   ]
  },
  {
   "cell_type": "code",
   "execution_count": 22,
   "metadata": {
    "collapsed": false
   },
   "outputs": [
    {
     "name": "stdout",
     "output_type": "stream",
     "text": [
      "The standard error of the validation mean is -0.216009 +/- 0.012903\n"
     ]
    }
   ],
   "source": [
    "validationMeanError = getMeanError(yVal)\n",
    "print \"The standard error of the validation mean is %f +/- %f\" % (yValMean, validationMeanError)"
   ]
  },
  {
   "cell_type": "code",
   "execution_count": 23,
   "metadata": {
    "collapsed": true
   },
   "outputs": [],
   "source": [
    "firstPartOfTraining = yTrain[:len(yVal)]"
   ]
  },
  {
   "cell_type": "code",
   "execution_count": 24,
   "metadata": {
    "collapsed": false
   },
   "outputs": [
    {
     "name": "stdout",
     "output_type": "stream",
     "text": [
      "The standard error of the first part of training mean is -0.442477 +/- 0.011926\n"
     ]
    }
   ],
   "source": [
    "firstPartOfTrainingMeanError = getMeanError(firstPartOfTraining)\n",
    "print \"The standard error of the first part of training mean is %f +/- %f\" %\\\n",
    "    (np.mean(firstPartOfTraining), firstPartOfTrainingMeanError)"
   ]
  },
  {
   "cell_type": "markdown",
   "metadata": {},
   "source": [
    "Why these standard error bars do not reliably indicate what the average of locations in future CT slice data will be?\n",
    "\n",
    "Well intuitively the CT scan is a complex process and it involves the complexity of the human body. Here we have less than 60.000 instances in total which is a very small number in comparison with the population. Given that the person is totally still. Because if the person is slightly moving when the CT scan is being operating this will add noise to the data giving slight variations to the inputs thus changing the mean.\n",
    "We need many more datasets to derive a better mean and have a better approximation of the standard error.  \n",
    "In addition we have taken into account the **assumption that the observations are independent** from each other which might not be the case."
   ]
  },
  {
   "cell_type": "markdown",
   "metadata": {},
   "source": [
    "### 1b"
   ]
  },
  {
   "cell_type": "code",
   "execution_count": 25,
   "metadata": {
    "collapsed": false
   },
   "outputs": [],
   "source": [
    "def checkIfArrayContainsIdenticalElements(arr):\n",
    "    assert len(arr) >= 1, \"do not call this function if array is empty\"\n",
    "    #reduce(lambda x,y : x if x == y else False, arr) == arr[0]\n",
    "    return np.all(np.array(arr) == arr[0])"
   ]
  },
  {
   "cell_type": "code",
   "execution_count": 26,
   "metadata": {
    "collapsed": false
   },
   "outputs": [],
   "source": [
    "def identifyRedundantAttributes(dataset):\n",
    "    \"\"\"returns a binary mask suggesting the columns where all the instances have the same value\n",
    "    thus contributing zero information\"\"\"\n",
    "    return np.apply_along_axis(checkIfArrayContainsIdenticalElements, axis=0, arr = dataset)"
   ]
  },
  {
   "cell_type": "code",
   "execution_count": 27,
   "metadata": {
    "collapsed": false
   },
   "outputs": [
    {
     "data": {
      "text/plain": [
       "(384,)"
      ]
     },
     "execution_count": 27,
     "metadata": {},
     "output_type": "execute_result"
    }
   ],
   "source": [
    "redundantAttrs = identifyRedundantAttributes(Xtrain)\n",
    "redundantAttrs.shape"
   ]
  },
  {
   "cell_type": "code",
   "execution_count": 28,
   "metadata": {
    "collapsed": false
   },
   "outputs": [
    {
     "data": {
      "text/plain": [
       "(40754, 384)"
      ]
     },
     "execution_count": 28,
     "metadata": {},
     "output_type": "execute_result"
    }
   ],
   "source": [
    "Xtrain.shape"
   ]
  },
  {
   "cell_type": "code",
   "execution_count": 29,
   "metadata": {
    "collapsed": true
   },
   "outputs": [],
   "source": [
    "def removeRedundantAttrs(dataset, redundantAttributes):\n",
    "    fixedDataset = np.delete(dataset, np.argwhere(redundantAttributes), axis=1)\n",
    "    assert len(redundantAttributes[redundantAttributes==True]) == dataset.shape[1] - fixedDataset.shape[1],\\\n",
    "        \"%d vs %d\" % (len(redundantAttributes[redundantAttributes==True]), dataset.shape[1] - fixedDataset.shape[1])\n",
    "    return fixedDataset"
   ]
  },
  {
   "cell_type": "code",
   "execution_count": 30,
   "metadata": {
    "collapsed": false
   },
   "outputs": [
    {
     "data": {
      "text/plain": [
       "(40754, 379)"
      ]
     },
     "execution_count": 30,
     "metadata": {},
     "output_type": "execute_result"
    }
   ],
   "source": [
    "Xtr = removeRedundantAttrs(Xtrain, redundantAttrs)\n",
    "Xtr.shape"
   ]
  },
  {
   "cell_type": "code",
   "execution_count": 31,
   "metadata": {
    "collapsed": false
   },
   "outputs": [
    {
     "data": {
      "text/plain": [
       "(5785, 379)"
      ]
     },
     "execution_count": 31,
     "metadata": {},
     "output_type": "execute_result"
    }
   ],
   "source": [
    "Xvalid = removeRedundantAttrs(Xval, redundantAttrs)\n",
    "Xvalid.shape"
   ]
  },
  {
   "cell_type": "code",
   "execution_count": 32,
   "metadata": {
    "collapsed": false
   },
   "outputs": [
    {
     "data": {
      "text/plain": [
       "(6961, 379)"
      ]
     },
     "execution_count": 32,
     "metadata": {},
     "output_type": "execute_result"
    }
   ],
   "source": [
    "Xtesting = removeRedundantAttrs(Xtest, redundantAttrs)\n",
    "Xtesting.shape"
   ]
  },
  {
   "cell_type": "markdown",
   "metadata": {},
   "source": [
    "We have removed the following columns:"
   ]
  },
  {
   "cell_type": "code",
   "execution_count": 33,
   "metadata": {
    "collapsed": false
   },
   "outputs": [
    {
     "data": {
      "text/plain": [
       "array([[ 59],\n",
       "       [ 69],\n",
       "       [179],\n",
       "       [189],\n",
       "       [351]])"
      ]
     },
     "execution_count": 33,
     "metadata": {},
     "output_type": "execute_result"
    }
   ],
   "source": [
    "np.argwhere(redundantAttrs)"
   ]
  },
  {
   "cell_type": "markdown",
   "metadata": {
    "collapsed": true
   },
   "source": [
    "## 2"
   ]
  },
  {
   "cell_type": "code",
   "execution_count": 34,
   "metadata": {
    "collapsed": true
   },
   "outputs": [],
   "source": [
    "alpha = 10"
   ]
  },
  {
   "cell_type": "code",
   "execution_count": 35,
   "metadata": {
    "collapsed": false
   },
   "outputs": [],
   "source": [
    "# We use that only for verification\n",
    "def closedFormSolutionForRidgeRegression(X, y, l2):\n",
    "    \"\"\"eye (I) matrix is modified to not penalize intercept\"\"\"\n",
    "    lenX = len(X)\n",
    "    H = np.hstack( (np.ones(lenX)[np.newaxis].T, X) )\n",
    "    eye = np.eye(H.shape[1])\n",
    "    eyeModified = eye\n",
    "    eyeModified[0,0] = 0\n",
    "    \n",
    "    #return np.linalg.inv(H.T.dot(H) + l2 * eyeModified).dot(H.T).dot(y)\n",
    "    #these two are equivalent but the \n",
    "    return np.linalg.solve(H.T.dot(H) + l2 * eyeModified, H.T.dot(y))"
   ]
  },
  {
   "cell_type": "code",
   "execution_count": 36,
   "metadata": {
    "collapsed": false
   },
   "outputs": [
    {
     "data": {
      "text/plain": [
       "(380,)"
      ]
     },
     "execution_count": 36,
     "metadata": {},
     "output_type": "execute_result"
    }
   ],
   "source": [
    "myWeights = closedFormSolutionForRidgeRegression(Xtr, yTrain, alpha)\n",
    "myWeights.shape"
   ]
  },
  {
   "cell_type": "code",
   "execution_count": 37,
   "metadata": {
    "collapsed": false
   },
   "outputs": [],
   "source": [
    "def augmentTrainingDataWithOnesForBias(X):\n",
    "    return np.hstack( (np.ones(len(X))[np.newaxis].T, X) )"
   ]
  },
  {
   "cell_type": "code",
   "execution_count": 38,
   "metadata": {
    "collapsed": false
   },
   "outputs": [
    {
     "data": {
      "text/plain": [
       "(40754, 380)"
      ]
     },
     "execution_count": 38,
     "metadata": {},
     "output_type": "execute_result"
    }
   ],
   "source": [
    "H = augmentTrainingDataWithOnesForBias(Xtr)\n",
    "H.shape"
   ]
  },
  {
   "cell_type": "code",
   "execution_count": 39,
   "metadata": {
    "collapsed": true
   },
   "outputs": [],
   "source": [
    "def addRowsForPseudoDataTrick(X, y, l2):\n",
    "    \"\"\"http://statweb.stanford.edu/~tibs/sta305files/Rudyregularization.pdf\"\"\"\n",
    "    size = X.shape[1]\n",
    "    eye = np.eye(size)\n",
    "    eyeModified = eye\n",
    "    eyeModified[0,0] = 0\n",
    "    omega = math.sqrt(l2) * eyeModified\n",
    "    return np.concatenate( (X, omega), axis=0), np.concatenate((y, np.zeros(size)))"
   ]
  },
  {
   "cell_type": "code",
   "execution_count": 40,
   "metadata": {
    "collapsed": false
   },
   "outputs": [],
   "source": [
    "def fit_linreg(X, yy, alpha):\n",
    "    inputs, outputs = addRowsForPseudoDataTrick(augmentTrainingDataWithOnesForBias(X), yy, alpha)\n",
    "    return np.linalg.lstsq(inputs, outputs)[0]"
   ]
  },
  {
   "cell_type": "code",
   "execution_count": 41,
   "metadata": {
    "collapsed": false
   },
   "outputs": [],
   "source": [
    "weights = fit_linreg(Xtr, yTrain, alpha)"
   ]
  },
  {
   "cell_type": "code",
   "execution_count": 42,
   "metadata": {
    "collapsed": false
   },
   "outputs": [],
   "source": [
    "assert np.allclose(myWeights, weights), \"means that the two solutions are not identical\""
   ]
  },
  {
   "cell_type": "code",
   "execution_count": 43,
   "metadata": {
    "collapsed": true
   },
   "outputs": [],
   "source": [
    "from ct_support_code import fit_linreg_gradopt"
   ]
  },
  {
   "cell_type": "code",
   "execution_count": 44,
   "metadata": {
    "collapsed": false
   },
   "outputs": [],
   "source": [
    "gradoptFittedWeights, gradoptFittedBias = fit_linreg_gradopt(Xtr, yTrain, alpha)"
   ]
  },
  {
   "cell_type": "code",
   "execution_count": 45,
   "metadata": {
    "collapsed": false
   },
   "outputs": [
    {
     "data": {
      "text/plain": [
       "((379,), ())"
      ]
     },
     "execution_count": 45,
     "metadata": {},
     "output_type": "execute_result"
    }
   ],
   "source": [
    "gradoptFittedWeights.shape, gradoptFittedBias.shape"
   ]
  },
  {
   "cell_type": "code",
   "execution_count": 46,
   "metadata": {
    "collapsed": false
   },
   "outputs": [
    {
     "data": {
      "text/plain": [
       "(380,)"
      ]
     },
     "execution_count": 46,
     "metadata": {},
     "output_type": "execute_result"
    }
   ],
   "source": [
    "gradoptFittedWeightsAndBias = np.concatenate( ( np.array([gradoptFittedBias]), gradoptFittedWeights) )\n",
    "gradoptFittedWeightsAndBias.shape"
   ]
  },
  {
   "cell_type": "code",
   "execution_count": 47,
   "metadata": {
    "collapsed": false
   },
   "outputs": [
    {
     "data": {
      "text/plain": [
       "False"
      ]
     },
     "execution_count": 47,
     "metadata": {},
     "output_type": "execute_result"
    }
   ],
   "source": [
    "np.allclose(gradoptFittedWeightsAndBias, weights)"
   ]
  },
  {
   "cell_type": "code",
   "execution_count": 48,
   "metadata": {
    "collapsed": false
   },
   "outputs": [
    {
     "name": "stdout",
     "output_type": "stream",
     "text": [
      "let's print the bias and some weights to see where is the difference, or how big it is\n"
     ]
    },
    {
     "data": {
      "text/plain": [
       "array([[ 0.13824328,  0.13941109],\n",
       "       [-0.05513268, -0.05512783],\n",
       "       [-0.10870641, -0.1087216 ],\n",
       "       [ 0.07951081,  0.07947379],\n",
       "       [ 0.28194341,  0.28193662],\n",
       "       [ 0.26014425,  0.26013513],\n",
       "       [ 0.11940019,  0.11934693],\n",
       "       [ 0.0142664 ,  0.0142611 ],\n",
       "       [ 0.23497929,  0.23496813],\n",
       "       [-0.32012978, -0.32012748],\n",
       "       [-0.04879251, -0.04877961],\n",
       "       [-0.04658537, -0.04658515],\n",
       "       [ 0.05159682,  0.05160122],\n",
       "       [-0.02323546, -0.02319087],\n",
       "       [-0.00205468, -0.00202425],\n",
       "       [-0.0096499 , -0.00962028],\n",
       "       [ 0.03985583,  0.03987988],\n",
       "       [ 0.02542174,  0.02538214],\n",
       "       [ 0.01492785,  0.01503999],\n",
       "       [-0.10848049, -0.10850978]])"
      ]
     },
     "execution_count": 48,
     "metadata": {},
     "output_type": "execute_result"
    }
   ],
   "source": [
    "print \"let's print the bias and some weights to see where is the difference, or how big it is\"\n",
    "np.hstack( (gradoptFittedWeightsAndBias[np.newaxis].T, weights[np.newaxis].T) )[:20]"
   ]
  },
  {
   "cell_type": "code",
   "execution_count": 49,
   "metadata": {
    "collapsed": false
   },
   "outputs": [
    {
     "data": {
      "text/plain": [
       "True"
      ]
     },
     "execution_count": 49,
     "metadata": {},
     "output_type": "execute_result"
    }
   ],
   "source": [
    "np.allclose(gradoptFittedWeightsAndBias, weights, atol=1e-2)"
   ]
  },
  {
   "cell_type": "markdown",
   "metadata": {},
   "source": [
    "We see from the above two cells that the weights including the bias are very close, actually not so close to be considered identical but when we loosened the tolerance we found out that they are very close together as we can observe by eye looking at the values side by side.\n",
    "\n",
    "This happens because as the algorithm tries to converge 1) maybe the learning rate is not the identical and 2) the threshold for convergence might not be so strict meaning that the provided solutions from the *fit_linreg_gradopt* are good enough for minimizing the error and thus the iterations stop without reaching the true global minimum point.\n",
    "\n",
    "In addiction taking a look at the implemented code we see that the optimizer is set to iterate at maximum 500 times. This could also be a limitting factor to reach to the absolutely optimal solution.\n",
    "\n",
    "Note that for the current problem and current dataset the closed form solution is much faster than the gradient descent approach"
   ]
  },
  {
   "cell_type": "code",
   "execution_count": 50,
   "metadata": {
    "collapsed": true
   },
   "outputs": [],
   "source": [
    "from ct_support_code import linreg_cost"
   ]
  },
  {
   "cell_type": "code",
   "execution_count": 51,
   "metadata": {
    "collapsed": true
   },
   "outputs": [],
   "source": [
    "def getParams(w):\n",
    "    return w[1:], w[0]"
   ]
  },
  {
   "cell_type": "code",
   "execution_count": 52,
   "metadata": {
    "collapsed": false
   },
   "outputs": [
    {
     "data": {
      "text/plain": [
       "5217.9279636734"
      ]
     },
     "execution_count": 52,
     "metadata": {},
     "output_type": "execute_result"
    }
   ],
   "source": [
    "trainingCostForClosedForm = linreg_cost(getParams(weights), Xtr, yTrain, alpha)\n",
    "trainingCostForClosedForm[0]"
   ]
  },
  {
   "cell_type": "code",
   "execution_count": 53,
   "metadata": {
    "collapsed": false
   },
   "outputs": [
    {
     "data": {
      "text/plain": [
       "1083.2545883098387"
      ]
     },
     "execution_count": 53,
     "metadata": {},
     "output_type": "execute_result"
    }
   ],
   "source": [
    "validationCostForClosedForm = linreg_cost(getParams(weights), Xvalid, yVal, alpha)\n",
    "validationCostForClosedForm[0]"
   ]
  },
  {
   "cell_type": "markdown",
   "metadata": {},
   "source": [
    "The above are the RSS scores, we do not want that because they are not immune to scaling. We want the RMSE"
   ]
  },
  {
   "cell_type": "code",
   "execution_count": 54,
   "metadata": {
    "collapsed": true
   },
   "outputs": [],
   "source": [
    "from sklearn.metrics import mean_squared_error"
   ]
  },
  {
   "cell_type": "code",
   "execution_count": 55,
   "metadata": {
    "collapsed": true
   },
   "outputs": [],
   "source": [
    "def getPredictions(X, w, biases):\n",
    "    return X.dot(w) + biases"
   ]
  },
  {
   "cell_type": "code",
   "execution_count": 56,
   "metadata": {
    "collapsed": true
   },
   "outputs": [],
   "source": [
    "def getRMSE(trueTargets, predictions):\n",
    "    mse = np.sum((trueTargets - predictions)**2)/len(trueTargets)\n",
    "    #mse1 = mean_squared_error(trueTargets, predictions)\n",
    "    #assert mse == mse1 \n",
    "    return math.sqrt(mse)"
   ]
  },
  {
   "cell_type": "code",
   "execution_count": 57,
   "metadata": {
    "collapsed": false
   },
   "outputs": [
    {
     "data": {
      "text/plain": [
       "0.35566175191574384"
      ]
     },
     "execution_count": 57,
     "metadata": {},
     "output_type": "execute_result"
    }
   ],
   "source": [
    "trainingRMSEforClosedForm = getRMSE(trueTargets=yTrain, predictions=getPredictions(Xtr, weights[1:], weights[0]))\n",
    "trainingRMSEforClosedForm"
   ]
  },
  {
   "cell_type": "code",
   "execution_count": 58,
   "metadata": {
    "collapsed": false
   },
   "outputs": [
    {
     "data": {
      "text/plain": [
       "0.42000850675140733"
      ]
     },
     "execution_count": 58,
     "metadata": {},
     "output_type": "execute_result"
    }
   ],
   "source": [
    "validationRMSEforClosedForm = getRMSE(trueTargets=yVal, predictions=getPredictions(Xvalid, weights[1:], weights[0]))\n",
    "validationRMSEforClosedForm"
   ]
  },
  {
   "cell_type": "markdown",
   "metadata": {},
   "source": [
    "Now we can compare the two errors directly and see that the error for training is indeed smaller that the error for the unseen validation data even though the regularization was used"
   ]
  },
  {
   "cell_type": "code",
   "execution_count": 59,
   "metadata": {
    "collapsed": false
   },
   "outputs": [
    {
     "data": {
      "text/plain": [
       "(0.35566091528208404, 0.42000265085266136)"
      ]
     },
     "execution_count": 59,
     "metadata": {},
     "output_type": "execute_result"
    }
   ],
   "source": [
    "w_s = gradoptFittedWeights\n",
    "b_s = gradoptFittedBias\n",
    "trainingRMSEforGradientDescent = getRMSE(trueTargets=yTrain, predictions=getPredictions(Xtr,  w_s, b_s))\n",
    "validationRMSEforGradientDescent = getRMSE(trueTargets=yVal, predictions=getPredictions(Xvalid, w_s, b_s))\n",
    "\n",
    "trainingRMSEforGradientDescent, validationRMSEforGradientDescent"
   ]
  },
  {
   "cell_type": "code",
   "execution_count": 60,
   "metadata": {
    "collapsed": false
   },
   "outputs": [
    {
     "data": {
      "text/plain": [
       "True"
      ]
     },
     "execution_count": 60,
     "metadata": {},
     "output_type": "execute_result"
    }
   ],
   "source": [
    "np.allclose(np.array([trainingRMSEforClosedForm, validationRMSEforClosedForm]),\n",
    "           np.array([trainingRMSEforGradientDescent, validationRMSEforGradientDescent]), atol=1e-5)"
   ]
  },
  {
   "cell_type": "markdown",
   "metadata": {},
   "source": [
    "The solution for the gradient descent is almost identical with a tolerance of 1e-5 tot the closed form solution as expected.\n",
    "\n",
    "In general we are expecting the closed-form solution to always be the truly optimal solution for linear regression.\n",
    "\n",
    "The closed form solution is not used in practice in many cases because the computation might be very slow in comparison to gradient descent. The more the dimensionality increasing the larger is this issue"
   ]
  },
  {
   "cell_type": "markdown",
   "metadata": {},
   "source": [
    "## 3a"
   ]
  },
  {
   "cell_type": "code",
   "execution_count": 61,
   "metadata": {
    "collapsed": false
   },
   "outputs": [
    {
     "data": {
      "text/plain": [
       "(379,)"
      ]
     },
     "execution_count": 61,
     "metadata": {},
     "output_type": "execute_result"
    }
   ],
   "source": [
    "Xmu = np.mean(Xtr, axis=0)\n",
    "Xmu.shape"
   ]
  },
  {
   "cell_type": "code",
   "execution_count": 62,
   "metadata": {
    "collapsed": false
   },
   "outputs": [
    {
     "data": {
      "text/plain": [
       "(40754, 379)"
      ]
     },
     "execution_count": 62,
     "metadata": {},
     "output_type": "execute_result"
    }
   ],
   "source": [
    "XtrainNorm = Xtr - Xmu\n",
    "XtrainNorm.shape"
   ]
  },
  {
   "cell_type": "code",
   "execution_count": 63,
   "metadata": {
    "collapsed": false
   },
   "outputs": [],
   "source": [
    "assert np.all(XtrainNorm[0] == Xtr[0] - Xmu),\\\n",
    "    \"just an almost silly assertion to verify that the broadcasting of numpy is working as expected\""
   ]
  },
  {
   "cell_type": "code",
   "execution_count": 64,
   "metadata": {
    "collapsed": false
   },
   "outputs": [
    {
     "data": {
      "text/plain": [
       "(5785, 379)"
      ]
     },
     "execution_count": 64,
     "metadata": {},
     "output_type": "execute_result"
    }
   ],
   "source": [
    "XvalNorm = Xvalid - Xmu\n",
    "XvalNorm.shape"
   ]
  },
  {
   "cell_type": "markdown",
   "metadata": {},
   "source": [
    "Let's first exploit sklearn to easily create a scree plot of the PCA to see really how much is the role of each Principal Component"
   ]
  },
  {
   "cell_type": "code",
   "execution_count": 65,
   "metadata": {
    "collapsed": true
   },
   "outputs": [],
   "source": [
    "import sklearn.decomposition as deco"
   ]
  },
  {
   "cell_type": "code",
   "execution_count": 66,
   "metadata": {
    "collapsed": false
   },
   "outputs": [
    {
     "data": {
      "text/plain": [
       "PCA(copy=True, iterated_power='auto', n_components=379, random_state=None,\n",
       "  svd_solver='auto', tol=0.0, whiten=False)"
      ]
     },
     "execution_count": 66,
     "metadata": {},
     "output_type": "execute_result"
    }
   ],
   "source": [
    "pca = deco.PCA(n_components=XtrainNorm.shape[1])\n",
    "pca"
   ]
  },
  {
   "cell_type": "code",
   "execution_count": 67,
   "metadata": {
    "collapsed": false
   },
   "outputs": [
    {
     "data": {
      "text/plain": [
       "PCA(copy=True, iterated_power='auto', n_components=379, random_state=None,\n",
       "  svd_solver='auto', tol=0.0, whiten=False)"
      ]
     },
     "execution_count": 67,
     "metadata": {},
     "output_type": "execute_result"
    }
   ],
   "source": [
    "pca.fit(XtrainNorm)"
   ]
  },
  {
   "cell_type": "code",
   "execution_count": 68,
   "metadata": {
    "collapsed": false
   },
   "outputs": [
    {
     "data": {
      "image/png": "[encoded data removed]",
      "text/plain": [
       "<matplotlib.figure.Figure at 0x7fe78cc64850>"
      ]
     },
     "metadata": {},
     "output_type": "display_data"
    }
   ],
   "source": [
    "fig = plt.figure()\n",
    "xsize =XtrainNorm.shape[1]\n",
    "plt.bar( range(1,xsize+1), pca.explained_variance_ratio_, width = 1/(xsize/2) )\n",
    "plt.title('Scree plot of PCA for all principal components using the ratio of the variance')\n",
    "plt.xlabel('PCA')\n",
    "plt.ylabel('Variance Ratio')\n",
    "plt.show()"
   ]
  },
  {
   "cell_type": "markdown",
   "metadata": {},
   "source": [
    "From this first plot it seems that after the 150th Principal Component there is little information. The variance is much less significant in comparison to the first Principal Components. Let's replot"
   ]
  },
  {
   "cell_type": "code",
   "execution_count": 69,
   "metadata": {
    "collapsed": false
   },
   "outputs": [
    {
     "data": {
      "image/png": "[encoded data removed]",
      "text/plain": [
       "<matplotlib.figure.Figure at 0x7fe78cc64810>"
      ]
     },
     "metadata": {},
     "output_type": "display_data"
    }
   ],
   "source": [
    "fig = plt.figure()\n",
    "xsize = 150\n",
    "plt.bar( range(1,xsize+1), pca.explained_variance_ratio_[:xsize], width = 1/(xsize/2) )\n",
    "plt.title('Scree plot of PCA for all principal components using the ratio of the variance')\n",
    "plt.xlabel('PCA')\n",
    "plt.ylabel('Variance Ratio')\n",
    "plt.show()"
   ]
  },
  {
   "cell_type": "code",
   "execution_count": 70,
   "metadata": {
    "collapsed": true
   },
   "outputs": [],
   "source": [
    "from ct_support_code import pca_zm_proj"
   ]
  },
  {
   "cell_type": "code",
   "execution_count": 71,
   "metadata": {
    "collapsed": false
   },
   "outputs": [
    {
     "data": {
      "text/plain": [
       "(379, 379)"
      ]
     },
     "execution_count": 71,
     "metadata": {},
     "output_type": "execute_result"
    }
   ],
   "source": [
    "V = pca_zm_proj(XtrainNorm)\n",
    "V.shape"
   ]
  },
  {
   "cell_type": "code",
   "execution_count": 72,
   "metadata": {
    "collapsed": true
   },
   "outputs": [],
   "source": [
    "K=10"
   ]
  },
  {
   "cell_type": "code",
   "execution_count": 73,
   "metadata": {
    "collapsed": false
   },
   "outputs": [
    {
     "data": {
      "text/plain": [
       "(379, 10)"
      ]
     },
     "execution_count": 73,
     "metadata": {},
     "output_type": "execute_result"
    }
   ],
   "source": [
    "V = pca_zm_proj(XtrainNorm, K=K).real # we get back complex numbers, not sure why\n",
    "V.shape"
   ]
  },
  {
   "cell_type": "code",
   "execution_count": 74,
   "metadata": {
    "collapsed": false
   },
   "outputs": [],
   "source": [
    "Xtrain10 = XtrainNorm.dot(V)"
   ]
  },
  {
   "cell_type": "code",
   "execution_count": 75,
   "metadata": {
    "collapsed": false
   },
   "outputs": [
    {
     "data": {
      "text/plain": [
       "(40754, 10)"
      ]
     },
     "execution_count": 75,
     "metadata": {},
     "output_type": "execute_result"
    }
   ],
   "source": [
    "Xtrain10.shape"
   ]
  },
  {
   "cell_type": "code",
   "execution_count": 76,
   "metadata": {
    "collapsed": false
   },
   "outputs": [
    {
     "data": {
      "text/plain": [
       "(5785, 10)"
      ]
     },
     "execution_count": 76,
     "metadata": {},
     "output_type": "execute_result"
    }
   ],
   "source": [
    "Xvalid10 = XvalNorm.dot(V)\n",
    "Xvalid10.shape"
   ]
  },
  {
   "cell_type": "code",
   "execution_count": 77,
   "metadata": {
    "collapsed": false
   },
   "outputs": [
    {
     "data": {
      "text/plain": [
       "(11,)"
      ]
     },
     "execution_count": 77,
     "metadata": {},
     "output_type": "execute_result"
    }
   ],
   "source": [
    "weights = fit_linreg(Xtrain10, yTrain, alpha)\n",
    "weights.shape"
   ]
  },
  {
   "cell_type": "code",
   "execution_count": 78,
   "metadata": {
    "collapsed": false
   },
   "outputs": [
    {
     "name": "stdout",
     "output_type": "stream",
     "text": [
      "Training Root Mean Square Error with PCA dimensionality reduction to K=10\n"
     ]
    },
    {
     "data": {
      "text/plain": [
       "0.5724151784607797"
      ]
     },
     "execution_count": 78,
     "metadata": {},
     "output_type": "execute_result"
    }
   ],
   "source": [
    "print \"Training Root Mean Square Error with PCA dimensionality reduction to K=%d\" % K\n",
    "trainingRMSEpca10 = getRMSE(trueTargets=yTrain, predictions=getPredictions(Xtrain10, weights[1:], weights[0]))\n",
    "trainingRMSEpca10"
   ]
  },
  {
   "cell_type": "code",
   "execution_count": 79,
   "metadata": {
    "collapsed": false
   },
   "outputs": [
    {
     "name": "stdout",
     "output_type": "stream",
     "text": [
      "Validation Root Mean Square Error with PCA dimensionality reduction to K=10\n"
     ]
    },
    {
     "data": {
      "text/plain": [
       "0.5712708979178774"
      ]
     },
     "execution_count": 79,
     "metadata": {},
     "output_type": "execute_result"
    }
   ],
   "source": [
    "print \"Validation Root Mean Square Error with PCA dimensionality reduction to K=%d\" % K\n",
    "validationRMSEpca10 = getRMSE(trueTargets=yVal, predictions=getPredictions(Xvalid10, weights[1:], weights[0]))\n",
    "validationRMSEpca10"
   ]
  },
  {
   "cell_type": "markdown",
   "metadata": {},
   "source": [
    "Both errors are smaller than when using all of the features. Meaning that now we are doing worse in terms of regression but effectively we have a faster system since the matrix multiplication are reduced a lot. So there is a tradeoff here.\n",
    "\n",
    "We are noticing that the training error has increased in relation to the validation error.  \n",
    "This is happening because unlike before that the model was fitted to the peculiarities of the training data we now have new features, actually we have the best possible linear combinations of our features and we are not using all of them, but only few of them.\n",
    "Therefore it is more unlikely that we are going to overfit to our training data."
   ]
  },
  {
   "cell_type": "code",
   "execution_count": 80,
   "metadata": {
    "collapsed": true
   },
   "outputs": [],
   "source": [
    "K=100"
   ]
  },
  {
   "cell_type": "code",
   "execution_count": 81,
   "metadata": {
    "collapsed": false
   },
   "outputs": [
    {
     "data": {
      "text/plain": [
       "(379, 100)"
      ]
     },
     "execution_count": 81,
     "metadata": {},
     "output_type": "execute_result"
    }
   ],
   "source": [
    "V = pca_zm_proj(XtrainNorm, K=K).real # we get back complex numbers, not sure why\n",
    "V.shape"
   ]
  },
  {
   "cell_type": "code",
   "execution_count": 82,
   "metadata": {
    "collapsed": false
   },
   "outputs": [],
   "source": [
    "Xtrain100 = XtrainNorm.dot(V)"
   ]
  },
  {
   "cell_type": "code",
   "execution_count": 83,
   "metadata": {
    "collapsed": false
   },
   "outputs": [
    {
     "data": {
      "text/plain": [
       "(40754, 100)"
      ]
     },
     "execution_count": 83,
     "metadata": {},
     "output_type": "execute_result"
    }
   ],
   "source": [
    "Xtrain100.shape"
   ]
  },
  {
   "cell_type": "code",
   "execution_count": 84,
   "metadata": {
    "collapsed": false
   },
   "outputs": [
    {
     "data": {
      "text/plain": [
       "(5785, 100)"
      ]
     },
     "execution_count": 84,
     "metadata": {},
     "output_type": "execute_result"
    }
   ],
   "source": [
    "Xvalid100 = XvalNorm.dot(V)\n",
    "Xvalid100.shape"
   ]
  },
  {
   "cell_type": "code",
   "execution_count": 85,
   "metadata": {
    "collapsed": false
   },
   "outputs": [
    {
     "data": {
      "text/plain": [
       "(101,)"
      ]
     },
     "execution_count": 85,
     "metadata": {},
     "output_type": "execute_result"
    }
   ],
   "source": [
    "weights = fit_linreg(Xtrain100, yTrain, alpha)\n",
    "weights.shape"
   ]
  },
  {
   "cell_type": "code",
   "execution_count": 86,
   "metadata": {
    "collapsed": false
   },
   "outputs": [
    {
     "name": "stdout",
     "output_type": "stream",
     "text": [
      "Training Root Mean Square Error with PCA dimensionality reduction to K=100\n"
     ]
    },
    {
     "data": {
      "text/plain": [
       "0.4105637933749981"
      ]
     },
     "execution_count": 86,
     "metadata": {},
     "output_type": "execute_result"
    }
   ],
   "source": [
    "print \"Training Root Mean Square Error with PCA dimensionality reduction to K=%d\" % K\n",
    "trainingRMSEpca100 = getRMSE(trueTargets=yTrain, predictions=getPredictions(Xtrain100, weights[1:], weights[0]))\n",
    "trainingRMSEpca100"
   ]
  },
  {
   "cell_type": "code",
   "execution_count": 87,
   "metadata": {
    "collapsed": false
   },
   "outputs": [
    {
     "name": "stdout",
     "output_type": "stream",
     "text": [
      "Validation Root Mean Square Error with PCA dimensionality reduction to K=100\n"
     ]
    },
    {
     "data": {
      "text/plain": [
       "0.4326955524607758"
      ]
     },
     "execution_count": 87,
     "metadata": {},
     "output_type": "execute_result"
    }
   ],
   "source": [
    "print \"Validation Root Mean Square Error with PCA dimensionality reduction to K=%d\" % K\n",
    "validationRMSEpca100 = getRMSE(trueTargets=yVal, predictions=getPredictions(Xvalid100, weights[1:], weights[0]))\n",
    "validationRMSEpca100"
   ]
  },
  {
   "cell_type": "markdown",
   "metadata": {},
   "source": [
    "By increasing the number of principal components we are including more information in the model and we see that we have approached the RMSE of the original experiment but with much fewer attributes, only 100 in comparison to 379. Again our computations are going to be faster.\n",
    "\n",
    "The RMSE of K=100 is smaller, better, than the RMSE for K=10 which is expected because we have included more information in the model. But as we are adding information we see that the training error is deviating from the validation error because these peculiarities of the training data start to re-appear. The gap is still much closer though."
   ]
  },
  {
   "cell_type": "markdown",
   "metadata": {},
   "source": [
    "## 3b"
   ]
  },
  {
   "cell_type": "code",
   "execution_count": 88,
   "metadata": {
    "collapsed": false
   },
   "outputs": [
    {
     "data": {
      "text/plain": [
       "(array([  52.,    0.,    0.,    0.,  289.,    2.,    3.,    0.,    0.,\n",
       "           1.,    2.,    2.,    3.,    1.,    3.,    3.,    3.,    3.,\n",
       "           3.,    9.]),\n",
       " array([ -2.50000000e-01,  -1.87548600e-01,  -1.25097200e-01,\n",
       "         -6.26458000e-02,  -1.94400000e-04,   6.22570000e-02,\n",
       "          1.24708400e-01,   1.87159800e-01,   2.49611200e-01,\n",
       "          3.12062600e-01,   3.74514000e-01,   4.36965400e-01,\n",
       "          4.99416800e-01,   5.61868200e-01,   6.24319600e-01,\n",
       "          6.86771000e-01,   7.49222400e-01,   8.11673800e-01,\n",
       "          8.74125200e-01,   9.36576600e-01,   9.99028000e-01]),\n",
       " <a list of 20 Patch objects>)"
      ]
     },
     "execution_count": 88,
     "metadata": {},
     "output_type": "execute_result"
    },
    {
     "data": {
      "image/png": "[encoded data removed]",
      "text/plain": [
       "<matplotlib.figure.Figure at 0x7fe7880e4cd0>"
      ]
     },
     "metadata": {},
     "output_type": "display_data"
    }
   ],
   "source": [
    "#Plot a histogram of the values of the 46th feature (index 45 in python).\n",
    "index = 45\n",
    "plt.hist(Xtr[index],bins=20)"
   ]
  },
  {
   "cell_type": "code",
   "execution_count": 89,
   "metadata": {
    "collapsed": false
   },
   "outputs": [
    {
     "name": "stdout",
     "output_type": "stream",
     "text": [
      "\n"
     ]
    },
    {
     "data": {
      "image/png": "[encoded data removed]",
      "text/plain": [
       "<matplotlib.figure.Figure at 0x7fe77964bd50>"
      ]
     },
     "metadata": {},
     "output_type": "display_data"
    }
   ],
   "source": [
    "fig, axes = plt.subplots(nrows=2, ncols=2)\n",
    "ax0, ax1, ax2, ax3 = axes.flat\n",
    "ax0.hist(Xtr[0],bins=20)\n",
    "ax1.hist(Xtr[-1],bins=20)\n",
    "ax2.hist(Xtr[100],bins=20)\n",
    "ax3.hist(Xtr[200],bins=20)\n",
    "print"
   ]
  },
  {
   "cell_type": "markdown",
   "metadata": {},
   "source": [
    "By plotting these randomly selected plots and the plot with index 45, above, we notice that lots of features are near to zero and -0.25"
   ]
  },
  {
   "cell_type": "code",
   "execution_count": 90,
   "metadata": {
    "collapsed": true
   },
   "outputs": [],
   "source": [
    "totalElements = Xtr.shape[0] * Xtr.shape[1]"
   ]
  },
  {
   "cell_type": "code",
   "execution_count": 91,
   "metadata": {
    "collapsed": true
   },
   "outputs": [],
   "source": [
    "target = -0.25"
   ]
  },
  {
   "cell_type": "code",
   "execution_count": 92,
   "metadata": {
    "collapsed": false
   },
   "outputs": [
    {
     "data": {
      "text/plain": [
       "2297040"
      ]
     },
     "execution_count": 92,
     "metadata": {},
     "output_type": "execute_result"
    }
   ],
   "source": [
    "count = len(Xtr[Xtr==target])\n",
    "count"
   ]
  },
  {
   "cell_type": "code",
   "execution_count": 93,
   "metadata": {
    "collapsed": false
   },
   "outputs": [
    {
     "name": "stdout",
     "output_type": "stream",
     "text": [
      "The fraction of the values in training matrix that are equal to -0.250000 is 0.148716\n"
     ]
    }
   ],
   "source": [
    "print \"The fraction of the values in training matrix that are equal to %f is %f\" %\\\n",
    "    (target, float(count) / float(totalElements))"
   ]
  },
  {
   "cell_type": "code",
   "execution_count": 94,
   "metadata": {
    "collapsed": true
   },
   "outputs": [],
   "source": [
    "target = 0"
   ]
  },
  {
   "cell_type": "code",
   "execution_count": 95,
   "metadata": {
    "collapsed": false
   },
   "outputs": [
    {
     "data": {
      "text/plain": [
       "10163563"
      ]
     },
     "execution_count": 95,
     "metadata": {},
     "output_type": "execute_result"
    }
   ],
   "source": [
    "count = len(Xtr[Xtr==target])\n",
    "count"
   ]
  },
  {
   "cell_type": "code",
   "execution_count": 96,
   "metadata": {
    "collapsed": false
   },
   "outputs": [
    {
     "name": "stdout",
     "output_type": "stream",
     "text": [
      "The fraction of the values in training matrix that are equal to 0 is 0.658016\n"
     ]
    }
   ],
   "source": [
    "print \"The fraction of the values in training matrix that are equal to %d is %f\" %\\\n",
    "    (target, float(count) / float(totalElements))"
   ]
  },
  {
   "cell_type": "code",
   "execution_count": 97,
   "metadata": {
    "collapsed": true
   },
   "outputs": [],
   "source": [
    "aug_fn = lambda X : np.hstack([X, X==0, X<0])"
   ]
  },
  {
   "cell_type": "code",
   "execution_count": 98,
   "metadata": {
    "collapsed": false
   },
   "outputs": [],
   "source": [
    "Xtr_augmented = aug_fn(Xtr)"
   ]
  },
  {
   "cell_type": "code",
   "execution_count": 99,
   "metadata": {
    "collapsed": false
   },
   "outputs": [
    {
     "data": {
      "text/plain": [
       "(40754, 1137)"
      ]
     },
     "execution_count": 99,
     "metadata": {},
     "output_type": "execute_result"
    }
   ],
   "source": [
    "Xtr_augmented.shape"
   ]
  },
  {
   "cell_type": "code",
   "execution_count": 100,
   "metadata": {
    "collapsed": false
   },
   "outputs": [
    {
     "data": {
      "text/plain": [
       "(1138,)"
      ]
     },
     "execution_count": 100,
     "metadata": {},
     "output_type": "execute_result"
    }
   ],
   "source": [
    "weights = fit_linreg(Xtr_augmented, yTrain, alpha)\n",
    "weights.shape"
   ]
  },
  {
   "cell_type": "code",
   "execution_count": 101,
   "metadata": {
    "collapsed": false
   },
   "outputs": [
    {
     "data": {
      "text/plain": [
       "0.3178319185485654"
      ]
     },
     "execution_count": 101,
     "metadata": {},
     "output_type": "execute_result"
    }
   ],
   "source": [
    "trainingRMSEbinaryAugmentation = getRMSE(trueTargets=yTrain, predictions=getPredictions(Xtr_augmented, weights[1:], weights[0]))\n",
    "trainingRMSEbinaryAugmentation"
   ]
  },
  {
   "cell_type": "code",
   "execution_count": 102,
   "metadata": {
    "collapsed": false
   },
   "outputs": [
    {
     "data": {
      "text/plain": [
       "(5785, 1137)"
      ]
     },
     "execution_count": 102,
     "metadata": {},
     "output_type": "execute_result"
    }
   ],
   "source": [
    "Xvalid_binary_aug = aug_fn(Xvalid)\n",
    "Xvalid_binary_aug.shape"
   ]
  },
  {
   "cell_type": "code",
   "execution_count": 103,
   "metadata": {
    "collapsed": false
   },
   "outputs": [
    {
     "data": {
      "text/plain": [
       "0.3770058378403649"
      ]
     },
     "execution_count": 103,
     "metadata": {},
     "output_type": "execute_result"
    }
   ],
   "source": [
    "testingRMSEbinaryAugmentation = getRMSE(trueTargets=yVal, predictions=getPredictions(Xvalid_binary_aug, weights[1:], weights[0]))\n",
    "testingRMSEbinaryAugmentation"
   ]
  },
  {
   "cell_type": "markdown",
   "metadata": {},
   "source": [
    "We notice that after applying the binary augmentation (which tripled the number of our attributes though) we managed to achieve a lower RMSE for both the training and validation error"
   ]
  },
  {
   "cell_type": "markdown",
   "metadata": {},
   "source": [
    "The error goes down, thus the model improves, because all of those zeros present in the input array when multiplied by the weights they \"kill\" the weights and the model becomes inflexible.\n",
    "\n",
    "One more reason is that the negative values seem like a special category which is treated like a number. By making it binary we treat it as we would treat binary categories in linear regression.\n",
    "\n",
    "Another reason might be because we are doing linear regression and there is not really a linear relationship between our data and our outputs/targets variables"
   ]
  },
  {
   "cell_type": "markdown",
   "metadata": {},
   "source": [
    "## 4. Inverted Classification Tasks"
   ]
  },
  {
   "cell_type": "code",
   "execution_count": 104,
   "metadata": {
    "collapsed": true
   },
   "outputs": [],
   "source": [
    "from ct_support_code import minimize_list, logreg_cost"
   ]
  },
  {
   "cell_type": "code",
   "execution_count": 105,
   "metadata": {
    "collapsed": true
   },
   "outputs": [],
   "source": [
    "K = 10 # number of thresholded classification problems to fit"
   ]
  },
  {
   "cell_type": "code",
   "execution_count": 106,
   "metadata": {
    "collapsed": false
   },
   "outputs": [
    {
     "data": {
      "text/plain": [
       "2.2265180851800834"
      ]
     },
     "execution_count": 106,
     "metadata": {},
     "output_type": "execute_result"
    }
   ],
   "source": [
    "mx = np.max(yTrain)\n",
    "mx"
   ]
  },
  {
   "cell_type": "code",
   "execution_count": 107,
   "metadata": {
    "collapsed": false
   },
   "outputs": [
    {
     "data": {
      "text/plain": [
       "-1.8679386519531087"
      ]
     },
     "execution_count": 107,
     "metadata": {},
     "output_type": "execute_result"
    }
   ],
   "source": [
    "mn = np.min(yTrain)\n",
    "mn"
   ]
  },
  {
   "cell_type": "code",
   "execution_count": 108,
   "metadata": {
    "collapsed": false
   },
   "outputs": [
    {
     "data": {
      "text/plain": [
       "0.3722233397393811"
      ]
     },
     "execution_count": 108,
     "metadata": {},
     "output_type": "execute_result"
    }
   ],
   "source": [
    "hh = (mx-mn)/(K+1)\n",
    "hh"
   ]
  },
  {
   "cell_type": "code",
   "execution_count": 109,
   "metadata": {
    "collapsed": false
   },
   "outputs": [
    {
     "data": {
      "text/plain": [
       "array([-1.49571531, -1.12349197, -0.75126863, -0.37904529, -0.00682195,\n",
       "        0.36540139,  0.73762473,  1.10984807,  1.48207141,  1.85429475])"
      ]
     },
     "execution_count": 109,
     "metadata": {},
     "output_type": "execute_result"
    }
   ],
   "source": [
    "thresholds = np.linspace(mn+hh, mx-hh, num=K, endpoint=True)\n",
    "thresholds"
   ]
  },
  {
   "cell_type": "code",
   "execution_count": 110,
   "metadata": {
    "collapsed": true
   },
   "outputs": [],
   "source": [
    "def fitLogisticRegression(X, yy, alpha):\n",
    "    D = X.shape[1]\n",
    "    args = (X, yy, alpha)\n",
    "    init  = (np.zeros(D), np.array(0)) #initialize weights and biases to zero and start from there\n",
    "    #init  = (np.zeros(D), 0) #actually same thing\n",
    "    ww, bb = minimize_list(logreg_cost, init, args)\n",
    "    return ww, bb"
   ]
  },
  {
   "cell_type": "code",
   "execution_count": 111,
   "metadata": {
    "collapsed": true
   },
   "outputs": [],
   "source": [
    "paramsCollection = []"
   ]
  },
  {
   "cell_type": "code",
   "execution_count": 112,
   "metadata": {
    "collapsed": false
   },
   "outputs": [],
   "source": [
    "for kk in range(K):\n",
    "    labels = yTrain > thresholds[kk]\n",
    "    #labels (boolean) and labels*1 (which is ones and zeros) has the same behavior in python\n",
    "    params = fitLogisticRegression(Xtr, labels, alpha)\n",
    "    paramsCollection.append(params)"
   ]
  },
  {
   "cell_type": "code",
   "execution_count": 113,
   "metadata": {
    "collapsed": false
   },
   "outputs": [],
   "source": [
    "def logisticRegression(X, w, b):\n",
    "    X = np.hstack((np.ones((len(X), 1)),X))\n",
    "    w = np.concatenate((np.array([b]), w))\n",
    "    return 1 / (1 + np.exp(- X.dot(w)))"
   ]
  },
  {
   "cell_type": "code",
   "execution_count": 114,
   "metadata": {
    "collapsed": false
   },
   "outputs": [],
   "source": [
    "#just initialising with -1 to make sure that if we see a zero or an one it comes from the logistic regression and\n",
    "#not because of our initialization\n",
    "probsTrain = -np.ones((len(Xtr),K))"
   ]
  },
  {
   "cell_type": "code",
   "execution_count": 115,
   "metadata": {
    "collapsed": false
   },
   "outputs": [],
   "source": [
    "for i, params in enumerate(paramsCollection):\n",
    "    probsTrain[:, i] = logisticRegression(X= Xtr, w=params[0], b=params[1])"
   ]
  },
  {
   "cell_type": "code",
   "execution_count": 116,
   "metadata": {
    "collapsed": false
   },
   "outputs": [
    {
     "data": {
      "text/plain": [
       "(40754, 10)"
      ]
     },
     "execution_count": 116,
     "metadata": {},
     "output_type": "execute_result"
    }
   ],
   "source": [
    "probsTrain.shape"
   ]
  },
  {
   "cell_type": "code",
   "execution_count": 117,
   "metadata": {
    "collapsed": false
   },
   "outputs": [
    {
     "data": {
      "text/plain": [
       "array([[  9.96793793e-01,   7.71478616e-02,   8.35548478e-04,\n",
       "          3.34252213e-04,   8.82304343e-04,   3.81492646e-04,\n",
       "          1.47085018e-04,   2.59552076e-05,   1.00197970e-06,\n",
       "          2.85093492e-06],\n",
       "       [  9.97196504e-01,   3.65736517e-02,   5.55120134e-04,\n",
       "          6.93762470e-04,   3.12478303e-03,   4.50276758e-04,\n",
       "          2.91632804e-04,   3.34887243e-05,   2.77678011e-06,\n",
       "          4.55765983e-06],\n",
       "       [  9.97595483e-01,   3.78427978e-02,   5.41703673e-04,\n",
       "          9.14565893e-04,   3.81475234e-03,   4.28759522e-04,\n",
       "          2.26465379e-04,   2.69257117e-05,   3.73049278e-06,\n",
       "          4.58520602e-06],\n",
       "       [  9.97866754e-01,   5.84546716e-02,   3.66980495e-04,\n",
       "          5.90636557e-04,   8.42530012e-04,   1.88923319e-04,\n",
       "          9.91816112e-05,   1.91489189e-05,   8.32376037e-06,\n",
       "          3.82256053e-06],\n",
       "       [  9.97709884e-01,   5.49115080e-02,   3.59104887e-04,\n",
       "          4.97237521e-04,   9.58534312e-04,   1.97973117e-04,\n",
       "          8.85213826e-05,   1.57358347e-05,   7.92454692e-06,\n",
       "          3.47352856e-06]])"
      ]
     },
     "execution_count": 117,
     "metadata": {},
     "output_type": "execute_result"
    }
   ],
   "source": [
    "probsTrain[:5, :]"
   ]
  },
  {
   "cell_type": "markdown",
   "metadata": {},
   "source": [
    "Now let's fit a regularized linear regression model (alpha = 10) to our transformed 10-dimensional training set"
   ]
  },
  {
   "cell_type": "code",
   "execution_count": 118,
   "metadata": {
    "collapsed": false
   },
   "outputs": [
    {
     "data": {
      "text/plain": [
       "10"
      ]
     },
     "execution_count": 118,
     "metadata": {},
     "output_type": "execute_result"
    }
   ],
   "source": [
    "alpha = 10\n",
    "alpha"
   ]
  },
  {
   "cell_type": "code",
   "execution_count": 119,
   "metadata": {
    "collapsed": false
   },
   "outputs": [
    {
     "data": {
      "text/plain": [
       "(11,)"
      ]
     },
     "execution_count": 119,
     "metadata": {},
     "output_type": "execute_result"
    }
   ],
   "source": [
    "weights = fit_linreg(probsTrain, yTrain, alpha)\n",
    "weights.shape"
   ]
  },
  {
   "cell_type": "code",
   "execution_count": 120,
   "metadata": {
    "collapsed": false,
    "scrolled": true
   },
   "outputs": [],
   "source": [
    "ww_5 = weights[1:].copy() #just storing the weights for question 5\n",
    "bb_5 = weights[0].copy()"
   ]
  },
  {
   "cell_type": "code",
   "execution_count": 121,
   "metadata": {
    "collapsed": false
   },
   "outputs": [
    {
     "name": "stdout",
     "output_type": "stream",
     "text": [
      "Training RMSE for our reduced by the classification via logistic regression we used above is\n"
     ]
    },
    {
     "data": {
      "text/plain": [
       "0.13799833707562892"
      ]
     },
     "execution_count": 121,
     "metadata": {},
     "output_type": "execute_result"
    }
   ],
   "source": [
    "trainingRMSE = getRMSE(trueTargets=yTrain, predictions=getPredictions(probsTrain, weights[1:], weights[0]))\n",
    "print \"Training RMSE for our reduced by the classification via logistic regression we used above is\"\n",
    "trainingRMSE"
   ]
  },
  {
   "cell_type": "code",
   "execution_count": 122,
   "metadata": {
    "collapsed": false
   },
   "outputs": [],
   "source": [
    "#just initialising with -1 to make sure that if we see a zero or an one it comes from the logistic regression and\n",
    "#not because of our initialization\n",
    "probsVal = -np.ones((len(Xvalid),K))\n",
    "for i, params in enumerate(paramsCollection):\n",
    "    probsVal[:, i] = logisticRegression(X=Xvalid, w=params[0], b=params[1])"
   ]
  },
  {
   "cell_type": "code",
   "execution_count": 123,
   "metadata": {
    "collapsed": false
   },
   "outputs": [
    {
     "name": "stdout",
     "output_type": "stream",
     "text": [
      "Testing RMSE for our reduced by the classification via logistic regression we used above is\n"
     ]
    },
    {
     "data": {
      "text/plain": [
       "0.25151779052868917"
      ]
     },
     "execution_count": 123,
     "metadata": {},
     "output_type": "execute_result"
    }
   ],
   "source": [
    "testingRMSE = getRMSE(trueTargets=yVal, predictions=getPredictions(probsVal, weights[1:], weights[0]))\n",
    "print \"Testing RMSE for our reduced by the classification via logistic regression we used above is\"\n",
    "testingRMSE"
   ]
  },
  {
   "cell_type": "markdown",
   "metadata": {},
   "source": [
    "We see here that we have improved the model a lot by doing this simple 10 different classifications of the data. The RMSE of both training and validation sets have been improved. We tried to reduce the dimensionality with PCA. However the PCA can only do a (or I must say the best) linear combination of out features. It does that to give a projection of the data on the hyperplane which is parallel to where the variance of the data is maximum. But still we must consider that the best thing that it can do is do a linear combination of the features.  \n",
    "By doing logistic regression we have imposed some non-linearities which obviously were appropriate for the current data and the RMSE is lower than before."
   ]
  },
  {
   "cell_type": "markdown",
   "metadata": {},
   "source": [
    "## 5. Small Neural Network"
   ]
  },
  {
   "cell_type": "code",
   "execution_count": 124,
   "metadata": {
    "collapsed": true
   },
   "outputs": [],
   "source": [
    "seed = 16011984"
   ]
  },
  {
   "cell_type": "code",
   "execution_count": 125,
   "metadata": {
    "collapsed": true
   },
   "outputs": [],
   "source": [
    "rng = np.random.RandomState(seed=0)"
   ]
  },
  {
   "cell_type": "code",
   "execution_count": 126,
   "metadata": {
    "collapsed": true
   },
   "outputs": [],
   "source": [
    "from ct_support_code import nn_cost, minimize_list"
   ]
  },
  {
   "cell_type": "markdown",
   "metadata": {},
   "source": [
    "We understand here that we have not done full back propagation and therefore we have fitted the two layers of this model separately.\n",
    "\n",
    "So here we are building a model with two layers or to be more explicit we build a model with a single layer neural network plus a linear regression layer"
   ]
  },
  {
   "cell_type": "markdown",
   "metadata": {},
   "source": [
    "![alt text](https://s20.postimg.org/ixvissoel/20161106_154202.jpg \"Single Layer Neural Network + Linear Regression\")"
   ]
  },
  {
   "cell_type": "code",
   "execution_count": 127,
   "metadata": {
    "collapsed": true
   },
   "outputs": [],
   "source": [
    "def getRandomParams(D, K, factor = 1e-1):\n",
    "    \"\"\"D dimensionality of inputs, K dimensionality of outputs\"\"\"\n",
    "    ww = rng.randn(K) * factor\n",
    "    bb = rng.randn(1) * factor\n",
    "    V =  rng.randn(K, D) * factor\n",
    "    bk = rng.randn(K)\n",
    "    \n",
    "    return (ww, bb, V, bk)"
   ]
  },
  {
   "cell_type": "code",
   "execution_count": 128,
   "metadata": {
    "collapsed": false
   },
   "outputs": [
    {
     "name": "stdout",
     "output_type": "stream",
     "text": [
      "(10,)\n",
      "(1,)\n",
      "(10, 379)\n",
      "(10,)\n"
     ]
    }
   ],
   "source": [
    "initialParams = getRandomParams(D=Xtr.shape[1], K=10)\n",
    "for initialParam in initialParams:\n",
    "    print initialParam.shape"
   ]
  },
  {
   "cell_type": "code",
   "execution_count": 129,
   "metadata": {
    "collapsed": false
   },
   "outputs": [],
   "source": [
    "fittedParams = minimize_list(nn_cost, initialParams, (Xtr, yTrain, alpha))"
   ]
  },
  {
   "cell_type": "code",
   "execution_count": 130,
   "metadata": {
    "collapsed": false
   },
   "outputs": [
    {
     "name": "stdout",
     "output_type": "stream",
     "text": [
      "(10,)\n",
      "(1,)\n",
      "(10, 379)\n",
      "(10,)\n"
     ]
    }
   ],
   "source": [
    "for fittedParam in fittedParams:\n",
    "    print fittedParam.shape"
   ]
  },
  {
   "cell_type": "code",
   "execution_count": 131,
   "metadata": {
    "collapsed": false
   },
   "outputs": [
    {
     "name": "stdout",
     "output_type": "stream",
     "text": [
      "printing Root Mean Square Error for some random initial weights\n"
     ]
    },
    {
     "data": {
      "text/plain": [
       "0.09688088075040721"
      ]
     },
     "execution_count": 131,
     "metadata": {},
     "output_type": "execute_result"
    }
   ],
   "source": [
    "rmse = getRMSE(trueTargets=yTrain,predictions=nn_cost(fittedParams, Xtr))\n",
    "print \"printing Root Mean Square Error for some random initial weights\"\n",
    "rmse"
   ]
  },
  {
   "cell_type": "markdown",
   "metadata": {},
   "source": [
    "### 5a\n",
    "Let's try and initialize the model a few times with random parameters that derive from the standard normal distribution multiplied with different factors"
   ]
  },
  {
   "cell_type": "code",
   "execution_count": 132,
   "metadata": {
    "collapsed": false
   },
   "outputs": [
    {
     "data": {
      "text/plain": [
       "array([  1.00000000e-02,   1.00000000e-01,   1.00000000e+00,\n",
       "         1.00000000e+01,   1.00000000e+02])"
      ]
     },
     "execution_count": 132,
     "metadata": {},
     "output_type": "execute_result"
    }
   ],
   "source": [
    "factors = np.logspace(-2, 2, 5)\n",
    "factors"
   ]
  },
  {
   "cell_type": "code",
   "execution_count": 133,
   "metadata": {
    "collapsed": false
   },
   "outputs": [],
   "source": [
    "def fitAndScore(factor, K=10):\n",
    "    fittedParams = minimize_list(nn_cost, getRandomParams(D=Xtr.shape[1],K=K,factor=factor), (Xtr,yTrain,alpha))\n",
    "    return (\n",
    "        getRMSE(trueTargets=yTrain,predictions=nn_cost(fittedParams, Xtr)),\n",
    "        getRMSE(trueTargets=yVal,predictions=nn_cost(fittedParams, Xvalid))\n",
    "    )\n"
   ]
  },
  {
   "cell_type": "code",
   "execution_count": 134,
   "metadata": {
    "collapsed": false
   },
   "outputs": [
    {
     "name": "stderr",
     "output_type": "stream",
     "text": [
      "ct_support_code.py:201: RuntimeWarning: overflow encountered in exp\n",
      "  P = 1 / (1 + np.exp(-A)) # N,K\n"
     ]
    }
   ],
   "source": [
    "scores = []\n",
    "\n",
    "for factor in factors:\n",
    "    scores.append(\n",
    "        fitAndScore(factor)\n",
    "    )"
   ]
  },
  {
   "cell_type": "code",
   "execution_count": 135,
   "metadata": {
    "collapsed": true
   },
   "outputs": [],
   "source": [
    "trainErrors = [s[0] for s in scores]\n",
    "testingErrors = [s[1] for s in scores]"
   ]
  },
  {
   "cell_type": "code",
   "execution_count": 136,
   "metadata": {
    "collapsed": false
   },
   "outputs": [
    {
     "data": {
      "image/png": "[encoded data removed]",
      "text/plain": [
       "<matplotlib.figure.Figure at 0x7fe7880ca4d0>"
      ]
     },
     "metadata": {},
     "output_type": "display_data"
    }
   ],
   "source": [
    "fig = plt.figure()\n",
    "plt.hold(True)\n",
    "plt.plot(np.log10(factors), trainErrors, 'b.-')\n",
    "plt.plot(np.log10(factors),testingErrors, 'r.-')\n",
    "plt.hold(False)\n",
    "plt.legend(['Training Errors', 'Testing Erros'])\n",
    "plt.show()"
   ]
  },
  {
   "cell_type": "markdown",
   "metadata": {},
   "source": [
    "From the plot above we see that the randomly initially weights give a non-high-variance RMSE ~0.1 for training and ~0.25 for validation but when the weights are very high the sigmoids of the neural network saturate and we get a very bad RMSE"
   ]
  },
  {
   "cell_type": "markdown",
   "metadata": {},
   "source": [
    "Let's take the mean, max and min RMSE of both training and validation set for the above experiment excluding the value when the saturation occured"
   ]
  },
  {
   "cell_type": "code",
   "execution_count": 137,
   "metadata": {
    "collapsed": false
   },
   "outputs": [],
   "source": [
    "trainErrorsFixed = trainErrors[:-1]"
   ]
  },
  {
   "cell_type": "code",
   "execution_count": 138,
   "metadata": {
    "collapsed": false
   },
   "outputs": [
    {
     "data": {
      "text/plain": [
       "(0.09814633866350778, 0.10493963986713477, 0.10062341631076448)"
      ]
     },
     "execution_count": 138,
     "metadata": {},
     "output_type": "execute_result"
    }
   ],
   "source": [
    "minTrainRMSE, maxTrainRMSE, meanTrainRMSE = min(trainErrorsFixed), max(trainErrorsFixed), np.mean(trainErrorsFixed)\n",
    "minTrainRMSE, maxTrainRMSE, meanTrainRMSE"
   ]
  },
  {
   "cell_type": "code",
   "execution_count": 139,
   "metadata": {
    "collapsed": true
   },
   "outputs": [],
   "source": [
    "testingErrorsFixed = testingErrors[:-1]"
   ]
  },
  {
   "cell_type": "code",
   "execution_count": 140,
   "metadata": {
    "collapsed": false
   },
   "outputs": [
    {
     "data": {
      "text/plain": [
       "(0.25743953943756787, 0.26262016764929347, 0.26061968002985814)"
      ]
     },
     "execution_count": 140,
     "metadata": {},
     "output_type": "execute_result"
    }
   ],
   "source": [
    "minTestRMSE, maxTestRMSE, meanTestRMSE = min(testingErrorsFixed), max(testingErrorsFixed), np.mean(testingErrorsFixed)\n",
    "minTestRMSE, maxTestRMSE, meanTestRMSE"
   ]
  },
  {
   "cell_type": "markdown",
   "metadata": {},
   "source": [
    "### 5b\n",
    "Let's try and use the weights from the question 4 as the initial parameters and see if this training layer by layer is useful for initialization"
   ]
  },
  {
   "cell_type": "code",
   "execution_count": 141,
   "metadata": {
    "collapsed": false
   },
   "outputs": [
    {
     "data": {
      "text/plain": [
       "[(array([ -1.80437302e-01,   1.67533871e-01,   8.61282020e-02,\n",
       "          -5.83533734e-02,  -2.72541556e-01,   1.04598273e-02,\n",
       "           9.16977667e-02,   1.47728773e-01,   1.13017900e-01,\n",
       "           1.29221112e-02,  -2.78694450e-01,   5.78223086e-02,\n",
       "          -3.08833518e-03,  -1.36147721e-01,  -2.20233374e-01,\n",
       "           4.92464200e-02,   6.59020660e-02,   4.70521424e-02,\n",
       "           1.82832566e-01,   9.42849169e-02,  -3.76500195e-02,\n",
       "          -4.01557677e-02,  -3.42812971e-01,  -2.09193694e-01,\n",
       "          -3.32221638e-01,  -8.31383809e-02,  -2.63569683e-02,\n",
       "           2.01040638e-03,  -3.23568999e-02,   3.43625389e-02,\n",
       "           1.10818328e-01,   3.85655344e-01,  -1.98375452e-01,\n",
       "          -3.92087274e-01,  -1.31271931e-02,  -6.02863279e-01,\n",
       "          -8.24565257e-01,  -2.54352898e-02,  -6.50608116e-02,\n",
       "          -1.25150687e-01,   4.18667771e-02,   7.02351165e-02,\n",
       "          -1.15580001e-01,   1.68518812e-01,   3.70348137e-01,\n",
       "           1.95061841e-01,  -7.83063331e-01,  -2.83922256e-02,\n",
       "          -9.21542036e-02,   4.28960434e-02,  -1.32713357e-02,\n",
       "           1.32415896e-02,   1.94977787e-01,   1.28323012e-01,\n",
       "           3.05869506e-01,   4.46978983e-02,  -2.77898748e-01,\n",
       "          -8.23303155e-02,   4.22281893e-02,   9.19968152e-02,\n",
       "          -8.17717982e-02,  -5.69578748e-02,   1.52476167e-01,\n",
       "           1.78339145e-01,  -2.27345394e-01,  -5.43861246e-01,\n",
       "           5.42733444e-03,   4.10772866e-02,  -1.19114988e-01,\n",
       "           7.92999435e-02,  -1.09649619e-01,   1.52497394e-02,\n",
       "           3.01660128e-01,  -3.42191051e-02,  -6.43773556e-01,\n",
       "          -1.07517023e-01,  -9.21542036e-02,   4.28960434e-02,\n",
       "           8.70263558e-02,   2.00772624e-01,   2.81852263e-02,\n",
       "          -3.89490851e-01,  -4.94538562e-01,  -6.58281135e-01,\n",
       "          -3.71885621e-01,  -4.22564067e-02,  -6.64101852e-02,\n",
       "          -1.27593215e-01,   8.72003777e-02,  -8.14155436e-02,\n",
       "           1.99157794e-01,  -2.69438164e-01,  -3.17860898e-01,\n",
       "          -1.11243048e-01,  -1.09652730e-01,  -5.96485045e-03,\n",
       "          -2.79676323e-02,   4.30593154e-02,  -7.45765492e-02,\n",
       "           5.91669902e-02,   6.18169984e-02,   2.77168267e-02,\n",
       "          -9.19148115e-02,   2.10968844e-01,   1.73231882e-01,\n",
       "           2.69984639e-02,   1.61128432e-01,   8.57870964e-02,\n",
       "          -9.50226208e-02,   9.30531474e-02,   1.52770601e-01,\n",
       "           1.07805457e-02,  -1.75505190e-01,  -9.35817145e-02,\n",
       "           8.95182809e-02,   9.32049248e-02,   1.10206007e-01,\n",
       "           1.41045292e-02,  -6.84443422e-02,  -2.42683027e-01,\n",
       "          -1.35980232e-01,  -7.84906371e-02,  -1.09161883e-01,\n",
       "          -1.31117198e-01,   1.14129574e-01,   1.06682002e-01,\n",
       "           1.07530754e-01,   1.38702709e-02,   1.33118814e-02,\n",
       "           2.16098828e-01,   3.99507962e-02,  -2.34266870e-01,\n",
       "          -4.10236492e-01,  -2.65607303e-01,   4.62977364e-02,\n",
       "           3.95318187e-02,   1.55626525e-01,   9.11083432e-02,\n",
       "           3.05227116e-01,   1.36114667e-01,   1.94382637e-01,\n",
       "           5.41967514e-02,  -3.05807030e-01,  -3.69328368e-01,\n",
       "           8.87402288e-02,   9.97017928e-03,  -7.20603121e-03,\n",
       "           5.89659280e-02,   1.69872998e-01,  -2.02314600e-03,\n",
       "          -2.35793558e-01,   6.49156364e-03,  -2.16152944e-01,\n",
       "          -2.55645336e-01,  -1.02396195e-01,  -1.69664355e-02,\n",
       "          -5.46363300e-02,  -1.12623712e-01,   2.48897994e-01,\n",
       "           4.08907246e-01,   1.42836026e-01,   9.68043160e-02,\n",
       "          -1.66570610e-01,   6.56302759e-03,  -3.89560574e-01,\n",
       "          -1.15843039e-01,  -1.08571980e-01,   4.13310529e-02,\n",
       "           4.27189693e-01,   3.27163193e-01,   2.53628160e-01,\n",
       "           1.13082886e-01,  -1.25457451e-01,   6.71516702e-02,\n",
       "          -4.73844476e-01,  -1.16619286e-01,   3.96398143e-02,\n",
       "           3.45417661e-01,   3.20529431e-01,   2.03134024e-01,\n",
       "          -4.20261412e-02,   1.32225858e-01,   2.84068914e-01,\n",
       "          -7.16855505e-01,  -1.19281592e-01,   3.96398143e-02,\n",
       "           1.71904905e-01,   1.10892071e-01,   2.60871713e-01,\n",
       "           2.98664013e-02,  -2.22581179e-01,  -8.01017737e-02,\n",
       "          -6.72971826e-01,  -1.25608122e-01,  -1.01505576e-01,\n",
       "           4.13310529e-02,   3.94608109e-01,   1.45314909e-01,\n",
       "           1.37126146e-01,  -5.55954353e-02,  -1.66278720e-01,\n",
       "          -4.32786279e-01,  -5.20956017e-01,  -2.54727864e-02,\n",
       "          -6.46565062e-02,  -1.30975245e-01,   2.22444484e-01,\n",
       "           2.31691798e-01,   1.15384188e-01,   1.97121281e-01,\n",
       "          -3.31121214e-01,  -4.25976404e-01,  -1.24734806e-01,\n",
       "           1.58270254e-02,  -1.76764507e-02,   6.62670845e-02,\n",
       "           6.88681077e-02,   8.61519209e-02,   8.05962399e-02,\n",
       "           1.10276207e-01,  -5.39477636e-01,  -4.18597200e-01,\n",
       "           5.62646068e-02,   5.58138651e-02,   1.75924491e-01,\n",
       "           8.87260498e-02,   2.72657255e-02,  -1.21743999e-01,\n",
       "           2.21092482e-01,  -5.09187205e-02,  -6.04296198e-01,\n",
       "          -1.69541994e-01,   1.32169683e-01,   1.56163695e-01,\n",
       "           1.00862529e-01,   1.24976547e-02,   3.39329410e-02,\n",
       "           2.29553052e-01,  -1.87684615e-02,   1.17414242e-01,\n",
       "           9.67344609e-02,  -2.38402612e-03,   1.10146593e-01,\n",
       "           4.82724971e-02,  -1.68659632e-01,  -2.58586712e-01,\n",
       "           1.78739411e-01,   8.71791162e-02,   1.04685609e-01,\n",
       "           2.94650287e-02,  -2.85084174e-02,   6.81963213e-02,\n",
       "          -2.80098690e-01,   2.28734046e-01,   3.07743705e-01,\n",
       "           1.04136341e+00,   4.10083299e-01,   1.17102313e-02,\n",
       "          -1.59782269e-02,  -5.50601675e-02,  -6.49578998e-02,\n",
       "          -2.54517600e-02,  -1.76009155e-01,   1.35076995e-01,\n",
       "           1.74184261e-01,  -2.86587834e-01,  -1.33293644e-01,\n",
       "          -4.89700189e-02,  -2.63153793e-01,  -1.69317476e-01,\n",
       "          -2.92608191e-01,  -1.34626461e-01,  -4.38348138e-01,\n",
       "          -4.01056092e-01,  -2.67925958e-02,  -3.28478240e-05,\n",
       "          -2.14853235e-01,  -3.43102863e-02,  -1.64733135e-01,\n",
       "           1.98374632e-01,  -4.25189730e-01,   6.32841473e-02,\n",
       "          -1.33257923e-01,  -4.89700189e-02,  -1.30260495e-01,\n",
       "           1.78724738e-01,   1.90783516e-01,   4.44546057e-01,\n",
       "           2.83083528e-01,  -1.31254267e-02,  -1.62139957e-02,\n",
       "          -5.52472470e-02,  -1.51856357e-01,  -7.72075606e-02,\n",
       "           3.91239238e-01,   1.30052296e-01,   1.12224759e-01,\n",
       "           2.04074755e-02,  -2.34554585e-02,   3.44561469e-02,\n",
       "          -3.97184841e-03,   2.44945649e-01,   2.38252753e-01,\n",
       "          -9.25252084e-02,   2.90447326e-02,  -1.80192597e-02,\n",
       "           5.71391982e-02,   5.08568193e-02,   6.85326291e-02,\n",
       "           7.64118192e-02,  -1.36590435e-01,   8.30603738e-02,\n",
       "          -6.96750683e-02,   1.11096116e-02,   5.78563557e-02,\n",
       "           5.09678215e-02,   1.32514520e-01,  -1.71326141e-01,\n",
       "           3.30906490e-01,  -1.06547777e-01,  -6.49055331e-02,\n",
       "          -1.75149581e-01,  -2.01801839e-02,   3.48867005e-02,\n",
       "           1.67576633e-01,   1.88038775e-02,   8.75573454e-02,\n",
       "          -1.84720447e-01,  -2.14106353e-01,   2.23255597e-02,\n",
       "          -1.75478371e-02,  -5.61954446e-02,   1.86410326e-01,\n",
       "           7.21920687e-02,   9.87357308e-02,   1.01473102e-01,\n",
       "           6.60109782e-02,  -3.71910759e-02,  -1.33590719e-01,\n",
       "          -1.97606565e-02,   2.09521711e-01,   3.33718539e-02,\n",
       "           1.04726245e-02,   6.41419974e-03,  -1.77651628e-02,\n",
       "          -2.81714845e-02,  -9.46112726e-02,   1.59233550e-01,\n",
       "           3.69401839e-02,   6.63410147e-02,   7.76942746e-02,\n",
       "           3.93292616e-02,  -4.01794846e-02,  -1.38866262e-01,\n",
       "          -1.97606565e-02,   1.49672234e-01,  -3.39419749e-04,\n",
       "           7.91871964e-03,  -9.41424776e-02,  -8.92879811e-02,\n",
       "           2.07372745e-03,  -1.51438784e-02,  -5.62063821e-02,\n",
       "          -8.71033783e-02,  -2.32537848e-01,   2.35052640e-01,\n",
       "           2.70623801e-01,   1.57922966e-01,  -5.16571858e-02,\n",
       "          -2.28402588e-02,   6.85974508e-02,   9.51675477e-02,\n",
       "           9.09472725e-02,  -1.87634627e-02,  -7.42098218e-02,\n",
       "           1.49936007e-01,  -4.34395925e-02,   1.12418674e-01,\n",
       "           4.83893223e-02]), array(6.497942188511276)),\n",
       " (array([  2.38186310e-01,  -3.75190419e-03,   8.93913512e-02,\n",
       "          -2.82490958e-01,   4.69472216e-01,   2.42882105e-01,\n",
       "          -2.00537686e-01,   5.63909303e-01,   1.92793339e-01,\n",
       "           2.27984176e-02,   3.53588165e-01,   1.41801719e-01,\n",
       "          -7.96280460e-02,  -6.45611533e-01,  -2.79714365e-01,\n",
       "          -2.70433097e-02,  -2.37322613e-01,   1.46686441e-01,\n",
       "           4.42142448e-01,   1.33072600e-01,   2.67328369e-01,\n",
       "           3.71927569e-01,   3.67531342e-02,  -6.37831778e-01,\n",
       "          -4.15714654e-02,  -7.08187365e-01,  -1.72528254e-01,\n",
       "          -8.03864726e-02,   6.78260647e-02,   1.82892171e-01,\n",
       "          -2.67661946e-02,  -1.51098354e-01,  -2.81147836e-01,\n",
       "          -4.16906549e-01,  -2.50893335e-01,  -5.98260453e-01,\n",
       "          -3.81572610e-01,  -9.36306920e-02,  -9.44598358e-02,\n",
       "          -1.87670540e-01,  -2.89355531e-01,  -4.00320162e-01,\n",
       "          -7.23778502e-01,  -8.76463097e-01,  -9.42367732e-02,\n",
       "           3.00017147e-01,  -1.56299317e-02,  -1.67959078e-01,\n",
       "          -3.26005218e-01,   7.48367212e-03,  -5.72165491e-02,\n",
       "           1.33573425e-01,  -2.01428153e-01,  -2.39066209e-01,\n",
       "           2.50466956e-02,   1.65571380e-01,  -9.75214918e-02,\n",
       "          -2.40132105e-01,  -1.46795125e-02,   1.17924117e-01,\n",
       "           1.55431534e-01,  -7.98906452e-03,  -4.81414759e-01,\n",
       "          -5.92186528e-01,  -1.41739323e-02,  -3.26947044e-01,\n",
       "          -4.43551360e-01,  -1.15471300e-02,   9.38081955e-02,\n",
       "           7.37176159e-02,   3.45363029e-01,  -1.13732548e-01,\n",
       "          -3.76446702e-02,  -3.51192116e-01,  -5.32881532e-01,\n",
       "          -2.28898496e-01,  -3.26005218e-01,   7.48367212e-03,\n",
       "           5.64604588e-02,   1.19406286e-01,   1.34351609e-01,\n",
       "           1.25310908e-01,   2.35197331e-01,  -7.73997252e-01,\n",
       "          -4.60486758e-01,  -1.03027268e-01,  -9.60148757e-02,\n",
       "          -2.03775283e-01,   3.88426964e-02,   3.96304983e-01,\n",
       "           1.84348012e-01,  -2.13360696e-01,  -6.22549142e-02,\n",
       "          -4.58352647e-01,  -3.54177552e-02,  -4.79911634e-02,\n",
       "           1.33789937e-01,   1.30177070e-01,   3.03227918e-01,\n",
       "           3.97532463e-01,   3.18517500e-02,  -4.84392820e-01,\n",
       "          -1.40847691e-01,  -2.71670409e-01,   2.59358821e-01,\n",
       "           2.41781755e-02,   4.26705811e-01,   9.44492244e-02,\n",
       "          -1.27432443e-01,   1.70754015e-01,  -6.63165559e-02,\n",
       "          -6.94441465e-01,   4.25387259e-01,   3.21097250e-01,\n",
       "           3.10203423e-01,   5.07433222e-01,   2.00965703e-01,\n",
       "           3.28290240e-02,  -3.42703785e-01,   2.03078466e-01,\n",
       "          -1.07410702e-01,  -2.47093511e-01,   4.81932017e-01,\n",
       "           3.91412283e-01,   3.18877844e-01,   1.28562810e-01,\n",
       "          -2.52133644e-01,   3.25585713e-02,  -7.33378128e-01,\n",
       "           1.38068631e-01,   9.56701627e-02,   3.06598062e-01,\n",
       "           6.29708077e-02,   1.44599653e-01,   1.87392323e-01,\n",
       "          -3.04528472e-01,   8.76238547e-03,   4.76726335e-02,\n",
       "          -3.60284854e-01,  -9.94885012e-02,   2.85685593e-01,\n",
       "           3.12203697e-01,  -1.72519396e-01,  -1.53248363e-01,\n",
       "           1.22674387e-01,  -4.21363721e-02,   1.92521916e-01,\n",
       "           1.86860179e-01,  -8.88091473e-02,   3.16224216e-02,\n",
       "          -3.29590313e-01,   2.47383797e-01,  -2.71178829e-01,\n",
       "          -2.35833282e-01,  -2.56107715e-01,  -1.97835555e-01,\n",
       "          -9.12416911e-02,  -1.83594590e-01,  -6.69192460e-02,\n",
       "           3.27509282e-01,  -1.72278093e-01,   6.53030535e-02,\n",
       "          -1.27842610e-01,  -3.58928162e-01,  -4.94408143e-01,\n",
       "          -9.68291054e-02,  -3.39939972e-01,  -6.41372879e-02,\n",
       "          -2.51933634e-01,   3.45728097e-01,   5.11627292e-01,\n",
       "           3.90644574e-01,   2.15585075e-01,  -1.49854885e-01,\n",
       "          -4.38937002e-01,  -3.40936684e-01,  -9.33322336e-02,\n",
       "          -1.20427599e-01,   4.06984857e-01,   4.00233168e-01,\n",
       "           8.74446397e-02,   3.20756433e-01,  -1.78060831e-01,\n",
       "          -4.38668655e-01,  -3.50998341e-01,  -9.33322336e-02,\n",
       "           3.71110673e-02,   4.81878415e-01,  -4.69020779e-03,\n",
       "           8.60260004e-02,   1.45639288e-01,  -4.04532311e-01,\n",
       "          -4.51597131e-01,  -1.05313747e-01,  -3.41215309e-01,\n",
       "          -6.41372879e-02,  -1.77033664e-01,  -2.81055836e-01,\n",
       "          -2.80354562e-03,  -3.09489451e-02,  -3.40966105e-02,\n",
       "          -2.49469534e-01,  -3.62441349e-01,  -1.49617607e-01,\n",
       "          -8.86342102e-02,  -2.14068784e-01,   1.34872081e-01,\n",
       "          -5.81394354e-01,   2.65468142e-01,  -2.36998011e-02,\n",
       "          -3.78253296e-01,  -2.40861782e-01,  -7.93203935e-02,\n",
       "          -1.55625169e-01,   1.36026774e-01,   2.25286832e-01,\n",
       "           1.82228281e-01,  -1.00528434e-01,   4.90581222e-02,\n",
       "           8.66911081e-02,  -4.90809852e-01,  -2.64843405e-01,\n",
       "           2.77581562e-01,   7.28084960e-02,   4.42397538e-01,\n",
       "           1.27956908e-01,   2.21006022e-01,   2.19445656e-01,\n",
       "          -5.67341622e-01,  -6.31925121e-01,  -1.94017831e-01,\n",
       "           1.52980552e-02,   1.95516491e-01,   5.52380391e-01,\n",
       "           2.16329541e-01,   2.23452796e-02,  -1.48725474e-01,\n",
       "           3.85199290e-01,  -3.51884304e-01,  -3.32948196e-01,\n",
       "           4.42734584e-01,   2.53989539e-01,   3.57669742e-01,\n",
       "           1.93776025e-01,   4.32878567e-01,   8.12111723e-01,\n",
       "          -2.56582639e-01,   1.94677256e-01,   1.39330407e-01,\n",
       "          -6.53839539e-02,   1.39066153e-01,   3.24040872e-01,\n",
       "           6.24992131e-01,  -2.52263077e-03,  -3.55661251e-01,\n",
       "           4.82976776e-02,   2.29205789e-01,  -9.04284474e-02,\n",
       "          -4.36303700e-02,  -2.18632394e-01,  -3.13069518e-01,\n",
       "           2.19608553e-01,  -3.98906419e-02,  -2.71299931e-01,\n",
       "           1.50485756e-01,  -3.15008347e-01,  -2.47152068e-01,\n",
       "          -1.09551309e-01,  -3.47527014e-01,  -2.23154657e-01,\n",
       "          -4.59508302e-04,  -8.60807066e-02,  -3.50595437e-01,\n",
       "          -6.14548030e-01,   1.90663272e-01,   3.19277799e-03,\n",
       "          -3.04247039e-01,  -3.59370385e-01,   1.33327054e-01,\n",
       "          -4.80962969e-02,  -2.24936629e-01,  -5.22674877e-01,\n",
       "          -2.48930707e-01,  -1.09551309e-01,  -2.84385792e-01,\n",
       "          -1.55659744e-01,  -3.17535942e-01,  -1.52124098e-01,\n",
       "           4.28643693e-01,  -4.27163821e-03,  -4.53319648e-02,\n",
       "          -2.20038652e-01,  -3.71823174e-01,  -2.44993100e-02,\n",
       "           1.47729435e-01,   2.45839854e-01,   4.80282673e-01,\n",
       "           5.21303265e-02,   1.53667768e-01,   3.06411339e-01,\n",
       "          -1.23088726e-01,   5.27808827e-01,   3.36585615e-01,\n",
       "           3.90090711e-01,   1.54702393e-01,   1.10206455e-01,\n",
       "           3.66571239e-01,   2.01087723e-01,  -3.59829267e-01,\n",
       "           5.01239126e-01,   1.38300346e-01,   9.54110321e-02,\n",
       "           8.31888680e-02,   4.82366504e-02,   2.34506088e-01,\n",
       "           2.01544616e-01,  -7.37814853e-02,   4.46146665e-01,\n",
       "           1.45739644e-01,  -2.26135479e-01,  -1.34146069e-01,\n",
       "           2.50427156e-02,   1.32567753e-01,   3.03077731e-01,\n",
       "          -3.53963340e-01,   3.17367548e-01,   1.31311789e-01,\n",
       "           1.03329505e-01,   9.34737061e-02,   5.71644364e-02,\n",
       "          -1.60949636e-02,  -2.15227191e-01,   1.85578129e-02,\n",
       "           6.79453776e-01,   1.61640434e-01,   1.20381517e-01,\n",
       "           1.06907192e-01,  -1.61979539e-01,  -2.79422631e-01,\n",
       "          -5.27666671e-02,  -2.93264129e-01,   4.50021227e-01,\n",
       "           3.87343786e-02,   1.71573427e-02,  -4.55047492e-02,\n",
       "          -1.14582545e-01,  -2.40254103e-01,  -9.00799228e-02,\n",
       "           3.79835879e-01,   1.00257093e-01,   1.00229441e-01,\n",
       "           4.10754051e-02,  -1.64224892e-01,  -2.15937359e-01,\n",
       "          -5.27666671e-02,  -1.73837840e-01,   4.24713548e-01,\n",
       "           1.55324461e-01,   5.17686530e-02,   8.17360800e-02,\n",
       "           1.76206076e-02,  -4.42105251e-02,  -2.15945622e-01,\n",
       "          -2.85443979e-01,   2.49760770e-01,   9.98214023e-02,\n",
       "          -2.22366063e-01,  -6.90011540e-02,  -3.64901859e-02,\n",
       "           1.39195622e-01,   3.24928376e-01,  -6.80438877e-02,\n",
       "           3.52730077e-01,  -1.53688400e-01,  -8.14895740e-02,\n",
       "           8.78718558e-02,   9.67825327e-02,   1.81954155e-01,\n",
       "           1.93739080e-01]), array(4.009493626368537)),\n",
       " (array([ -3.40908750e-01,  -1.08462636e-02,   1.56122312e-01,\n",
       "           5.36202777e-01,   1.43310226e+00,   3.92903991e-01,\n",
       "          -1.77788731e-02,   1.62039220e-01,  -7.73456541e-01,\n",
       "          -1.75479670e-01,  -9.99633458e-02,  -2.92604272e-01,\n",
       "          -1.35859413e-01,   3.21658386e-01,  -7.38888726e-02,\n",
       "           3.76466296e-01,   2.74710050e-01,  -1.73805398e-01,\n",
       "           7.53543889e-01,   3.52522632e-02,  -1.63677168e-03,\n",
       "           7.85157406e-02,   1.51543698e-01,  -7.29938871e-01,\n",
       "          -1.75093821e-02,  -3.87991305e-01,   2.15408128e-01,\n",
       "           6.95242755e-02,   4.45328474e-01,   6.04543191e-01,\n",
       "          -2.60609794e-01,  -1.36698273e-01,  -5.67634128e-01,\n",
       "          -3.00110720e-01,   7.35154090e-01,  -8.90948904e-01,\n",
       "          -4.31677840e-01,   2.34404607e-01,  -2.12339383e-01,\n",
       "          -3.42880417e-01,  -8.02836698e-01,   5.36554018e-02,\n",
       "          -3.71663967e-01,  -5.21415261e-02,  -8.27703008e-01,\n",
       "          -1.70586556e-01,  -1.52758334e-01,  -2.22879711e-01,\n",
       "          -5.86580116e-01,  -5.42895013e-02,  -7.70774224e-01,\n",
       "          -1.71896862e-01,   1.85770322e-01,  -3.62676756e-01,\n",
       "          -9.60423681e-01,  -6.41180343e-01,  -5.64999418e-01,\n",
       "          -6.72598260e-01,  -3.27723765e-02,  -6.44327930e-01,\n",
       "           1.26841939e-01,   8.24407974e-01,  -1.27408652e-01,\n",
       "          -1.07600134e+00,  -8.49035941e-01,  -6.28148457e-01,\n",
       "          -6.65345873e-01,  -3.24475106e-02,  -1.53589360e-01,\n",
       "           4.99494349e-01,   4.45696629e-01,   3.72155413e-01,\n",
       "          -2.53705708e-01,  -6.47507795e-01,  -7.10026289e-02,\n",
       "          -2.29424082e-01,  -5.86580116e-01,  -5.42895013e-02,\n",
       "          -5.52710595e-02,  -5.27331014e-01,  -6.55353456e-02,\n",
       "           4.38473501e-01,   3.47966943e-01,  -1.74228561e-01,\n",
       "           1.27332743e-01,   2.01066188e-01,  -2.14137289e-01,\n",
       "          -3.63218488e-01,  -1.53404938e-01,  -6.98308448e-01,\n",
       "           9.61660358e-02,  -4.70882055e-01,   6.60989582e-01,\n",
       "           7.49493540e-01,  -3.54804640e-01,   5.82011641e-01,\n",
       "           3.22693282e-01,   6.03816284e-01,  -1.26471660e-01,\n",
       "          -2.74263849e-01,   3.76393862e-01,  -2.12549630e-01,\n",
       "           1.03962406e-01,   1.38581654e-01,   5.51033696e-01,\n",
       "           1.19462853e-01,  -3.78688854e-02,   8.86896560e-02,\n",
       "          -4.47866525e-01,  -2.14798010e-01,   2.45188629e-01,\n",
       "           6.25086638e-01,   7.84896148e-01,   6.93423402e-01,\n",
       "           5.97677013e-02,  -4.35494942e-01,  -3.38941889e-01,\n",
       "          -2.38858074e-01,  -3.98739255e-01,  -1.06307796e-01,\n",
       "           2.58937475e-01,  -2.39346557e-01,  -4.32241942e-01,\n",
       "          -4.14973307e-01,   1.16122544e-02,  -1.36731455e-01,\n",
       "          -1.66442681e-02,  -3.64456793e-01,  -3.90045322e-01,\n",
       "          -3.48477016e-01,   8.53554885e-01,  -4.16324284e-01,\n",
       "           3.46796578e-02,  -5.55830320e-01,  -8.27975446e-03,\n",
       "          -5.95489982e-01,  -1.87927370e-01,   1.56085680e-01,\n",
       "          -1.02262568e-01,  -3.06167971e-01,   2.06087115e-01,\n",
       "           5.75473152e-01,   6.86298798e-02,   3.74126722e-02,\n",
       "          -3.56799475e-01,  -2.65690742e-01,   4.83180637e-01,\n",
       "           2.03086555e-01,  -6.45478830e-01,  -1.35653020e-01,\n",
       "          -5.81519765e-01,  -1.45227474e-01,   3.19541288e-01,\n",
       "           8.22398699e-01,   3.41914766e-01,   1.91978841e-01,\n",
       "          -7.25568570e-02,  -3.13253903e-01,  -2.48755667e-01,\n",
       "           7.22290572e-01,   4.12196540e-01,  -6.07369721e-01,\n",
       "           4.58941474e-01,  -1.54702584e-01,  -1.06511574e-01,\n",
       "          -2.40175628e-01,  -5.76052013e-01,  -2.71727546e-02,\n",
       "          -7.34302080e-02,  -5.37120970e-01,   3.59135296e-01,\n",
       "           6.04027465e-01,   1.53236372e-01,  -1.19799742e-01,\n",
       "          -3.00035348e-01,  -6.30129594e-01,  -1.87902998e-02,\n",
       "          -1.72751395e-01,   2.31713480e-01,   9.36028774e-01,\n",
       "           6.84172834e-01,   5.02004696e-01,  -1.99875140e-01,\n",
       "          -2.98822101e-01,  -6.34177240e-01,  -1.87902998e-02,\n",
       "           1.20528579e-01,   6.81519646e-01,  -7.53996570e-02,\n",
       "           9.76747176e-02,   4.38846467e-01,  -1.28060986e-01,\n",
       "          -2.70167189e-02,  -2.41996552e-01,  -5.76103969e-01,\n",
       "          -2.71727546e-02,  -2.71738663e-01,  -3.34336577e-01,\n",
       "          -5.45928621e-01,  -2.64500103e-01,   1.06015523e-01,\n",
       "           2.32593969e-02,   1.59194204e-01,   8.15979912e-02,\n",
       "          -1.66863277e-01,  -3.79876340e-01,  -4.10484272e-01,\n",
       "          -9.57019281e-04,   6.72662821e-01,  -1.61567862e-01,\n",
       "          -1.95523360e-01,  -1.55143300e-01,  -4.74210834e-01,\n",
       "          -4.03379383e-01,   1.59821769e-01,   2.48597666e-01,\n",
       "          -5.98445879e-03,  -4.55662756e-01,   5.79574519e-01,\n",
       "           7.67143341e-02,  -5.08684260e-01,  -1.73804475e-01,\n",
       "          -5.80290639e-01,  -1.17736038e+00,   2.33155860e-01,\n",
       "           1.92924488e-01,  -4.88655710e-01,   1.12426794e-01,\n",
       "          -7.08062131e-01,   3.69219125e-01,  -3.25586553e-02,\n",
       "           2.02557508e-01,  -1.18958001e-01,  -9.74543706e-02,\n",
       "          -7.10246950e-01,  -3.30471364e-01,  -1.66490593e-01,\n",
       "           4.94697760e-01,  -2.56898293e-01,   5.63088422e-01,\n",
       "           6.88570352e-01,   2.12683076e-01,   5.72407513e-01,\n",
       "          -7.09023713e-02,   2.07467266e-01,   2.73895550e-01,\n",
       "          -8.76266465e-02,   5.95325314e-01,   6.79964289e-01,\n",
       "          -2.75875476e-01,  -1.58322301e-01,   4.97310941e-01,\n",
       "          -1.28175400e-01,  -1.57006779e-03,   1.11629210e-01,\n",
       "           1.27857117e+00,   4.53443414e-01,   6.73343084e-02,\n",
       "           3.60205693e-01,  -3.88724267e-02,   6.57312218e-02,\n",
       "          -9.80042160e-01,  -5.50296754e-02,   1.81022605e-01,\n",
       "           6.83090316e-01,   2.36603870e-02,  -4.68274500e-01,\n",
       "          -2.67408013e-01,  -4.66211840e-01,  -8.96111876e-01,\n",
       "          -3.38772227e-01,  -2.00488674e-01,  -2.87435176e-01,\n",
       "          -9.00508740e-01,  -4.41776380e-01,   9.04671302e-05,\n",
       "          -7.52454338e-02,  -8.00125279e-01,   2.48811310e-01,\n",
       "           4.16352915e-01,   4.19169833e-01,  -3.07240803e-01,\n",
       "          -4.60624475e-01,  -2.67408013e-01,  -3.66394315e-01,\n",
       "           1.21242703e-01,   3.44236229e-01,   5.89591999e-01,\n",
       "           6.98709492e-01,   3.02712628e-01,   3.52029840e-01,\n",
       "          -3.86268825e-02,  -3.42027772e-01,  -1.54355523e-01,\n",
       "           4.20482618e-01,   8.30671875e-01,   8.50376679e-01,\n",
       "           1.63792042e-01,  -3.71001120e-02,   3.18239526e-01,\n",
       "          -1.60577861e-01,   8.61949592e-04,   4.10247995e-01,\n",
       "           6.17197525e-01,   5.67185258e-01,  -6.77538931e-02,\n",
       "           5.34320451e-01,   1.00213619e-01,  -2.97393045e-02,\n",
       "           5.39524288e-01,   1.16923345e-01,   2.00013833e-02,\n",
       "           7.06566766e-01,   2.16606783e-01,   6.90081256e-01,\n",
       "           1.22805954e-01,   2.19631443e-02,   3.42809510e-01,\n",
       "          -2.47375422e-01,  -4.12363204e-01,  -6.46456801e-03,\n",
       "           2.02717234e-01,   1.55721131e-02,   4.33421587e-01,\n",
       "           4.15004581e-01,   1.02269431e-01,  -2.94678554e-01,\n",
       "           1.64918212e-01,   3.22970306e-01,   4.04932679e-01,\n",
       "           3.54415193e-01,  -7.94130940e-02,  -1.89164214e-01,\n",
       "           3.26743502e-01,   2.60586059e-02,   5.63729675e-01,\n",
       "           9.06772800e-01,   1.86210896e-01,  -4.92072596e-01,\n",
       "          -2.56854284e-01,  -2.64541669e-01,   5.50514052e-02,\n",
       "           1.77687233e-01,   1.49878026e-01,   3.79160535e-01,\n",
       "          -5.35003574e-02,  -4.27686151e-01,  -4.85021234e-02,\n",
       "           3.64648539e-01,   1.84535503e-01,   3.82381975e-01,\n",
       "           5.82158261e-01,   1.76612549e-01,  -5.10120693e-01,\n",
       "          -2.56854284e-01,   2.27118255e-01,   1.31834765e-01,\n",
       "          -6.20584578e-02,  -3.46649699e-01,   4.74692286e-01,\n",
       "           3.36836846e-02,   8.49610056e-02,  -7.91859281e-02,\n",
       "          -2.48885516e-01,   5.31424200e-02,   2.45119013e-01,\n",
       "          -5.15065926e-01,  -9.46448480e-02,  -4.58313725e-01,\n",
       "          -4.13631767e-01,   5.17550896e-01,  -1.13268111e-01,\n",
       "           4.96069993e-01,   3.04130454e-01,   7.93401401e-01,\n",
       "           2.60465146e-02,   4.18655639e-02,   2.73618700e-01,\n",
       "          -3.84204024e-02]), array(-3.081978305210615)),\n",
       " (array([ -4.73331740e-01,  -6.48609321e-01,  -1.40918006e-01,\n",
       "           1.33454083e+00,   1.45991401e+00,   1.67638877e-01,\n",
       "           2.54958313e-01,   8.16146972e-01,  -7.03099451e-01,\n",
       "          -2.73381866e-01,  -2.32059104e-01,   1.61677088e-01,\n",
       "          -1.59044337e-01,   1.53540613e-01,   2.17587687e-01,\n",
       "          -2.86321391e-01,   1.55057959e-01,  -5.83174947e-01,\n",
       "          -2.95025681e-01,   2.47348447e-01,  -3.37103703e-01,\n",
       "           2.61921280e-01,  -1.20586522e-01,  -4.13164177e-03,\n",
       "          -2.65215264e-01,  -2.93009396e-01,   2.61454700e-02,\n",
       "           3.38830490e-02,   4.65034636e-01,   6.74834869e-01,\n",
       "          -1.63211911e-01,   3.15676881e-01,  -3.30639549e-01,\n",
       "          -2.78012731e-01,   6.65449518e-02,  -4.26356917e-01,\n",
       "          -2.22834113e-01,   4.16511106e-01,   3.93663232e-03,\n",
       "          -3.27068214e-01,  -4.26915015e-01,   6.25796053e-02,\n",
       "          -5.11357429e-01,  -4.33681256e-01,  -4.66061267e-01,\n",
       "          -1.87247208e-01,  -2.91738662e-01,  -1.05720025e-01,\n",
       "          -6.56401800e-01,  -6.82759722e-02,  -2.02103461e-01,\n",
       "           9.14843428e-02,  -3.26056263e-01,  -5.70055876e-01,\n",
       "          -6.30087182e-01,   2.91741570e-01,  -4.57745507e-01,\n",
       "          -7.31216603e-01,  -5.98705224e-02,  -2.77009183e-01,\n",
       "          -1.16651344e-02,  -1.36453181e-01,  -2.42683673e-02,\n",
       "          -9.30182091e-01,  -5.88845817e-01,  -5.82053707e-01,\n",
       "          -7.45959067e-01,  -5.98121951e-02,  -8.44742459e-02,\n",
       "           1.30450862e-01,   3.65273960e-01,   5.03513661e-01,\n",
       "          -2.26258407e-01,  -2.05425161e-01,  -2.82253187e-01,\n",
       "          -1.28328873e-01,  -6.56401800e-01,  -6.82759722e-02,\n",
       "          -4.48721370e-01,  -3.54381249e-01,  -1.01874600e-02,\n",
       "          -6.28798951e-01,  -1.81693008e-01,  -2.90173843e-01,\n",
       "           7.51056693e-02,   4.24551043e-01,   8.19118497e-02,\n",
       "          -3.70984395e-01,  -6.20696208e-01,  -2.62173076e-01,\n",
       "           7.83133908e-02,  -4.52421191e-01,   2.86246857e-01,\n",
       "          -8.94045271e-02,  -2.05214453e-01,  -6.21942608e-03,\n",
       "           1.80844600e-01,   6.23765555e-01,  -8.66793543e-01,\n",
       "           1.99169410e-02,  -9.78731408e-04,   1.20698657e-01,\n",
       "           1.75981982e-01,   7.67847187e-01,   2.35855071e-01,\n",
       "          -5.27814043e-01,   1.57945986e-01,   2.09128387e-01,\n",
       "          -7.01254124e-01,   4.73199806e-02,  -7.27974587e-02,\n",
       "           3.19282930e-01,   9.15057407e-01,   5.83618250e-01,\n",
       "           1.07513917e+00,  -5.27093988e-01,  -1.04199908e+00,\n",
       "          -4.41375809e-01,  -9.22443627e-01,   2.58516656e-01,\n",
       "           2.85399551e-01,  -4.53313389e-01,   1.16181074e-01,\n",
       "          -6.84727950e-01,  -4.71406890e-02,  -1.93378100e-01,\n",
       "          -8.51439140e-01,  -2.94114990e-01,  -6.47202204e-01,\n",
       "          -6.57152312e-02,   5.50101697e-01,  -6.30262059e-02,\n",
       "          -2.86795275e-01,  -7.34702950e-01,  -9.48023750e-01,\n",
       "          -5.89776309e-01,  -2.07047330e-01,   1.45835504e-01,\n",
       "          -6.60827076e-01,  -3.37366109e-01,   2.98124429e-01,\n",
       "           8.25872155e-01,  -1.80775381e-01,   2.35676663e-01,\n",
       "          -5.48983459e-01,  -1.21417674e+00,   3.49640829e-01,\n",
       "           4.05446435e-01,  -6.06674783e-01,  -2.57512565e-02,\n",
       "          -8.09363219e-01,  -2.75159219e-01,   3.98029602e-01,\n",
       "           4.48916483e-01,  -1.30195588e-01,   6.47665785e-02,\n",
       "           9.99280547e-02,  -3.17547101e-01,  -6.20557813e-02,\n",
       "           5.67184813e-01,   2.04593294e-01,  -5.47764800e-01,\n",
       "           2.88589573e-01,   1.20073145e-01,  -1.24546741e-01,\n",
       "          -1.40707976e-01,  -6.46332197e-01,  -4.45863697e-02,\n",
       "          -2.71966910e-01,   2.54425620e-01,   6.03043729e-01,\n",
       "           3.85507205e-01,  -7.35377344e-01,   1.62939134e-02,\n",
       "          -2.46174547e-01,  -6.93478220e-01,  -4.28964273e-02,\n",
       "          -2.55959017e-01,   2.08123662e-01,   7.27787822e-01,\n",
       "           8.84268219e-01,   8.03639166e-01,  -2.87931617e-01,\n",
       "          -2.36823557e-01,  -6.99800784e-01,  -4.28964273e-02,\n",
       "          -1.42685930e-01,   5.43982496e-01,   3.48681428e-01,\n",
       "          -2.00527020e-01,   9.63366328e-02,  -5.29428842e-01,\n",
       "          -2.92620219e-01,  -1.45289384e-01,  -6.46335028e-01,\n",
       "          -4.45863697e-02,  -4.65843089e-01,  -2.95632292e-01,\n",
       "          -7.14330598e-01,   3.72505847e-01,   6.76812657e-01,\n",
       "          -1.14552783e-01,  -3.00677015e-01,  -1.53794273e-01,\n",
       "           2.17694141e-01,  -3.73795803e-01,  -3.47761232e-01,\n",
       "          -3.82537071e-01,   2.34818096e-01,   4.13024605e-01,\n",
       "           6.44940596e-03,  -9.71635598e-01,   2.26996316e-01,\n",
       "          -8.11976373e-01,  -1.91691788e-01,   7.37258252e-01,\n",
       "          -1.97860958e-01,  -2.05961287e-01,   2.59202553e-01,\n",
       "           2.70553542e-01,  -8.57907851e-01,  -2.97082726e-01,\n",
       "          -1.35777266e+00,  -7.92069251e-01,  -9.33241164e-01,\n",
       "           3.48378636e-01,  -7.22407765e-01,  -3.10022724e-01,\n",
       "          -6.75097124e-01,   4.21778892e-01,  -2.33798634e-02,\n",
       "           1.50864188e-01,  -1.20304675e+00,  -9.33736035e-01,\n",
       "           7.99976172e-03,  -2.60800602e-01,  -2.27375515e-01,\n",
       "          -4.11831170e-01,  -6.60397917e-01,   8.24391826e-02,\n",
       "           3.78702960e-01,   5.08680505e-01,   7.35601922e-01,\n",
       "           6.57181361e-02,   9.75722723e-02,  -6.63060216e-01,\n",
       "          -5.34726452e-01,   7.19566462e-01,   3.49349879e-01,\n",
       "           7.50932954e-01,  -1.84229127e-02,   5.90301826e-01,\n",
       "           2.53937283e-01,  -6.60395356e-01,  -2.91021100e-01,\n",
       "           5.43670815e-01,   5.65168827e-01,   3.74506565e-01,\n",
       "           3.85101694e-01,   1.18434823e-01,  -3.65628719e-01,\n",
       "          -9.92956921e-01,  -5.93665774e-01,   1.79125661e-01,\n",
       "           1.06193888e-01,   1.83240730e-01,  -3.23225409e-01,\n",
       "          -3.64726778e-01,  -6.09080787e-01,  -9.37856682e-01,\n",
       "           5.16771808e-01,  -2.61269874e-01,   1.10528993e-01,\n",
       "          -7.75229979e-01,  -5.12345914e-01,  -2.04879929e-04,\n",
       "          -1.05746460e+00,  -6.74803866e-01,  -1.48726285e-01,\n",
       "           5.47767703e-01,   3.50476934e-01,  -1.49756041e-01,\n",
       "          -3.22882275e-01,  -3.64726778e-01,  -3.50980062e-01,\n",
       "          -8.63491604e-02,   5.77387694e-01,   5.99532201e-01,\n",
       "           7.06487545e-01,   3.78903874e-01,   3.81523983e-01,\n",
       "           1.18434982e-01,   1.58608653e-01,  -2.69893586e-01,\n",
       "          -2.55570665e-01,   8.71335413e-01,   1.15584418e+00,\n",
       "           1.70652969e-01,   1.34137727e-02,   4.85265475e-01,\n",
       "          -2.08675859e-01,   1.09815586e-02,  -4.67094840e-01,\n",
       "           5.48632008e-01,   3.50915260e-01,   6.15905236e-02,\n",
       "           8.04637311e-01,   7.04381047e-02,   1.55903448e-01,\n",
       "           4.14923648e-01,  -7.12138261e-01,  -1.57319032e-01,\n",
       "           2.80439058e-01,   1.14220452e-01,   7.83843909e-01,\n",
       "           7.14995490e-02,  -7.31909603e-01,  -1.41878627e-01,\n",
       "          -2.63201006e-01,  -5.34680308e-01,   3.90324340e-01,\n",
       "          -1.49668616e-01,   4.68694487e-01,   9.07211110e-01,\n",
       "          -3.50713905e-02,  -2.54066449e-01,   6.84118665e-02,\n",
       "          -2.60007461e-01,   4.22531686e-01,   8.02949192e-02,\n",
       "           4.40596285e-01,   1.42414402e-01,   9.59262638e-02,\n",
       "          -8.50687059e-01,  -6.03144474e-02,   6.73162262e-01,\n",
       "           5.74837778e-01,   3.13225816e-01,  -3.71393337e-01,\n",
       "          -3.55392795e-01,   4.19665954e-02,  -9.69585160e-02,\n",
       "           7.85167017e-01,   3.74355023e-01,   6.17608515e-01,\n",
       "           4.32754338e-03,  -5.24012676e-01,  -3.14727281e-01,\n",
       "          -1.47324236e-01,   5.62398965e-01,  -3.02834194e-01,\n",
       "           5.04719480e-01,   2.86836894e-01,  -4.64654385e-01,\n",
       "          -3.55392795e-01,   1.53517236e-02,  -8.88328051e-02,\n",
       "           3.94205458e-01,  -5.35137089e-01,   3.88937251e-01,\n",
       "          -1.09672682e-01,   2.85945998e-01,   1.42437610e-01,\n",
       "          -1.96757623e-01,   3.84838666e-01,  -3.19848532e-02,\n",
       "          -7.77399154e-01,   6.08964402e-01,  -2.72932174e-01,\n",
       "          -2.06955119e-02,   5.96648650e-01,  -6.15110815e-02,\n",
       "           6.43164004e-02,  -4.31899777e-01,  -5.87089003e-01,\n",
       "           6.64712631e-02,   1.66175895e-01,   5.07965040e-01,\n",
       "           9.83382251e-02]), array(-1.119506086648859)),\n",
       " (array([ -4.11885575e-01,  -6.13194851e-01,  -9.88138003e-02,\n",
       "           1.30113018e+00,   1.34673323e+00,   3.31547832e-01,\n",
       "          -4.61132654e-01,   5.93796544e-01,  -9.40657417e-01,\n",
       "          -3.29348642e-01,  -3.66844318e-01,  -1.00612731e-01,\n",
       "          -1.47712522e-01,   2.34637527e-01,   3.70321912e-01,\n",
       "          -1.33350356e-01,  -2.14658271e-01,   7.82773756e-02,\n",
       "          -1.39299096e-01,   1.29085846e-01,  -2.46905367e-01,\n",
       "           7.31249667e-02,  -8.58509287e-02,  -1.22024395e-01,\n",
       "          -1.19529119e-01,  -5.98723353e-01,  -1.67208189e-01,\n",
       "           3.71758383e-02,   3.57627874e-01,   8.06268000e-01,\n",
       "          -2.75245298e-01,   3.10072950e-02,  -8.07912350e-02,\n",
       "           1.28178898e-01,   1.39041640e-01,  -1.48461213e-01,\n",
       "          -3.04192762e-01,   4.33117744e-01,   1.33287752e-01,\n",
       "          -3.27248799e-02,  -5.39280123e-01,  -1.47507879e-01,\n",
       "          -5.93613783e-01,  -4.46308997e-03,  -4.36330083e-01,\n",
       "          -6.27888596e-01,  -2.29190483e-01,  -3.07327667e-01,\n",
       "          -7.87616113e-01,  -6.32843933e-02,  -4.44679698e-01,\n",
       "          -2.68621117e-01,  -2.00099960e-01,  -8.14371066e-01,\n",
       "          -1.26030771e+00,  -6.71669031e-01,  -4.18277049e-01,\n",
       "          -8.55352205e-01,  -5.66803176e-02,  -3.16170502e-01,\n",
       "           1.50636793e-01,   1.66683476e-01,  -9.52267811e-01,\n",
       "          -1.11775113e+00,  -8.37317798e-01,  -5.26187742e-01,\n",
       "          -8.57745255e-01,  -5.65439085e-02,  -1.42206537e-01,\n",
       "           1.48761065e-01,   4.00392787e-01,  -5.02623237e-02,\n",
       "          -1.93080422e-01,   1.67850769e-01,  -2.45788480e-01,\n",
       "          -3.12504365e-01,  -7.87616113e-01,  -6.32843933e-02,\n",
       "          -1.10765963e-02,  -6.98059701e-02,  -1.58278097e-01,\n",
       "          -3.36851056e-02,  -3.31116496e-01,  -2.95712842e-01,\n",
       "           1.86726720e-01,   4.41558404e-01,   9.33575442e-02,\n",
       "          -1.01707363e-02,  -3.50809050e-02,  -1.13674849e-01,\n",
       "           1.17373601e-01,  -3.23358563e-01,   5.31821174e-01,\n",
       "          -3.10290862e-02,  -1.23346772e-01,   5.14607603e-02,\n",
       "           2.74643066e-01,   7.82723838e-01,  -3.20979898e-01,\n",
       "          -1.37544940e-02,   9.14421162e-02,  -3.18813008e-01,\n",
       "           3.53790143e-01,   1.43088093e-03,   2.98583526e-01,\n",
       "          -6.64954078e-03,   3.58832714e-03,  -9.29178821e-02,\n",
       "          -7.62630879e-01,  -1.53335663e-01,  -4.45305463e-02,\n",
       "           3.05697626e-01,   9.76405124e-01,   5.17751344e-01,\n",
       "           6.24316125e-01,  -2.05108571e-01,  -1.12190427e+00,\n",
       "          -4.19342530e-01,  -8.06483162e-01,  -1.10770465e-01,\n",
       "           3.46741018e-01,  -1.04532110e-01,   2.30561548e-01,\n",
       "          -3.00071635e-01,  -7.39836118e-02,  -2.20875275e-01,\n",
       "          -8.61664927e-01,  -3.25010288e-01,  -4.28663449e-01,\n",
       "          -1.48379359e-01,   7.69817898e-01,   3.53078090e-02,\n",
       "          -6.92735186e-01,  -1.15178625e+00,  -2.48248499e-01,\n",
       "          -2.96982597e-01,  -1.42360308e-01,  -1.27815119e-01,\n",
       "          -2.22863555e-01,  -4.13495912e-01,   2.23562940e-01,\n",
       "           7.69038103e-01,   2.22525074e-01,  -1.37512627e-01,\n",
       "          -6.09812722e-01,  -4.77357186e-01,   8.77335596e-02,\n",
       "           9.00166951e-01,  -2.70855556e-01,  -5.49250380e-01,\n",
       "          -9.08279367e-01,   4.98583772e-01,   4.88269615e-01,\n",
       "          -6.24009311e-02,  -2.09058079e-01,   7.23619203e-02,\n",
       "          -5.27910499e-02,   3.11948841e-02,   7.58560180e-02,\n",
       "           6.30633816e-01,   1.46979292e-01,  -3.27254134e-01,\n",
       "           4.58786654e-02,  -1.81673825e-01,  -2.66792942e-01,\n",
       "          -3.32664765e-01,  -7.74769605e-01,  -4.14655294e-02,\n",
       "          -5.79803350e-01,   9.43810491e-02,   5.51338780e-01,\n",
       "           5.20966279e-01,  -6.93650231e-01,   3.32671848e-01,\n",
       "          -2.90125989e-02,  -8.18902059e-01,  -3.67504561e-02,\n",
       "          -5.08869333e-01,  -8.48035847e-02,   8.15233955e-01,\n",
       "           6.31847666e-01,   7.60644456e-01,  -1.26819180e-02,\n",
       "          -5.23191715e-02,  -8.19820835e-01,  -3.67504561e-02,\n",
       "           2.80783903e-02,   9.88206796e-01,   4.03145222e-01,\n",
       "          -2.33953237e-01,   5.76832622e-01,  -2.49329486e-01,\n",
       "          -1.34076119e-01,  -3.33463034e-01,  -7.74769861e-01,\n",
       "          -4.14655294e-02,  -4.04376469e-01,  -6.87773472e-01,\n",
       "          -7.61851755e-01,   1.06580980e-01,   2.56657488e-01,\n",
       "           1.59040286e-01,  -6.27388247e-01,   1.79200586e-01,\n",
       "           3.45516115e-02,  -7.92883914e-02,  -3.61492594e-01,\n",
       "          -4.30178310e-01,   1.93614218e-01,   6.84348088e-01,\n",
       "          -1.68372537e-01,  -2.37976932e-01,  -4.74195916e-01,\n",
       "          -7.80849525e-01,  -3.42307283e-01,   4.38658163e-01,\n",
       "          -4.80595136e-01,  -5.58697096e-01,   2.30544632e-01,\n",
       "           4.87876384e-01,  -4.49381093e-01,  -1.02560741e+00,\n",
       "          -6.50411478e-01,  -1.35940715e+00,  -5.19564062e-01,\n",
       "           5.99421041e-01,  -5.48014824e-01,  -3.96475231e-01,\n",
       "          -6.65849469e-01,   5.80575130e-02,  -4.59820302e-01,\n",
       "          -1.88083051e-01,  -4.79777753e-01,  -6.42376577e-01,\n",
       "          -2.44754040e-01,  -3.17032479e-01,   4.05258160e-01,\n",
       "           2.96680255e-01,  -6.38610703e-01,   4.02337769e-01,\n",
       "           3.28403786e-01,   5.37115684e-01,   5.89332885e-01,\n",
       "          -3.90574376e-02,  -1.58629870e-01,  -3.76784353e-01,\n",
       "          -4.11006995e-01,   8.55981467e-01,   3.64826416e-01,\n",
       "           1.87750224e-01,  -1.16208859e-01,   7.28447470e-01,\n",
       "          -5.03983802e-02,  -4.50767795e-01,   7.15615648e-02,\n",
       "           3.41289392e-01,   3.49632109e-01,   3.65127251e-02,\n",
       "           2.84522509e-01,  -2.35805981e-02,  -4.35286318e-01,\n",
       "          -5.21621939e-01,   3.45954476e-01,   9.78493542e-02,\n",
       "           8.14170969e-02,   3.13311916e-01,  -5.32889590e-02,\n",
       "          -4.12543728e-01,  -3.81557654e-01,  -1.12473185e+00,\n",
       "          -3.76221303e-01,  -2.84861046e-01,   4.32358587e-01,\n",
       "          -4.93295379e-01,  -6.22871515e-01,  -4.90764072e-04,\n",
       "          -6.84005287e-01,  -5.44221687e-01,   4.69679942e-02,\n",
       "           2.37464533e-01,  -3.38412945e-01,   9.58456684e-02,\n",
       "          -5.32573285e-02,  -4.12543728e-01,  -4.52751677e-02,\n",
       "          -7.60602544e-01,  -1.34181911e-01,   4.40023593e-02,\n",
       "           3.44039315e-01,   1.29835332e+00,   2.83085841e-01,\n",
       "          -2.35805376e-02,   2.87259377e-01,  -3.09339505e-01,\n",
       "          -2.27497799e-01,  -1.02655216e-01,   8.40407960e-01,\n",
       "           3.92198089e-01,   1.10805304e-02,   6.41914951e-01,\n",
       "           1.78095655e-01,  -7.74102858e-01,  -8.61209030e-02,\n",
       "           5.71192429e-01,   4.09040223e-01,   9.65505443e-01,\n",
       "           6.02330607e-01,   1.54223187e-01,   3.03731482e-01,\n",
       "          -7.78655766e-01,  -8.18577372e-01,  -2.72007518e-01,\n",
       "           9.63868610e-02,   5.90260849e-02,   4.08235223e-01,\n",
       "           1.55604073e-01,  -7.55024111e-02,  -3.52676344e-01,\n",
       "          -5.22613268e-01,  -6.54294152e-01,   3.73581750e-01,\n",
       "           1.12798829e+00,   1.96535447e-01,   4.59517856e-01,\n",
       "          -6.37017507e-01,   5.65164254e-02,  -2.65101293e-01,\n",
       "          -7.07045096e-02,   4.13468091e-01,  -6.77470941e-01,\n",
       "           5.15966940e-01,   1.10710302e-02,  -2.83233416e-01,\n",
       "          -7.02825119e-01,  -3.61981186e-01,  -3.24894749e-01,\n",
       "           7.22999925e-02,   4.16152996e-01,  -1.88116639e-01,\n",
       "          -3.99133153e-01,  -1.26853931e-01,   3.77939531e-01,\n",
       "           1.91565417e-01,   3.50721299e-01,   4.07734737e-01,\n",
       "           2.13351600e-01,  -6.67153334e-01,   6.39649098e-01,\n",
       "          -7.17211427e-01,   1.77134009e-01,  -2.75247496e-01,\n",
       "           1.09847128e+00,   3.74054258e-01,  -3.36716636e-01,\n",
       "          -3.99133153e-01,   3.05164993e-01,   1.30275730e+00,\n",
       "          -8.49509442e-01,   1.64934062e-01,   1.94775085e-01,\n",
       "           1.57564727e-01,   4.71259383e-01,   1.12853913e-02,\n",
       "           1.65397131e-01,  -4.10119615e-01,  -1.21466091e+00,\n",
       "          -6.10020441e-01,  -5.60143434e-01,   3.40982869e-01,\n",
       "           6.94173777e-02,   7.23888663e-01,   3.56169283e-01,\n",
       "          -1.97636761e-01,  -8.47786241e-01,   1.04094546e-01,\n",
       "          -2.88665211e-01,   8.23859417e-01,   5.86080373e-01,\n",
       "          -2.19568296e-02]), array(-0.8226628514250893)),\n",
       " (array([ -3.23950889e-01,  -3.76822609e-01,  -2.20785607e-01,\n",
       "           1.17341656e+00,   1.02180016e+00,  -2.28043258e-01,\n",
       "          -4.07183943e-01,   3.41073373e-01,  -9.45969308e-01,\n",
       "          -2.50978439e-01,  -3.01146686e-01,   8.27471447e-02,\n",
       "          -2.33421923e-01,   1.11382351e-01,   3.81319377e-01,\n",
       "           3.94665291e-01,  -4.39630679e-01,   2.20920503e-02,\n",
       "          -1.12726241e-01,   4.16757620e-01,  -2.31009451e-01,\n",
       "           1.81319268e-01,   1.88720545e-01,   1.88769974e-01,\n",
       "          -2.40847784e-01,  -3.38066934e-01,  -8.27976922e-01,\n",
       "          -5.18633853e-02,   3.24946616e-01,   6.03618060e-01,\n",
       "          -3.62449223e-01,   1.81366060e-01,  -6.99697910e-02,\n",
       "          -1.66044918e-01,  -1.63183977e-01,  -9.21515433e-01,\n",
       "          -2.04029484e-01,   2.59592023e-01,  -3.70621587e-01,\n",
       "          -1.02725267e-01,  -4.05384063e-01,   1.81482498e-01,\n",
       "          -5.56542031e-01,   3.31141274e-01,  -5.15141860e-01,\n",
       "          -4.76209462e-01,  -1.08851566e-01,  -3.30700641e-01,\n",
       "          -5.00966411e-01,  -5.89723242e-02,  -3.87526797e-01,\n",
       "          -9.82770077e-02,  -6.71581745e-03,  -2.22589452e-01,\n",
       "          -2.99025091e-01,  -2.73071671e-01,  -4.45746678e-01,\n",
       "          -5.52128528e-01,  -5.30109901e-02,  -2.37456027e-01,\n",
       "          -3.58280190e-02,  -2.79397607e-01,  -6.34296819e-01,\n",
       "          -5.73645732e-01,  -3.67994782e-01,  -5.57347263e-01,\n",
       "          -5.51086135e-01,  -5.30039170e-02,  -5.01938719e-02,\n",
       "           3.99535239e-01,  -4.29934562e-02,  -4.14548908e-02,\n",
       "          -2.17746889e-01,  -6.37002421e-01,  -4.26353978e-02,\n",
       "          -3.31663568e-01,  -5.00966411e-01,  -5.89723242e-02,\n",
       "           5.96578390e-02,   3.24517901e-02,  -4.03273192e-02,\n",
       "          -2.47159465e-01,  -1.09660232e-01,  -2.84062560e-01,\n",
       "           2.23764831e-02,   2.86141041e-01,  -3.97264917e-01,\n",
       "          -2.10376619e-01,  -7.25340367e-02,  -7.43340399e-02,\n",
       "           2.19783231e-01,  -1.40883442e-01,  -1.34189550e-01,\n",
       "          -1.50199007e-01,  -7.48024971e-01,   7.43597646e-02,\n",
       "           2.96408286e-01,   5.24134806e-01,  -4.07539135e-01,\n",
       "           1.15963898e-02,   1.64056187e-01,   2.55574111e-01,\n",
       "           6.99866720e-01,   3.32185261e-01,   4.96430277e-01,\n",
       "           2.63588490e-01,  -2.51207287e-01,   3.73525681e-03,\n",
       "          -7.63520260e-01,  -7.43937241e-02,  -1.40814609e-01,\n",
       "           3.31820890e-01,   1.40898096e+00,   6.83200049e-01,\n",
       "           2.54432611e-01,  -9.09891344e-02,  -7.42028292e-01,\n",
       "          -4.36835740e-01,  -8.35727600e-01,  -3.86838670e-02,\n",
       "           3.11236575e-01,  -2.92627009e-01,   5.73734691e-01,\n",
       "          -1.28550369e-01,  -4.02180381e-01,  -3.36594902e-01,\n",
       "          -8.49188280e-01,  -2.26206027e-01,  -4.48657216e-01,\n",
       "          -1.59307747e-01,   8.13761250e-01,  -6.82865899e-02,\n",
       "          -9.79291780e-02,  -1.02544099e+00,  -9.17448636e-01,\n",
       "          -3.26770489e-01,   9.87153277e-02,   3.20261624e-01,\n",
       "          -2.87356165e-01,  -3.80548642e-01,   3.47054835e-01,\n",
       "           9.59954390e-01,   4.61701631e-01,  -7.32530432e-01,\n",
       "          -7.71211806e-01,   8.21244090e-02,   4.59099661e-01,\n",
       "           5.54148983e-01,  -2.04858624e-01,  -4.59060361e-01,\n",
       "          -6.37181519e-01,   6.90107659e-01,   2.91904559e-01,\n",
       "          -1.20389743e+00,  -2.74220419e-01,   2.30241095e-01,\n",
       "          -4.06797649e-01,  -1.13052061e-01,  -4.25567145e-01,\n",
       "           3.92286002e-01,  -3.90097131e-02,  -9.01751239e-01,\n",
       "          -2.68765326e-01,  -1.08512300e+00,  -4.97171180e-02,\n",
       "          -3.28047573e-01,  -4.89899103e-01,  -4.24841902e-02,\n",
       "          -4.97526569e-01,   1.53435686e-01,   3.57584475e-01,\n",
       "           1.39050674e-01,  -1.36678369e-01,   3.21700879e-01,\n",
       "          -2.73230283e-01,  -5.19170561e-01,  -4.06042550e-02,\n",
       "           2.05360649e-03,   2.13071067e-01,   8.18499751e-01,\n",
       "           6.51219892e-01,   3.52290247e-01,   5.48102305e-01,\n",
       "          -2.79006874e-01,  -5.19248375e-01,  -4.06042550e-02,\n",
       "          -1.29698485e-02,   1.11050765e+00,  -1.51925790e-01,\n",
       "          -2.42378811e-01,  -3.86116298e-04,  -1.55690406e-01,\n",
       "          -4.98253493e-02,  -3.28172466e-01,  -4.89905216e-01,\n",
       "          -4.24841902e-02,  -3.79399545e-01,   1.46830020e-01,\n",
       "          -2.00586811e-01,   6.65193598e-03,  -2.72788499e-01,\n",
       "          -2.59324324e-01,  -5.26063251e-01,   2.37810931e-01,\n",
       "          -3.20180931e-01,  -1.06116004e-01,  -4.77071348e-01,\n",
       "          -3.43138064e-01,   2.94333054e-01,   7.19106920e-01,\n",
       "           3.24320563e-01,  -4.33185438e-01,   2.30491814e-01,\n",
       "          -2.55555822e-01,   3.45869803e-01,   7.21384513e-01,\n",
       "          -4.43535266e-01,  -5.51975124e-01,   4.55213912e-01,\n",
       "           2.66587750e-01,  -3.94306235e-01,  -1.16732068e+00,\n",
       "          -3.92960112e-01,  -9.14193236e-01,   9.44486808e-02,\n",
       "           4.89264826e-01,  -6.38574940e-01,  -5.02571201e-01,\n",
       "          -5.42635655e-01,   1.06299928e-02,  -4.78494998e-03,\n",
       "           4.76264611e-02,  -4.54123364e-01,  -7.97235598e-01,\n",
       "          -6.02873697e-01,  -2.36989479e-01,  -1.59509946e-01,\n",
       "          -4.59783243e-01,  -1.10993708e-01,   6.92562860e-01,\n",
       "           1.71673706e-01,  -1.16371298e-01,   5.79093730e-01,\n",
       "           2.19979296e-02,  -3.07863260e-01,   1.59290379e-01,\n",
       "          -2.74352543e-02,   1.05014425e-01,  -8.60909442e-02,\n",
       "          -1.03786509e+00,  -1.71824557e-03,   4.61183169e-01,\n",
       "           9.65929725e-02,  -6.57914918e-01,  -1.39782682e-02,\n",
       "           1.33373257e-01,   6.04193648e-01,  -4.00402072e-01,\n",
       "           1.24226306e-01,  -4.77553200e-02,  -3.33469499e-01,\n",
       "          -4.28230918e-01,   6.40536776e-01,   1.87077523e-02,\n",
       "           2.54745090e-01,   2.92087873e-02,  -2.64884597e-01,\n",
       "          -2.76931943e-01,  -4.26704251e-01,  -1.45316176e+00,\n",
       "          -8.22317142e-01,   4.24207072e-01,   7.59316559e-01,\n",
       "          -9.79306362e-01,  -3.90890908e-01,   3.11954025e-04,\n",
       "          -8.26152062e-01,  -1.19983170e-01,  -2.34065320e-01,\n",
       "           2.59798190e-01,  -4.05210147e-01,  -1.54179446e-01,\n",
       "          -2.64933525e-01,  -2.76931943e-01,  -3.63574138e-01,\n",
       "          -3.96563231e-01,   6.10849751e-01,   4.75505078e-01,\n",
       "           3.22244435e-01,   1.05251582e-01,   1.26547345e-01,\n",
       "          -4.77642694e-02,   1.13982209e-01,  -5.20268336e-01,\n",
       "          -7.36458282e-02,   2.55829296e-01,   4.19362093e-01,\n",
       "          -2.82844924e-01,   9.43093946e-03,   3.42421557e-01,\n",
       "           2.06273041e-01,  -2.83549170e-01,   4.76482291e-01,\n",
       "           1.00888369e+00,   6.97682842e-02,   7.74587837e-02,\n",
       "           4.38548452e-01,   1.10405026e-01,  -2.31926119e-01,\n",
       "          -4.26389447e-01,  -3.29918463e-01,   1.39160080e-01,\n",
       "           1.40451161e-01,  -8.93925662e-02,   2.81071179e-01,\n",
       "           1.10952575e-01,  -3.31758790e-01,  -4.24973593e-01,\n",
       "          -7.18628811e-01,  -9.16727032e-01,  -3.55861251e-01,\n",
       "           9.88254869e-02,   1.99688234e-01,   4.44403698e-01,\n",
       "           1.15640707e-01,  -9.65550250e-03,  -6.37493396e-01,\n",
       "          -6.90869832e-01,  -1.40946814e-01,   3.01990578e-01,\n",
       "           1.35844095e-01,  -7.29606456e-02,   7.46668803e-02,\n",
       "          -3.63440822e-01,  -6.65189161e-01,  -3.33077839e-01,\n",
       "           9.63576813e-02,   2.65592906e-01,  -2.71897499e-01,\n",
       "          -2.70300028e-01,  -1.70106431e-01,   3.12876281e-01,\n",
       "           1.69361874e-01,   1.20515489e-01,   4.35657146e-01,\n",
       "          -2.40049574e-01,  -3.98679678e-01,  -4.26441474e-02,\n",
       "          -2.26600248e-01,  -3.42103503e-01,  -5.43830753e-01,\n",
       "          -3.39690759e-01,   1.23737189e-01,  -3.62172839e-01,\n",
       "          -2.70300028e-01,  -6.49141188e-02,  -2.66858593e-01,\n",
       "          -7.31066654e-01,  -4.09318091e-01,  -2.59823246e-01,\n",
       "           1.36394603e-02,   2.84366899e-02,  -7.28717669e-02,\n",
       "          -2.21504804e-01,  -4.08755422e-01,  -8.63007552e-01,\n",
       "          -5.93690294e-01,  -1.51494729e-01,  -2.15310390e-01,\n",
       "           1.27234447e-01,   4.68119975e-01,  -1.99209499e-01,\n",
       "          -6.19455976e-01,  -5.51157372e-01,  -8.19148444e-02,\n",
       "           2.23352031e-01,   1.29323022e-01,   3.87209328e-01,\n",
       "           3.92872963e-02]), array(-1.7906267072841608)),\n",
       " (array([ -2.24675180e-01,  -1.58421400e-01,   1.18707631e-01,\n",
       "           1.86454518e+00,   1.42385053e+00,   2.37871585e-01,\n",
       "           3.11270412e-01,   3.11588224e-01,  -1.16713263e+00,\n",
       "          -1.86922118e-01,  -4.70769648e-02,   3.02729911e-01,\n",
       "          -1.34443715e-01,  -2.76597864e-01,   9.31684349e-01,\n",
       "          -2.40745606e-01,  -3.22934059e-01,   5.15749615e-02,\n",
       "          -3.09279289e-01,   1.72710325e-01,  -4.88281751e-02,\n",
       "           4.83274149e-01,  -2.07088036e-01,   2.35504209e-01,\n",
       "          -8.75894761e-01,  -5.58168696e-01,  -5.94360075e-01,\n",
       "          -1.68680268e-01,   3.26218906e-01,   4.29494985e-01,\n",
       "          -1.75136703e-01,  -1.32460653e-02,   3.32201877e-01,\n",
       "          -4.56166761e-01,  -1.38089868e-01,  -3.85422705e-01,\n",
       "          -2.07516443e-01,   3.00197448e-01,  -4.41413279e-02,\n",
       "          -2.79081705e-01,  -2.21070696e-01,  -4.66027491e-01,\n",
       "          -8.82174914e-01,   2.52759507e-01,  -4.84462290e-02,\n",
       "          -4.31598781e-01,  -4.54557641e-01,  -4.24807547e-01,\n",
       "          -3.72562047e-01,  -2.87555014e-02,  -4.26250710e-01,\n",
       "           6.71499098e-03,   2.20942192e-02,  -2.86873074e-01,\n",
       "           2.00909289e-01,  -4.79522242e-01,  -4.69835015e-01,\n",
       "          -4.28598834e-01,  -2.51532563e-02,   1.13813077e-02,\n",
       "           4.30247106e-01,   4.81082963e-02,  -6.20473885e-01,\n",
       "           3.47514932e-01,  -4.27780943e-01,  -6.62686844e-01,\n",
       "          -4.22997239e-01,  -2.51528390e-02,  -1.85007925e-01,\n",
       "           6.54571125e-01,  -2.63466029e-02,   6.53247835e-01,\n",
       "           2.77373118e-02,  -3.60717988e-01,  -4.27402434e-01,\n",
       "          -4.23721980e-01,  -3.72562047e-01,  -2.87555014e-02,\n",
       "           2.13476093e-01,  -2.35744850e-01,  -4.36933613e-01,\n",
       "          -4.65372930e-01,  -7.47599322e-01,  -4.54529310e-01,\n",
       "           6.07737016e-02,   3.01785021e-01,  -5.68007043e-02,\n",
       "          -2.66041417e-01,  -1.91714880e-02,  -2.22344553e-02,\n",
       "           3.80669715e-02,   6.55182430e-01,   2.20432229e-01,\n",
       "           3.88109398e-01,  -7.11472587e-01,   5.91839530e-02,\n",
       "           2.16256845e-01,   3.08984119e-01,  -3.37851733e-01,\n",
       "           1.87100937e-01,   4.93091885e-01,  -2.14493300e-01,\n",
       "           3.48210545e-01,   1.12151083e+00,   3.98045615e-01,\n",
       "           2.62535939e-01,  -3.48947690e-01,  -1.13814149e-01,\n",
       "          -6.44427584e-01,  -5.63525179e-01,  -9.56885207e-01,\n",
       "           1.15033820e-01,   4.58442906e-01,  -1.24641181e-01,\n",
       "           7.16077909e-01,  -3.01494903e-01,  -1.18041439e+00,\n",
       "          -2.67883908e-01,  -7.43911921e-01,   1.30377841e-03,\n",
       "           2.88346877e-01,  -8.13823408e-02,   4.70446025e-01,\n",
       "          -8.42298045e-02,  -3.05782644e-01,  -7.54729723e-01,\n",
       "          -9.29526806e-01,  -1.94754115e-01,  -5.10199743e-01,\n",
       "          -1.05983369e-01,   9.28366245e-01,  -6.83274691e-02,\n",
       "           5.95813972e-01,  -9.39848313e-01,  -1.57918552e+00,\n",
       "          -3.16721580e-01,  -2.57588628e-02,   2.84914097e-01,\n",
       "          -5.97140567e-02,  -4.34310983e-01,   2.42197162e-01,\n",
       "           1.22350872e+00,   2.45802480e-01,  -1.81992626e+00,\n",
       "          -8.88182891e-01,   1.95648737e-01,   4.85588072e-01,\n",
       "          -3.11947558e-02,  -3.85055167e-02,   3.63956147e-01,\n",
       "           1.34057088e-01,   5.57556661e-01,  -2.94603538e-01,\n",
       "          -4.98858064e-01,   7.44204077e-02,   4.11163968e-01,\n",
       "          -8.59321295e-02,  -2.29641178e-01,  -2.15721421e-01,\n",
       "           5.67167541e-01,   1.04161927e-01,  -2.14908417e-01,\n",
       "           3.46300168e-01,   1.32588097e-01,  -4.66852891e-01,\n",
       "          -3.67081915e-01,  -3.57238423e-01,  -2.53651889e-02,\n",
       "          -3.31842720e-01,  -3.62213691e-01,  -5.41673897e-01,\n",
       "           1.54456278e-01,  -7.34552673e-01,   3.07943061e-01,\n",
       "          -3.41242652e-01,  -4.06657284e-01,  -2.31573312e-02,\n",
       "          -1.43592441e-01,   1.13104083e-01,  -2.28483071e-01,\n",
       "          -2.34894253e-01,  -5.21342912e-01,   4.03806923e-01,\n",
       "          -3.48616337e-01,  -4.06658168e-01,  -2.31573312e-02,\n",
       "          -3.20062596e-01,   5.87763204e-01,   5.39636245e-01,\n",
       "          -4.18102655e-01,   3.64574572e-01,  -3.45098688e-02,\n",
       "          -4.18453787e-01,  -3.67423128e-01,  -3.56809749e-01,\n",
       "          -2.53651889e-02,  -6.49117953e-02,   2.32722370e-01,\n",
       "           9.65548609e-02,  -4.22245500e-02,   5.65417937e-01,\n",
       "           6.19801877e-02,   9.31340651e-02,   2.85914992e-01,\n",
       "          -4.00434566e-02,  -3.79520301e-01,   7.26073731e-02,\n",
       "          -4.05169266e-02,   3.18509715e-01,   5.18762603e-01,\n",
       "           1.13138376e+00,  -9.49707303e-01,  -9.13505960e-01,\n",
       "           8.28807552e-02,   3.90631799e-01,   5.90531025e-01,\n",
       "          -1.70304387e-01,  -5.31805906e-01,   7.09471980e-01,\n",
       "           2.17317851e-01,   9.44500708e-03,  -1.83478197e-01,\n",
       "          -1.76628574e+00,  -7.91192726e-01,   2.10642509e-01,\n",
       "           2.13295603e-01,  -1.99048282e-01,  -5.60561379e-01,\n",
       "           8.67175468e-02,   3.20355468e-01,   4.66987469e-01,\n",
       "          -8.58330116e-02,  -1.68378369e-01,  -6.49251479e-01,\n",
       "          -7.36862359e-01,  -1.78957446e-01,   3.16709168e-02,\n",
       "          -4.60020945e-02,  -4.55485879e-01,  -3.52795216e-02,\n",
       "          -1.58469144e-01,  -4.00256288e-02,   4.44019053e-01,\n",
       "           4.19524221e-01,  -1.94394996e-01,  -2.87218181e-01,\n",
       "          -2.84861507e-01,   4.08365560e-01,   4.86126254e-01,\n",
       "          -3.21682595e-01,   1.09729967e-02,   3.06569938e-01,\n",
       "          -1.41773955e-01,  -6.53869325e-02,  -3.03754550e-01,\n",
       "           1.03366649e-02,  -7.88319965e-01,   1.37240212e-02,\n",
       "           1.64753223e-01,  -5.62162025e-01,  -4.15648632e-01,\n",
       "          -6.37511021e-01,  -1.29512984e-01,  -3.40596580e-01,\n",
       "          -4.00409299e-01,  -7.76472714e-02,  -2.82429870e-01,\n",
       "          -1.40431990e-01,  -4.21220715e-01,  -1.00306825e+00,\n",
       "          -1.86281687e-01,  -2.49603648e-02,  -1.90464416e-01,\n",
       "          -8.25572593e-01,  -2.22154295e-01,  -6.29459095e-05,\n",
       "          -5.90926758e-01,  -7.05442783e-01,   4.48270343e-01,\n",
       "           2.03614654e-01,   2.65620828e-01,  -1.32926494e-01,\n",
       "          -2.82780711e-01,  -1.40431990e-01,   4.19294368e-02,\n",
       "          -2.19224270e-01,  -5.10335509e-02,  -1.73218630e-01,\n",
       "           3.79472460e-01,   1.64486860e-01,   1.63647801e-01,\n",
       "          -5.62213258e-01,   3.06759928e-02,  -7.10397025e-01,\n",
       "           3.21513098e-01,   3.90166956e-01,   5.93060580e-01,\n",
       "           2.99085293e-01,   3.51861159e-03,   2.57004652e-01,\n",
       "          -2.23235519e-01,  -5.66736010e-01,  -1.51530278e-01,\n",
       "           7.52704453e-01,   5.66955217e-01,   1.21338697e-02,\n",
       "           2.97554925e-01,   5.63470024e-01,  -1.19063440e-01,\n",
       "          -6.15769758e-01,  -3.51502360e-01,   2.55996753e-01,\n",
       "           8.55570954e-01,  -3.45044803e-02,   2.17958176e-01,\n",
       "           5.69511219e-01,  -1.11418255e-01,  -1.25033049e-01,\n",
       "          -4.87967412e-01,  -6.74318140e-01,  -4.34417466e-01,\n",
       "          -1.19258365e-01,   2.72051828e-01,   2.97210310e-01,\n",
       "          -1.80497160e-01,  -3.29275570e-01,  -3.21818918e-01,\n",
       "          -3.36354757e-01,  -1.05782236e-01,   2.85663395e-01,\n",
       "           1.92706588e-01,  -5.30496736e-01,  -7.22190808e-02,\n",
       "          -1.16555646e-01,  -2.36448770e-01,  -1.51123724e-01,\n",
       "           2.00652192e-01,  -5.77702253e-02,  -2.99504312e-01,\n",
       "          -1.33082917e-01,  -6.14317303e-02,   2.17968218e-01,\n",
       "           1.84838409e-01,   2.18591512e-01,   3.46292848e-01,\n",
       "          -3.36393815e-01,  -2.12597460e-01,   1.37434145e-01,\n",
       "           5.19689856e-02,  -1.41768465e-01,  -2.78909597e-02,\n",
       "           2.23764712e-01,  -7.55987020e-02,  -3.19332397e-01,\n",
       "          -1.33082917e-01,   5.22585263e-02,  -2.64233191e-01,\n",
       "          -4.68584910e-01,  -2.83080787e-01,   1.16373016e-01,\n",
       "           2.14950362e-01,   1.67935605e-01,  -5.30469608e-01,\n",
       "           8.37875290e-04,  -2.42368027e-01,  -7.39468660e-01,\n",
       "          -4.75883937e-01,  -5.38378869e-01,  -1.64787870e-02,\n",
       "           1.46898028e-01,   3.13215759e-01,   4.86643561e-03,\n",
       "          -3.51317846e-01,  -3.14238939e-01,   4.53833914e-01,\n",
       "          -3.17655836e-01,  -1.55438034e-01,   4.29607733e-01,\n",
       "           4.54684534e-01]), array(-3.337715604243828)),\n",
       " (array([ -1.57560125e-01,  -6.06817840e-01,   1.73033008e-01,\n",
       "           1.02098564e+00,   1.22070256e+00,   3.85767120e-04,\n",
       "           7.41130784e-01,   8.31851746e-01,  -7.08574077e-01,\n",
       "          -1.92339614e-01,  -1.73474502e-02,  -1.42563617e-01,\n",
       "           1.24137701e-01,   3.37680369e-01,   3.50844519e-01,\n",
       "          -2.43097831e-02,   1.82314603e-01,   1.18299921e-01,\n",
       "          -3.11931463e-01,   5.34025135e-01,  -2.79341572e-01,\n",
       "           4.32058108e-02,   2.59739107e-01,  -1.89222022e-01,\n",
       "          -6.38732435e-01,  -7.80461598e-01,  -2.79414631e-01,\n",
       "           2.59573038e-03,   3.13237668e-01,   3.82826069e-01,\n",
       "          -4.65156721e-01,   4.57162570e-01,   5.12937039e-01,\n",
       "           9.40782715e-02,   4.86037759e-01,  -7.25393969e-01,\n",
       "          -1.07149004e-01,   1.74300413e-01,  -1.01037059e-01,\n",
       "          -2.39084739e-01,  -6.28933312e-02,   5.92349839e-02,\n",
       "          -3.05513874e-01,   5.32732166e-01,  -4.27000763e-01,\n",
       "          -2.09953907e-01,  -1.64453604e-01,  -1.55411848e-01,\n",
       "          -2.73438799e-01,  -1.85009932e-02,  -2.53518800e-01,\n",
       "           2.77660430e-01,  -2.02171622e-03,  -1.29128779e-01,\n",
       "           2.66261094e-01,  -2.27541325e-01,  -3.99280365e-01,\n",
       "          -3.18961347e-01,  -1.24490650e-02,  -5.04502945e-02,\n",
       "           7.17885834e-01,   4.85811831e-01,   3.25561196e-01,\n",
       "           2.23782290e-01,  -4.33564493e-01,  -4.44514875e-01,\n",
       "          -3.02887577e-01,  -1.24449930e-02,  -5.40760065e-01,\n",
       "          -1.71212742e-01,   1.13398312e-01,   9.19151373e-02,\n",
       "          -1.06889845e-01,  -2.72485387e-01,  -1.79865316e-01,\n",
       "          -1.48683198e-01,  -2.73438799e-01,  -1.85009932e-02,\n",
       "          -1.08802194e-01,  -2.94207077e-01,  -7.57565051e-01,\n",
       "          -4.91891739e-01,  -4.16823110e-01,  -4.70759537e-01,\n",
       "           6.25404998e-02,   1.69755893e-01,  -8.68310910e-02,\n",
       "          -2.30577199e-01,   1.36075303e-01,   1.11600244e-01,\n",
       "          -5.45944998e-01,  -2.36933344e-01,  -7.97216797e-03,\n",
       "          -1.57188777e-01,  -4.60426272e-01,   1.57222728e-02,\n",
       "           1.64466534e-01,   2.83606051e-01,  -2.35891888e-01,\n",
       "           5.26333335e-03,  -6.03224580e-01,   4.77461717e-02,\n",
       "           1.19439603e-01,   3.97878531e-01,   9.26429203e-01,\n",
       "           3.87929880e-01,  -3.38755742e-01,   1.40750832e-01,\n",
       "          -6.53367148e-01,  -1.61902463e-01,  -8.09046103e-02,\n",
       "           2.09389924e-01,   1.24718850e+00,   9.49719647e-01,\n",
       "           3.63901703e-01,   2.88861785e-02,  -6.56169157e-01,\n",
       "          -3.45956666e-01,  -9.01585873e-01,   4.07326138e-01,\n",
       "           8.58725209e-01,  -1.13374182e-01,   4.48541791e-01,\n",
       "           2.70435406e-01,  -2.43534337e-01,  -6.97729564e-01,\n",
       "          -4.83990871e-01,  -2.11522992e-01,  -4.90025008e-01,\n",
       "           3.63134064e-01,   1.41635837e+00,   2.64781614e-01,\n",
       "          -4.06257748e-01,  -1.02490408e+00,  -1.25708842e+00,\n",
       "          -2.86376014e-01,  -1.45898400e-02,   4.56566245e-01,\n",
       "          -5.05141117e-01,   3.69692951e-01,   6.39039749e-01,\n",
       "           6.99048999e-01,  -1.09544368e-01,  -9.66218843e-01,\n",
       "          -5.93899607e-01,   1.74823911e-01,   4.60404677e-01,\n",
       "           1.08718653e-01,  -9.63971610e-01,  -4.55950975e-02,\n",
       "           2.64937234e-01,   2.51289938e-01,  -1.64156112e-01,\n",
       "          -1.60430640e-01,   4.55831586e-02,   3.05283724e-01,\n",
       "           1.16154457e-01,  -2.38692145e-01,  -5.58621594e-01,\n",
       "          -5.83226698e-01,   2.01030923e-01,   7.25877951e-01,\n",
       "           1.19657356e+00,   4.62891008e-01,  -1.64390431e-01,\n",
       "          -1.19427234e-01,  -2.74952393e-01,  -1.14548424e-02,\n",
       "           8.27059662e-03,  -3.44042717e-01,  -5.11539645e-01,\n",
       "           1.06535067e-01,  -3.90384196e-01,  -1.62337421e-01,\n",
       "          -1.92425854e-01,  -2.89666979e-01,  -1.05865308e-02,\n",
       "           1.09584987e-01,  -3.81300345e-01,  -8.55190033e-01,\n",
       "          -3.11805309e-02,  -1.89854307e-01,  -1.82273445e-01,\n",
       "          -1.96838956e-01,  -2.91576902e-01,  -1.05865308e-02,\n",
       "          -4.45077847e-01,  -1.45380656e-01,  -1.08265158e-01,\n",
       "           6.88270885e-01,   6.07495243e-01,   3.20187162e-01,\n",
       "          -1.68339448e-01,  -1.21871842e-01,  -2.73608493e-01,\n",
       "          -1.14548424e-02,  -4.84840453e-01,  -1.27226059e-01,\n",
       "          -1.18789252e-02,   4.29757792e-01,   4.33327156e-01,\n",
       "           4.47998574e-01,  -3.60401080e-02,   1.83938545e-01,\n",
       "           5.49252664e-02,  -2.27445617e-01,  -4.82808261e-01,\n",
       "           1.02826068e-01,   5.78854605e-01,   1.85490441e-02,\n",
       "           2.09518572e-01,  -5.38679513e-01,  -5.78444182e-01,\n",
       "           5.76145234e-02,   3.34176311e-01,   3.39100812e-01,\n",
       "          -4.15960153e-01,  -1.97754017e-01,   7.44376677e-01,\n",
       "           1.31865763e-01,  -3.78730145e-01,  -3.23355810e-01,\n",
       "          -1.25092822e+00,  -4.20234854e-01,   2.15439713e-01,\n",
       "           4.85790683e-01,  -5.89080963e-01,  -4.65632097e-01,\n",
       "           3.77974634e-01,   3.77929030e-01,  -9.77415019e-02,\n",
       "           4.80592472e-01,  -7.18924920e-01,  -5.83816830e-01,\n",
       "          -1.50703869e-01,  -1.79584706e-01,  -5.56261316e-03,\n",
       "          -4.42459661e-01,  -6.12889597e-01,  -7.66990285e-02,\n",
       "          -8.42405301e-01,  -2.28121995e-01,   2.87887112e-01,\n",
       "           2.18556072e-02,   1.06033926e-01,   1.92453070e-01,\n",
       "          -6.53902689e-01,  -3.06877902e-01,   4.70506395e-01,\n",
       "          -1.45499128e-01,   8.98898570e-03,   2.44516466e-01,\n",
       "          -2.23918416e-02,   3.17090694e-01,  -2.28638564e-01,\n",
       "           6.47353507e-02,   3.42423166e-01,  -7.29756883e-02,\n",
       "           1.18372639e-01,  -2.34370527e-01,  -7.00083995e-02,\n",
       "          -2.39521014e-01,   1.20870023e-01,  -4.73765868e-01,\n",
       "          -5.02451735e-01,  -6.77999919e-02,  -1.95805349e-01,\n",
       "          -1.11088116e-01,  -7.67127725e-02,  -6.31990300e-01,\n",
       "          -5.00778599e-01,  -4.53254910e-01,  -7.41161562e-01,\n",
       "          -6.08791382e-01,  -2.04716135e-01,  -1.57522969e-04,\n",
       "          -3.14132932e-01,  -7.40504625e-02,   3.27259466e-01,\n",
       "           2.18905346e-01,  -2.27143589e-01,  -9.26242358e-02,\n",
       "          -1.95806414e-01,  -1.11088116e-01,  -2.92964401e-01,\n",
       "           2.34411706e-02,  -4.40942547e-01,   3.50381698e-01,\n",
       "           4.08799588e-01,   1.07122157e-01,   1.17874623e-01,\n",
       "          -2.34371147e-01,   5.57681178e-02,  -4.04498023e-01,\n",
       "          -5.77318413e-02,  -6.02195876e-02,   8.92992588e-02,\n",
       "          -6.31577701e-02,  -2.01645167e-03,   1.76417558e-01,\n",
       "          -2.82690039e-02,  -3.55965320e-01,  -1.60385236e-01,\n",
       "          -2.93218778e-02,  -8.24504525e-01,  -2.42834572e-01,\n",
       "           1.77932750e-01,   8.31367377e-02,  -6.44737492e-02,\n",
       "          -1.37672825e-01,  -2.84416833e-01,  -4.23194997e-01,\n",
       "          -1.86199287e-01,  -1.17765014e-01,   2.70233049e-01,\n",
       "           8.76377122e-02,  -2.04452915e-02,   5.00298385e-02,\n",
       "          -4.86002435e-02,  -4.38291677e-01,  -3.01458606e-01,\n",
       "          -1.77755343e-01,   1.21233102e-01,   2.34016014e-01,\n",
       "           2.42255259e-03,   2.07696291e-02,  -8.07638538e-02,\n",
       "          -2.69252914e-01,  -1.69759559e-01,   3.46026090e-02,\n",
       "           1.15405433e-01,  -2.53014966e-01,   7.40165959e-02,\n",
       "           2.24755542e-01,  -1.36032141e-01,  -8.74566343e-02,\n",
       "           2.46923058e-01,  -3.56241298e-02,  -2.23379548e-01,\n",
       "          -9.36405916e-02,   4.76131932e-02,   1.39833990e-01,\n",
       "           3.19026969e-01,   1.88055935e-01,   2.09940280e-01,\n",
       "          -1.21057920e-01,  -1.90106516e-01,   2.02766308e-01,\n",
       "           8.18397280e-02,   1.15023683e-02,  -1.08944187e-01,\n",
       "           1.90286285e-01,  -3.33050248e-02,  -2.32141679e-01,\n",
       "          -9.36405916e-02,   9.21988542e-02,  -1.15655601e-02,\n",
       "          -9.93931227e-02,  -2.60026967e-01,  -1.33859823e-01,\n",
       "           1.31192438e-01,   1.62229881e-01,  -2.52991294e-01,\n",
       "          -8.94822936e-02,  -1.15322587e-01,  -3.12045214e-01,\n",
       "          -6.02544109e-01,  -2.99812129e-01,  -1.55074176e-01,\n",
       "          -2.57846006e-03,   2.72370344e-01,  -1.25780669e-01,\n",
       "          -2.90032920e-01,   1.24458069e-01,   1.76602653e-01,\n",
       "          -2.74383763e-01,  -8.36449607e-02,   2.90466522e-01,\n",
       "           3.58271959e-02]), array(-3.9838542764146285)),\n",
       " (array([ -3.91920563e-01,   9.27185840e-02,   1.04890955e-01,\n",
       "           8.17213233e-01,   1.01988049e+00,   8.45706371e-01,\n",
       "           5.26398493e-01,   2.78133660e-01,  -7.03690578e-01,\n",
       "          -2.00604466e-01,  -3.78274955e-01,   4.91666921e-01,\n",
       "           4.45485377e-01,   1.47593791e-01,   1.82360344e-02,\n",
       "          -3.48463424e-01,   6.75502001e-02,   1.29394767e-01,\n",
       "          -6.67307935e-02,   2.28716054e-01,  -2.31641731e-01,\n",
       "          -1.45954475e-01,   2.41495603e-01,  -1.94297250e-01,\n",
       "          -6.67775358e-01,  -5.00110925e-01,   1.21696157e-02,\n",
       "           4.51015543e-02,   6.40606205e-01,   2.88198282e-01,\n",
       "          -2.58058715e-01,   4.65582004e-01,  -1.83710803e-02,\n",
       "           5.78484190e-02,  -1.77348762e-01,  -2.60336395e-01,\n",
       "          -4.18201427e-02,  -5.83749010e-02,   2.11285844e-02,\n",
       "          -1.50351455e-01,  -2.52976689e-01,   1.02815447e-01,\n",
       "          -2.58544482e-01,   2.56662672e-01,  -1.26825995e-01,\n",
       "          -4.66139496e-02,  -1.49848525e-01,  -1.90529140e-01,\n",
       "          -9.41938108e-02,  -3.65686562e-03,  -2.54781162e-01,\n",
       "           1.71496895e-01,  -2.99636908e-01,  -3.79375324e-01,\n",
       "           1.50585803e-01,  -5.69185667e-03,  -2.57372843e-01,\n",
       "          -1.26042884e-01,  -3.46298381e-03,  -6.83127635e-02,\n",
       "           1.99258767e-01,  -1.39407843e-01,  -1.07077015e-01,\n",
       "          -1.41544554e-02,  -3.12968551e-02,  -2.60982035e-01,\n",
       "          -1.27535554e-01,  -3.46242413e-03,  -1.28928611e-01,\n",
       "           3.90518013e-01,   1.76130401e-01,   2.36755912e-02,\n",
       "          -1.23733323e-01,  -1.75548921e-02,  -1.42201527e-01,\n",
       "          -1.99309228e-01,  -9.41938108e-02,  -3.65686562e-03,\n",
       "           2.36381685e-01,   2.99036083e-01,   7.97226586e-02,\n",
       "           1.92654977e-02,  -4.04211155e-01,  -1.22224559e-01,\n",
       "           5.64276740e-02,  -1.40428275e-02,   3.16338524e-02,\n",
       "          -1.46261701e-01,   1.53463866e-01,   8.47886588e-02,\n",
       "          -5.58188851e-03,  -3.65959270e-01,   1.93884696e-01,\n",
       "          -5.74104931e-02,  -2.10580525e-01,   9.00794211e-02,\n",
       "           2.45270001e-01,   2.13561958e-01,  -2.72880158e-01,\n",
       "          -6.78879488e-02,   5.53355028e-01,   3.70061424e-01,\n",
       "          -1.65203713e-01,  -8.00241782e-03,   6.30300451e-01,\n",
       "           1.85725795e-01,  -3.36235080e-01,  -3.41764980e-02,\n",
       "          -5.07716416e-01,   3.36216684e-01,  -2.41562805e-01,\n",
       "           4.99221636e-01,   6.88589266e-01,   1.04708563e+00,\n",
       "           6.92632466e-01,  -5.06662259e-02,  -4.32215990e-01,\n",
       "          -2.52544466e-01,  -5.82603370e-01,   5.36987181e-01,\n",
       "           1.96426108e-01,  -6.07740868e-02,  -4.19718294e-01,\n",
       "           9.75594853e-02,   7.70196674e-02,  -4.99306985e-01,\n",
       "          -5.19473498e-01,  -2.27233571e-01,  -5.85308511e-01,\n",
       "           4.79755699e-01,   2.82653262e-01,  -5.06205808e-01,\n",
       "          -2.91227227e-03,  -1.45942864e+00,  -9.06640741e-01,\n",
       "          -3.75208424e-01,  -1.88332920e-02,   8.33136085e-02,\n",
       "          -6.19120207e-01,   2.91910787e-01,   4.05968044e-01,\n",
       "          -1.50661311e-01,  -1.58823316e-01,  -4.17448731e-01,\n",
       "          -2.41664821e-01,   2.02172657e-01,   4.70255449e-01,\n",
       "           3.04694848e-01,  -5.89723090e-01,  -8.17829277e-02,\n",
       "          -6.75776566e-01,  -5.37613698e-01,  -3.92983156e-01,\n",
       "          -1.78138373e-01,   2.81483499e-02,   1.55799274e-01,\n",
       "          -1.78100940e-03,  -1.47832134e-01,  -5.26825872e-01,\n",
       "          -2.01640359e-01,  -4.29439557e-01,  -6.50870579e-01,\n",
       "          -5.84426706e-02,   1.37311474e-02,  -1.31312753e-01,\n",
       "          -1.91955587e-01,  -9.39599376e-02,  -3.38331737e-03,\n",
       "          -3.22223482e-01,  -3.98466951e-01,  -7.73912365e-01,\n",
       "          -9.91951513e-01,  -4.41758769e-01,  -1.14355274e-01,\n",
       "          -2.27312153e-01,  -1.03024502e-01,  -3.22646118e-03,\n",
       "          -4.97864863e-01,  -4.89110755e-01,  -9.61739243e-01,\n",
       "          -9.75223083e-01,  -5.47135749e-01,  -1.00857398e-01,\n",
       "          -2.25939891e-01,  -1.10490708e-01,  -3.22646118e-03,\n",
       "          -4.62146727e-01,  -2.74382269e-01,  -8.90015107e-01,\n",
       "          -1.28887620e+00,   6.98954517e-02,   3.89201161e-02,\n",
       "          -1.26230174e-01,  -1.95008122e-01,  -9.39503407e-02,\n",
       "          -3.38331737e-03,  -2.99880631e-01,  -1.90294842e-01,\n",
       "          -7.63313098e-01,  -8.89244919e-01,  -2.40585275e-01,\n",
       "          -3.62188599e-02,   1.82611399e-02,   1.64989131e-01,\n",
       "           2.49106586e-02,  -1.43619974e-01,  -5.57269103e-01,\n",
       "          -9.41150316e-02,   1.92053976e-01,  -8.05876958e-01,\n",
       "          -2.60710378e-01,  -3.91726923e-01,  -2.26144304e-01,\n",
       "           1.42035751e-01,   4.24889502e-01,   1.39611624e-01,\n",
       "          -3.32018906e-01,   4.25424751e-01,   6.91579661e-01,\n",
       "           1.96149159e-01,  -3.03800064e-01,  -4.32586835e-01,\n",
       "          -6.39777821e-01,  -4.60274483e-01,  -4.11560002e-02,\n",
       "           8.15188640e-03,  -3.12415401e-01,   4.14964487e-01,\n",
       "          -4.38699830e-01,   1.76004468e-01,  -3.74315165e-01,\n",
       "           1.66538576e-01,  -1.84930293e-01,  -4.86021858e-01,\n",
       "          -4.42240881e-01,  -1.97864255e-01,  -1.56913273e-01,\n",
       "          -2.09816846e-01,  -3.01402270e-01,  -2.67382946e-01,\n",
       "          -3.15329081e-01,  -6.58092678e-02,   8.68471216e-02,\n",
       "           3.84097378e-02,  -9.98596754e-02,  -8.52308265e-02,\n",
       "          -4.86908537e-01,  -2.54813544e-01,  -3.38982874e-01,\n",
       "          -4.35124097e-02,   2.18594663e-03,   1.07790437e-01,\n",
       "          -5.72927935e-03,   2.80838248e-01,   3.94644789e-02,\n",
       "          -1.18353455e-01,  -3.08233689e-01,   2.16514996e-01,\n",
       "           1.63264529e-01,  -2.18874421e-01,  -3.50237616e-01,\n",
       "          -1.40107895e-01,   2.80926884e-01,  -4.29403278e-01,\n",
       "           1.55476407e-01,  -1.93483328e-01,  -1.28790183e-01,\n",
       "          -2.67672223e-02,  -3.66939896e-01,  -9.25309723e-01,\n",
       "          -4.00067414e-01,  -6.08546096e-01,  -8.29266193e-02,\n",
       "          -1.95662908e-01,  -6.27093448e-02,  -1.09108620e-05,\n",
       "          -1.12163186e-01,  -5.28484371e-01,  -3.70100450e-01,\n",
       "          -3.64725749e-01,   1.18742960e-01,  -1.89589070e-01,\n",
       "          -1.28756730e-01,  -2.67672223e-02,   1.58816501e-01,\n",
       "          -7.63080283e-02,  -2.64287087e-02,  -7.12391797e-01,\n",
       "          -3.31746709e-01,   6.57995374e-02,   1.62931060e-01,\n",
       "          -2.18874414e-01,   1.36329253e-01,  -1.26623558e-01,\n",
       "          -7.54779423e-01,  -5.67740599e-01,  -3.21628228e-01,\n",
       "          -1.16434380e-01,  -8.31630808e-05,   6.51636646e-02,\n",
       "           1.00611620e-02,  -1.56287298e-01,  -1.15221736e-01,\n",
       "          -1.93205728e-01,  -3.01827561e-01,  -1.12849730e-01,\n",
       "           6.34971885e-02,   1.37541846e-01,   8.80241235e-03,\n",
       "          -4.03923673e-01,  -7.29022464e-02,  -4.90857286e-02,\n",
       "          -4.73553987e-02,  -3.07909669e-02,   1.31221586e-01,\n",
       "           1.41665161e-01,   1.10005047e-01,  -3.22934776e-01,\n",
       "          -2.61935795e-01,   7.73561147e-02,  -9.21161692e-02,\n",
       "          -5.78751339e-02,   1.32691383e-01,   9.44790377e-02,\n",
       "           2.52704316e-01,   1.42745624e-01,  -3.92482472e-02,\n",
       "          -5.42607208e-02,  -2.37334777e-02,   2.94145649e-01,\n",
       "           2.34708804e-01,  -2.04573279e-01,   1.76732250e-01,\n",
       "           4.27365499e-02,  -1.15328792e-01,  -1.37560600e-02,\n",
       "           1.60021248e-01,  -7.85224140e-02,  -1.26106140e-01,\n",
       "          -2.22714117e-02,   2.90675724e-01,   1.22981356e-02,\n",
       "           1.60845814e-01,   2.71705691e-01,   2.38551535e-01,\n",
       "          -3.67122835e-02,  -5.65465551e-02,   1.53976607e-01,\n",
       "          -4.38494746e-01,  -6.19447245e-02,  -2.91886195e-02,\n",
       "           2.03060363e-01,  -7.72552560e-02,  -1.26897563e-01,\n",
       "          -2.22714117e-02,   2.29037450e-02,  -3.48026897e-01,\n",
       "           3.35497935e-02,  -4.82253684e-02,  -3.35732079e-02,\n",
       "           1.45641493e-01,   1.54064429e-01,  -2.04563010e-01,\n",
       "           4.30922357e-03,  -3.85711753e-01,  -3.33754629e-02,\n",
       "          -4.97180931e-02,  -9.33191832e-02,   1.68167127e-02,\n",
       "           1.11698872e-01,   1.41265454e-01,  -8.94519586e-02,\n",
       "          -3.18237411e-01,  -8.81617272e-02,  -3.42967304e-02,\n",
       "          -4.29141303e-02,  -4.90680985e-02,   3.64082802e-02,\n",
       "           4.73301011e-02]), array(-2.1469907110458264)),\n",
       " (array([ -7.27897363e-02,  -3.06306549e-01,  -6.01437158e-01,\n",
       "           3.06058389e-01,   9.82000865e-01,   6.60607313e-01,\n",
       "          -1.02786432e-01,   3.15136430e-01,  -1.32786041e-01,\n",
       "          -9.07059515e-02,  -1.24695892e-02,  -3.20673753e-03,\n",
       "          -4.94199274e-01,  -5.59138986e-01,  -5.25412914e-01,\n",
       "          -2.33385509e-01,   3.37517782e-01,   4.46749926e-01,\n",
       "          -1.59689179e-01,  -5.08491493e-02,  -2.09252356e-01,\n",
       "          -2.02902827e-01,  -3.26307456e-01,  -2.68084170e-01,\n",
       "          -3.27140003e-01,  -3.40337916e-01,  -3.04936010e-01,\n",
       "           4.53731644e-02,   8.73151338e-02,  -1.94208231e-01,\n",
       "          -4.75420727e-01,  -4.10888205e-01,  -2.62894001e-01,\n",
       "          -2.37086367e-01,  -1.63750241e-01,  -1.42505231e-01,\n",
       "          -1.45490142e-01,  -9.13202843e-02,  -5.57933732e-03,\n",
       "          -6.69378563e-02,  -3.59348904e-01,  -6.54237484e-01,\n",
       "          -3.76408074e-01,  -2.07745360e-01,   7.26043490e-02,\n",
       "          -1.09488214e-01,  -3.24937143e-01,  -1.22585141e-01,\n",
       "          -3.75599201e-02,  -3.13068632e-03,  -1.53206036e-01,\n",
       "          -3.34056245e-01,  -6.09651322e-01,  -1.79591449e-01,\n",
       "          -1.03632966e-01,  -2.37629034e-01,  -2.74915035e-01,\n",
       "          -6.99881992e-02,  -2.43388749e-03,  -2.46252204e-01,\n",
       "          -2.89127932e-01,  -4.25301981e-01,  -1.91460138e-01,\n",
       "          -1.25163337e-01,  -2.35042661e-01,  -2.73826819e-01,\n",
       "          -9.10262262e-02,  -2.43382342e-03,  -2.05512578e-01,\n",
       "          -2.76671212e-01,  -3.27951483e-01,  -1.68356990e-01,\n",
       "           3.20283652e-02,  -1.05504953e-01,  -3.22750689e-01,\n",
       "          -1.52619353e-01,  -3.75599201e-02,  -3.13068632e-03,\n",
       "          -3.41873089e-01,  -1.62095028e-01,  -2.23506166e-01,\n",
       "          -2.12710658e-01,  -1.81934916e-01,  -1.28467795e-01,\n",
       "           2.35313992e-01,  -1.50140644e-01,   6.91953903e-03,\n",
       "          -6.31386496e-02,  -1.15892221e-01,  -8.01119930e-02,\n",
       "          -2.85338414e-01,  -2.64518408e-01,  -3.66963230e-01,\n",
       "          -1.24208162e-01,  -1.40664965e-01,   5.39269415e-02,\n",
       "           1.64799204e-01,   4.31663066e-02,  -6.14979627e-02,\n",
       "           1.11417626e-01,  -5.63756041e-01,  -8.08238260e-02,\n",
       "           4.43165807e-02,   5.18358971e-01,   1.14538659e+00,\n",
       "           3.98183246e-01,  -2.04014984e-01,   9.04594491e-02,\n",
       "          -1.21028381e-01,   1.89368216e-01,  -6.71276482e-01,\n",
       "          -2.45669491e-01,   5.78356709e-01,   4.05388860e-01,\n",
       "           2.87627212e-01,   4.15803883e-03,  -1.59710864e-01,\n",
       "          -7.78952326e-02,  -3.83799513e-01,  -1.11658628e-01,\n",
       "          -9.50030103e-01,   3.07492520e-02,  -3.56230587e-02,\n",
       "          -2.17224557e-01,  -9.86911412e-01,  -6.32714322e-01,\n",
       "          -3.59183271e-01,  -6.56624645e-02,  -2.96155803e-01,\n",
       "          -8.54443108e-02,  -3.48526948e-01,  -4.13439722e-01,\n",
       "          -3.41391303e-01,  -5.81124295e-01,  -3.82207726e-01,\n",
       "          -9.77498774e-02,  -3.44896815e-02,   8.70888890e-02,\n",
       "          -2.91474721e-01,  -9.23808465e-02,  -7.35053297e-01,\n",
       "          -2.21592593e-01,  -1.50335133e-01,  -2.78168752e-01,\n",
       "          -2.16280304e-01,   3.76875528e-03,   2.02886513e-01,\n",
       "          -3.32385294e-03,  -4.23501000e-01,  -2.76223038e-01,\n",
       "          -2.51780711e-01,  -1.27781053e-01,  -1.49944943e-01,\n",
       "          -1.74536979e-01,  -1.42522015e-01,  -2.35258714e-01,\n",
       "           1.30991062e-03,  -6.76623667e-02,  -4.61583149e-01,\n",
       "          -4.96666155e-01,  -3.24939924e-01,  -2.20638143e-01,\n",
       "          -2.53777174e-02,  -1.43775087e-01,  -2.77000489e-01,\n",
       "          -1.03770370e-01,  -3.75287354e-02,  -2.80395693e-03,\n",
       "          -5.46648392e-01,  -5.92143363e-01,  -6.31099979e-01,\n",
       "          -6.04731462e-01,  -2.76690338e-01,  -2.59084350e-01,\n",
       "          -2.64572497e-01,  -5.18898008e-02,  -1.81062041e-03,\n",
       "          -5.78665992e-01,  -6.05731842e-01,  -5.98929220e-01,\n",
       "          -6.60756810e-01,  -2.97916677e-01,  -2.37829854e-01,\n",
       "          -2.65954122e-01,  -6.94295477e-02,  -1.81062041e-03,\n",
       "          -5.40239902e-01,  -4.49705531e-01,  -2.94258704e-01,\n",
       "          -2.40605830e-01,   3.87714140e-02,  -1.22026893e-01,\n",
       "          -2.81016288e-01,  -1.10824830e-01,  -3.75286878e-02,\n",
       "          -2.80395693e-03,  -4.57376349e-01,  -2.28941751e-01,\n",
       "          -3.07884205e-01,  -1.57738856e-01,  -1.09321395e-01,\n",
       "          -1.42333757e-01,  -1.31618002e-01,  -2.15037829e-01,\n",
       "          -8.49460396e-03,  -6.13979052e-02,  -4.32371633e-01,\n",
       "          -8.14119067e-02,  -8.36212001e-02,  -1.05817585e-01,\n",
       "          -8.94225145e-02,  -2.83011790e-01,  -2.02299639e-01,\n",
       "           5.68778423e-02,   2.81482764e-01,   8.06565209e-02,\n",
       "          -3.71862781e-01,   1.97326876e-01,  -2.35405939e-01,\n",
       "          -9.70677298e-01,  -1.34588279e-01,  -4.63200901e-01,\n",
       "          -4.01751635e-01,  -1.57312026e-01,  -3.67224462e-02,\n",
       "           1.01472030e-01,  -2.58302673e-01,  -3.10018621e-01,\n",
       "          -7.38406310e-01,  -2.08825284e-01,   5.89550661e-01,\n",
       "          -2.31186325e-01,  -4.09414261e-01,  -2.71013973e-01,\n",
       "          -1.52913920e-01,  -8.77783104e-02,  -4.10824903e-02,\n",
       "          -6.27031012e-02,  -8.93905510e-02,  -1.54556186e-01,\n",
       "          -1.71890620e-01,  -6.86201654e-02,   3.62014390e-02,\n",
       "           1.29890079e-01,  -1.64882912e-02,   3.19553042e-02,\n",
       "          -1.68436466e-01,  -2.18036462e-01,  -2.06651372e-01,\n",
       "          -8.37138489e-02,   2.07093160e-03,   3.42283065e-02,\n",
       "          -6.59793538e-03,   9.52231124e-02,  -9.73060529e-02,\n",
       "          -3.65945636e-01,  -2.54927838e-01,   1.20542160e-01,\n",
       "           7.21911508e-02,  -1.79551608e-02,  -1.09564955e-01,\n",
       "          -8.55125384e-02,   2.33950348e-01,  -4.11237171e-01,\n",
       "          -1.02531161e-01,  -2.34611775e-01,  -5.54659642e-02,\n",
       "          -1.86014142e-02,  -1.80313441e-01,  -8.52729681e-01,\n",
       "          -8.25235865e-01,  -4.29578317e-01,  -2.77088628e-02,\n",
       "          -2.00272099e-01,  -3.61805556e-02,  -2.82717483e-05,\n",
       "           9.14090154e-02,  -7.94936233e-02,  -3.31388257e-01,\n",
       "          -7.18940853e-01,  -9.63718333e-03,  -2.33803304e-01,\n",
       "          -5.53072441e-02,  -1.86014142e-02,   2.51031233e-01,\n",
       "           8.80785284e-02,   1.49737289e-01,  -1.21507893e-01,\n",
       "          -2.07774934e-01,   1.10235506e-01,   7.21101892e-02,\n",
       "          -1.79551601e-02,   1.61443525e-01,  -2.07751783e-01,\n",
       "          -1.73202800e-01,  -1.71773149e-01,  -1.86256229e-01,\n",
       "          -7.24135325e-02,   3.16253607e-03,   2.69209211e-02,\n",
       "           8.04684837e-02,  -1.58211816e-01,  -7.39999721e-02,\n",
       "          -1.09477995e-01,  -1.47842236e-01,  -4.68973040e-02,\n",
       "           3.38573579e-02,   3.88584895e-02,  -3.25497953e-02,\n",
       "          -1.92219981e-01,  -1.56553635e-01,  -3.58134328e-02,\n",
       "          -3.35733362e-02,  -2.68622777e-02,   5.35927643e-02,\n",
       "           5.30402939e-02,  -2.98490407e-02,  -2.94677389e-01,\n",
       "          -1.66977181e-01,  -7.62193455e-02,  -9.40509828e-02,\n",
       "          -2.04713460e-01,  -1.77472000e-01,  -1.79734395e-01,\n",
       "          -5.34018443e-02,  -3.21238421e-01,  -1.18629102e-01,\n",
       "          -4.98556279e-02,  -1.90193779e-01,   7.24783195e-02,\n",
       "           7.62146413e-02,  -2.67691012e-02,  -1.29418188e-01,\n",
       "          -1.91411384e-01,  -1.15807774e-01,   2.61872311e-02,\n",
       "          -3.67121183e-02,  -2.19005004e-01,  -5.37331957e-02,\n",
       "          -1.46699519e-02,  -2.51492081e-01,  -1.61784061e-01,\n",
       "           1.14761720e-02,  -8.25532924e-02,  -6.57305494e-03,\n",
       "          -1.30798794e-01,  -3.32720754e-02,  -1.54758175e-01,\n",
       "          -3.99110858e-02,  -7.57777400e-02,  -1.94918903e-02,\n",
       "          -3.21996175e-02,  -2.17808903e-01,  -5.45899802e-02,\n",
       "          -1.46699519e-02,   3.96810577e-02,   6.87685141e-03,\n",
       "          -7.27415470e-02,  -7.20877123e-02,   2.08069809e-02,\n",
       "           1.22889859e-01,   8.32424305e-02,  -2.67516349e-02,\n",
       "           5.27988403e-03,   9.82240344e-02,  -4.05987916e-02,\n",
       "          -4.52075260e-02,  -7.83837028e-02,  -2.13616355e-01,\n",
       "          -9.67624938e-02,   3.24241191e-02,  -9.29484850e-02,\n",
       "          -2.24023376e-02,  -3.74023256e-02,  -4.68910274e-02,\n",
       "          -6.42324439e-02,  -4.57699698e-02,   7.20059528e-02,\n",
       "           1.55104777e-01]), array(-1.0520952243289705))]"
      ]
     },
     "execution_count": 141,
     "metadata": {},
     "output_type": "execute_result"
    }
   ],
   "source": [
    "paramsCollection"
   ]
  },
  {
   "cell_type": "code",
   "execution_count": 142,
   "metadata": {
    "collapsed": false
   },
   "outputs": [
    {
     "data": {
      "text/plain": [
       "10"
      ]
     },
     "execution_count": 142,
     "metadata": {},
     "output_type": "execute_result"
    }
   ],
   "source": [
    "len(paramsCollection) #TODO refactor params collection to make it into a matrix to have it ready for question 5"
   ]
  },
  {
   "cell_type": "code",
   "execution_count": 143,
   "metadata": {
    "collapsed": false
   },
   "outputs": [],
   "source": [
    "bk = np.array([p[1] for p in paramsCollection]) #get biases from params collection"
   ]
  },
  {
   "cell_type": "code",
   "execution_count": 144,
   "metadata": {
    "collapsed": false
   },
   "outputs": [],
   "source": [
    "D = Xtr.shape[1]"
   ]
  },
  {
   "cell_type": "code",
   "execution_count": 145,
   "metadata": {
    "collapsed": false
   },
   "outputs": [
    {
     "data": {
      "text/plain": [
       "(10, 379)"
      ]
     },
     "execution_count": 145,
     "metadata": {},
     "output_type": "execute_result"
    }
   ],
   "source": [
    "V = np.zeros((K, D))\n",
    "V.shape"
   ]
  },
  {
   "cell_type": "code",
   "execution_count": 146,
   "metadata": {
    "collapsed": false
   },
   "outputs": [],
   "source": [
    "weightsFromParamsCollection = [p[0] for p in paramsCollection]"
   ]
  },
  {
   "cell_type": "code",
   "execution_count": 147,
   "metadata": {
    "collapsed": false
   },
   "outputs": [],
   "source": [
    "for i, w in enumerate(weightsFromParamsCollection):\n",
    "    V[i, :] = w"
   ]
  },
  {
   "cell_type": "code",
   "execution_count": 148,
   "metadata": {
    "collapsed": false
   },
   "outputs": [
    {
     "data": {
      "text/plain": [
       "array([[-0.1804373 ,  0.16753387,  0.0861282 , -0.05835337, -0.27254156,\n",
       "         0.01045983,  0.09169777,  0.14772877,  0.1130179 ,  0.01292211],\n",
       "       [ 0.23818631, -0.0037519 ,  0.08939135, -0.28249096,  0.46947222,\n",
       "         0.2428821 , -0.20053769,  0.5639093 ,  0.19279334,  0.02279842],\n",
       "       [-0.34090875, -0.01084626,  0.15612231,  0.53620278,  1.43310226,\n",
       "         0.39290399, -0.01777887,  0.16203922, -0.77345654, -0.17547967],\n",
       "       [-0.47333174, -0.64860932, -0.14091801,  1.33454083,  1.45991401,\n",
       "         0.16763888,  0.25495831,  0.81614697, -0.70309945, -0.27338187],\n",
       "       [-0.41188558, -0.61319485, -0.0988138 ,  1.30113018,  1.34673323,\n",
       "         0.33154783, -0.46113265,  0.59379654, -0.94065742, -0.32934864]])"
      ]
     },
     "execution_count": 148,
     "metadata": {},
     "output_type": "execute_result"
    }
   ],
   "source": [
    "V[:5,:10]"
   ]
  },
  {
   "cell_type": "code",
   "execution_count": 149,
   "metadata": {
    "collapsed": true
   },
   "outputs": [],
   "source": [
    "def getInitialNeuralNetworkState():\n",
    "    return (ww_5.copy(), bb_5.copy(), V.copy(), bk.copy())"
   ]
  },
  {
   "cell_type": "code",
   "execution_count": 150,
   "metadata": {
    "collapsed": true
   },
   "outputs": [],
   "source": [
    "fittedParams = minimize_list(nn_cost, getInitialNeuralNetworkState(), (Xtr, yTrain, alpha))\n",
    "train_question4_RMSE = getRMSE(trueTargets=yTrain, predictions=nn_cost(fittedParams, Xtr)),\n",
    "testing_question4_RMSE = getRMSE(trueTargets=yVal, predictions=nn_cost(fittedParams, Xvalid))"
   ]
  },
  {
   "cell_type": "code",
   "execution_count": 151,
   "metadata": {
    "collapsed": false
   },
   "outputs": [
    {
     "data": {
      "text/plain": [
       "(0.10026697346626232,)"
      ]
     },
     "execution_count": 151,
     "metadata": {},
     "output_type": "execute_result"
    }
   ],
   "source": [
    "train_question4_RMSE"
   ]
  },
  {
   "cell_type": "code",
   "execution_count": 152,
   "metadata": {
    "collapsed": false
   },
   "outputs": [
    {
     "data": {
      "text/plain": [
       "0.2613245639516538"
      ]
     },
     "execution_count": 152,
     "metadata": {},
     "output_type": "execute_result"
    }
   ],
   "source": [
    "testing_question4_RMSE"
   ]
  },
  {
   "cell_type": "markdown",
   "metadata": {},
   "source": [
    "We followed a procedure for pretraining / initialization which is called Layer-by-Layer cross-entropy training. In our case it does not seem to yield any amazing results even though the training error is below the mean of the previous experiment and the testing error is slighly above the mean of the previous experiment.\n",
    "\n",
    "We can only conclude that this methodology is not bad and is guaranteed some good results but not optimal.  \n",
    "We see that initialization with some random values we were able to find a better local (if not global) minima."
   ]
  },
  {
   "cell_type": "markdown",
   "metadata": {},
   "source": [
    "## 6. What's Next?\n",
    "Here we are going to implement a larger neural network with ten times more neurons. Let's see if we have an improved performance with 100 neurons"
   ]
  },
  {
   "cell_type": "code",
   "execution_count": 153,
   "metadata": {
    "collapsed": true
   },
   "outputs": [],
   "source": [
    "trainError, testError = fitAndScore(1e-3, K=100)"
   ]
  },
  {
   "cell_type": "code",
   "execution_count": 154,
   "metadata": {
    "collapsed": false
   },
   "outputs": [
    {
     "data": {
      "text/plain": [
       "0.09935530492176238"
      ]
     },
     "execution_count": 154,
     "metadata": {},
     "output_type": "execute_result"
    }
   ],
   "source": [
    "trainError"
   ]
  },
  {
   "cell_type": "code",
   "execution_count": 155,
   "metadata": {
    "collapsed": false
   },
   "outputs": [
    {
     "data": {
      "text/plain": [
       "0.26360266742658284"
      ]
     },
     "execution_count": 155,
     "metadata": {},
     "output_type": "execute_result"
    }
   ],
   "source": [
    "testError"
   ]
  },
  {
   "cell_type": "markdown",
   "metadata": {},
   "source": [
    "With 100 neurons the system became much more computationally intensive. It took much longer to complete the process and the result was not an amazing one.\n",
    "\n",
    "We notice that the training error has decreased a little bit but the testing error has not changed significantly than the previous experiments.\n",
    "\n",
    "The increased number of neurons means that the system has more flexibility to derive more features because the logistic regressions to only K=10 might not be enough to capture the complexity of the data and thus some information is lost in this dimensionality reduction."
   ]
  },
  {
   "cell_type": "markdown",
   "metadata": {},
   "source": [
    "#### Extra idea"
   ]
  },
  {
   "cell_type": "markdown",
   "metadata": {},
   "source": [
    "One more idea worth trying is to improve the performance by optimizing the regularization variable lambda (or alpha as we have called it in this assignment). We might also want to do a k-fold cross validation by combining the training and validation data and use as test the testing dataset.\n",
    "\n",
    "Note that for this part of the answer we are using K=10 neurons"
   ]
  },
  {
   "cell_type": "code",
   "execution_count": 156,
   "metadata": {
    "collapsed": false
   },
   "outputs": [
    {
     "data": {
      "text/plain": [
       "((40754, 379), (5785, 379), (6961, 379))"
      ]
     },
     "execution_count": 156,
     "metadata": {},
     "output_type": "execute_result"
    }
   ],
   "source": [
    "Xtr.shape, Xvalid.shape, Xtesting.shape"
   ]
  },
  {
   "cell_type": "code",
   "execution_count": 157,
   "metadata": {
    "collapsed": false
   },
   "outputs": [
    {
     "data": {
      "text/plain": [
       "((40754,), (5785,), (6961,))"
      ]
     },
     "execution_count": 157,
     "metadata": {},
     "output_type": "execute_result"
    }
   ],
   "source": [
    "yTrain.shape, yVal.shape, yTest.shape"
   ]
  },
  {
   "cell_type": "code",
   "execution_count": 158,
   "metadata": {
    "collapsed": false
   },
   "outputs": [
    {
     "data": {
      "text/plain": [
       "(46539, 379)"
      ]
     },
     "execution_count": 158,
     "metadata": {},
     "output_type": "execute_result"
    }
   ],
   "source": [
    "Xall = np.concatenate( (Xtr, Xvalid), axis=0 )\n",
    "assert Xall.shape[0] == Xtr.shape[0] + Xvalid.shape[0] and Xall.shape[1] == Xtr.shape[1]\n",
    "Xall.shape"
   ]
  },
  {
   "cell_type": "code",
   "execution_count": 159,
   "metadata": {
    "collapsed": false
   },
   "outputs": [
    {
     "data": {
      "text/plain": [
       "(46539,)"
      ]
     },
     "execution_count": 159,
     "metadata": {},
     "output_type": "execute_result"
    }
   ],
   "source": [
    "yAll = np.concatenate( (yTrain, yVal), axis=0 )\n",
    "assert yAll.shape[0] == yTrain.shape[0] + yVal.shape[0]\n",
    "yAll.shape"
   ]
  },
  {
   "cell_type": "markdown",
   "metadata": {},
   "source": [
    "Let's do a 10-fold cross validation"
   ]
  },
  {
   "cell_type": "code",
   "execution_count": 160,
   "metadata": {
    "collapsed": true
   },
   "outputs": [],
   "source": [
    "k = 10"
   ]
  },
  {
   "cell_type": "code",
   "execution_count": 161,
   "metadata": {
    "collapsed": true
   },
   "outputs": [],
   "source": [
    "kFold = KFold(n_splits=k, shuffle=True, random_state=seed) #be aware this behaves differently for different versions of scipy"
   ]
  },
  {
   "cell_type": "code",
   "execution_count": 162,
   "metadata": {
    "collapsed": false
   },
   "outputs": [
    {
     "name": "stdout",
     "output_type": "stream",
     "text": [
      "let's print all the sizes of the different combinations of the k fold cross validation\n",
      "(41885,)\n",
      "(4654,)\n",
      "(41885,)\n",
      "(4654,)\n",
      "(41885,)\n",
      "(4654,)\n",
      "(41885,)\n",
      "(4654,)\n",
      "(41885,)\n",
      "(4654,)\n",
      "(41885,)\n",
      "(4654,)\n",
      "(41885,)\n",
      "(4654,)\n",
      "(41885,)\n",
      "(4654,)\n",
      "(41885,)\n",
      "(4654,)\n",
      "(41886,)\n",
      "(4653,)\n"
     ]
    }
   ],
   "source": [
    "print \"let's print all the sizes of the different combinations of the k fold cross validation\"\n",
    "for a, b in kFold.split(Xall):\n",
    "    print a.shape\n",
    "    print b.shape"
   ]
  },
  {
   "cell_type": "code",
   "execution_count": 163,
   "metadata": {
    "collapsed": false
   },
   "outputs": [
    {
     "data": {
      "text/plain": [
       "1.0"
      ]
     },
     "execution_count": 163,
     "metadata": {},
     "output_type": "execute_result"
    }
   ],
   "source": [
    "np.log10(alpha)"
   ]
  },
  {
   "cell_type": "code",
   "execution_count": 164,
   "metadata": {
    "collapsed": false
   },
   "outputs": [
    {
     "data": {
      "text/plain": [
       "2"
      ]
     },
     "execution_count": 164,
     "metadata": {},
     "output_type": "execute_result"
    }
   ],
   "source": [
    "numOfPossibleAlphas = 5\n",
    "shift = (numOfPossibleAlphas-1)/2\n",
    "shift"
   ]
  },
  {
   "cell_type": "code",
   "execution_count": 165,
   "metadata": {
    "collapsed": false
   },
   "outputs": [
    {
     "name": "stdout",
     "output_type": "stream",
     "text": [
      "(5,)\n"
     ]
    },
    {
     "data": {
      "text/plain": [
       "array([  1.00000000e-01,   1.00000000e+00,   1.00000000e+01,\n",
       "         1.00000000e+02,   1.00000000e+03])"
      ]
     },
     "execution_count": 165,
     "metadata": {},
     "output_type": "execute_result"
    }
   ],
   "source": [
    "alphas = np.logspace(np.log10(alpha) - shift, np.log10(alpha) + shift, num = numOfPossibleAlphas)\n",
    "print alphas.shape\n",
    "alphas"
   ]
  },
  {
   "cell_type": "code",
   "execution_count": 166,
   "metadata": {
    "collapsed": false
   },
   "outputs": [
    {
     "name": "stdout",
     "output_type": "stream",
     "text": [
      "This is the initial neural network state as computed from the previous exercises\n",
      "(10,)\n",
      "()\n",
      "(10, 379)\n",
      "(10,)\n"
     ]
    }
   ],
   "source": [
    "print \"This is the initial neural network state as computed from the previous exercises\"\n",
    "for item in getInitialNeuralNetworkState():\n",
    "    print item.shape"
   ]
  },
  {
   "cell_type": "code",
   "execution_count": 173,
   "metadata": {
    "collapsed": true
   },
   "outputs": [],
   "source": [
    "def fitNeuralNetwork(trainInputs, trainTargets, validInputs, validTargets, alpha):\n",
    "    fittedParams = minimize_list(nn_cost, getInitialNeuralNetworkState(), (trainInputs, trainTargets, alpha))\n",
    "    trainRMSE = getRMSE(trueTargets=trainTargets, predictions=nn_cost(fittedParams, trainInputs)),\n",
    "    validRMSE = getRMSE(trueTargets=validTargets, predictions=nn_cost(fittedParams, validInputs))\n",
    "    return fittedParams, trainRMSE, validRMSE"
   ]
  },
  {
   "cell_type": "code",
   "execution_count": 174,
   "metadata": {
    "collapsed": false
   },
   "outputs": [
    {
     "data": {
      "text/plain": [
       "(10, 5)"
      ]
     },
     "execution_count": 174,
     "metadata": {},
     "output_type": "execute_result"
    }
   ],
   "source": [
    "resultsShape = (k, len(alphas))\n",
    "resultsShape"
   ]
  },
  {
   "cell_type": "code",
   "execution_count": 175,
   "metadata": {
    "collapsed": true
   },
   "outputs": [],
   "source": [
    "trainErrors = np.zeros(resultsShape)\n",
    "validationErrors = np.zeros(resultsShape)"
   ]
  },
  {
   "cell_type": "code",
   "execution_count": 177,
   "metadata": {
    "collapsed": false
   },
   "outputs": [],
   "source": [
    "def doCrossValidation(alpha, i):\n",
    "    for j, (trainIndices, validationIndices) in enumerate(kFold.split(Xall)):\n",
    "        fittedParams, trainRMSE, validRMSE = fitNeuralNetwork(\n",
    "            trainInputs=Xall[trainIndices], trainTargets=yAll[trainIndices],\n",
    "            validInputs=Xall[validationIndices], validTargets = yAll[validationIndices], alpha=alpha\n",
    "        )\n",
    "\n",
    "        assert len(trainRMSE) == 1\n",
    "        trainErrors[j, i] = trainRMSE[0]\n",
    "        validationErrors[j, i] = validRMSE"
   ]
  },
  {
   "cell_type": "code",
   "execution_count": 178,
   "metadata": {
    "collapsed": true
   },
   "outputs": [],
   "source": [
    "def fitAndValidateForMultipleAlphas(alphas):\n",
    "    for i, alpha in enumerate(alphas):\n",
    "        doCrossValidation(alpha, i)"
   ]
  },
  {
   "cell_type": "code",
   "execution_count": 179,
   "metadata": {
    "collapsed": false
   },
   "outputs": [
    {
     "data": {
      "text/plain": [
       "1160.1132969856262"
      ]
     },
     "execution_count": 179,
     "metadata": {},
     "output_type": "execute_result"
    }
   ],
   "source": [
    "trainErrors = np.zeros(resultsShape)\n",
    "validationErrors = np.zeros(resultsShape)\n",
    "run_start_time = time.time()\n",
    "fitAndValidateForMultipleAlphas(alphas) #long running script because we need to run the neural network 50 times\n",
    "run_time = time.time() - run_start_time\n",
    "run_time"
   ]
  },
  {
   "cell_type": "code",
   "execution_count": 180,
   "metadata": {
    "collapsed": false
   },
   "outputs": [
    {
     "data": {
      "text/plain": [
       "(5,)"
      ]
     },
     "execution_count": 180,
     "metadata": {},
     "output_type": "execute_result"
    }
   ],
   "source": [
    "trainMeanRMSEs = np.mean(trainErrors, axis=0)\n",
    "trainMeanRMSEs.shape"
   ]
  },
  {
   "cell_type": "code",
   "execution_count": 181,
   "metadata": {
    "collapsed": false
   },
   "outputs": [
    {
     "data": {
      "text/plain": [
       "(5,)"
      ]
     },
     "execution_count": 181,
     "metadata": {},
     "output_type": "execute_result"
    }
   ],
   "source": [
    "validationMeanRMSEs = np.mean(validationErrors, axis=0)\n",
    "validationMeanRMSEs.shape"
   ]
  },
  {
   "cell_type": "code",
   "execution_count": 182,
   "metadata": {
    "collapsed": false
   },
   "outputs": [
    {
     "data": {
      "image/png": "[encoded data removed]",
      "text/plain": [
       "<matplotlib.figure.Figure at 0x7fe779b96890>"
      ]
     },
     "metadata": {},
     "output_type": "display_data"
    }
   ],
   "source": [
    "fig = plt.figure()\n",
    "plt.plot(np.log10(alphas), trainMeanRMSEs)\n",
    "plt.title('Root Mean Square Error on training set for %d-fold cross validation' % k,\n",
    "         fontsize=12)\n",
    "plt.ylabel('Training RMSE')\n",
    "plt.xlabel('log10 of alpha')\n",
    "plt.show()"
   ]
  },
  {
   "cell_type": "code",
   "execution_count": 183,
   "metadata": {
    "collapsed": false
   },
   "outputs": [
    {
     "data": {
      "image/png": "[encoded data removed]",
      "text/plain": [
       "<matplotlib.figure.Figure at 0x7fe779b96e50>"
      ]
     },
     "metadata": {},
     "output_type": "display_data"
    }
   ],
   "source": [
    "fig = plt.figure()\n",
    "plt.plot(np.log10(alphas), validationMeanRMSEs)\n",
    "plt.title('Root Mean Square Error on validation set for %d-fold cross validation' % k,\n",
    "         fontsize=12)\n",
    "plt.ylabel('Validation RMSE')\n",
    "plt.xlabel('log10 of alpha')\n",
    "plt.show()"
   ]
  },
  {
   "cell_type": "markdown",
   "metadata": {},
   "source": [
    "From the two graphs above we understand that we need to explore for smaller values of alpha"
   ]
  },
  {
   "cell_type": "code",
   "execution_count": 184,
   "metadata": {
    "collapsed": false
   },
   "outputs": [
    {
     "data": {
      "text/plain": [
       "array([  1.00000000e-03,   1.00000000e-02,   1.00000000e-01,\n",
       "         1.00000000e+00,   1.00000000e+01])"
      ]
     },
     "execution_count": 184,
     "metadata": {},
     "output_type": "execute_result"
    }
   ],
   "source": [
    "alphas = np.logspace(-3, 1, num=5)\n",
    "alphas"
   ]
  },
  {
   "cell_type": "code",
   "execution_count": 185,
   "metadata": {
    "collapsed": false
   },
   "outputs": [
    {
     "data": {
      "text/plain": [
       "1274.1242611408234"
      ]
     },
     "execution_count": 185,
     "metadata": {},
     "output_type": "execute_result"
    }
   ],
   "source": [
    "trainErrors = np.zeros(resultsShape)\n",
    "validationErrors = np.zeros(resultsShape)\n",
    "run_start_time = time.time()\n",
    "fitAndValidateForMultipleAlphas(alphas) #long running script because we need to run the neural network 50 times\n",
    "run_time = time.time() - run_start_time\n",
    "run_time"
   ]
  },
  {
   "cell_type": "code",
   "execution_count": 186,
   "metadata": {
    "collapsed": false
   },
   "outputs": [
    {
     "data": {
      "text/plain": [
       "(5,)"
      ]
     },
     "execution_count": 186,
     "metadata": {},
     "output_type": "execute_result"
    }
   ],
   "source": [
    "trainMeanRMSEs = np.mean(trainErrors, axis=0)\n",
    "trainMeanRMSEs.shape"
   ]
  },
  {
   "cell_type": "code",
   "execution_count": 187,
   "metadata": {
    "collapsed": false
   },
   "outputs": [
    {
     "data": {
      "text/plain": [
       "(5,)"
      ]
     },
     "execution_count": 187,
     "metadata": {},
     "output_type": "execute_result"
    }
   ],
   "source": [
    "validationMeanRMSEs = np.mean(validationErrors, axis=0)\n",
    "validationMeanRMSEs.shape"
   ]
  },
  {
   "cell_type": "code",
   "execution_count": 188,
   "metadata": {
    "collapsed": false
   },
   "outputs": [
    {
     "data": {
      "image/png": "[encoded data removed]",
      "text/plain": [
       "<matplotlib.figure.Figure at 0x7fe779640f10>"
      ]
     },
     "metadata": {},
     "output_type": "display_data"
    }
   ],
   "source": [
    "fig = plt.figure()\n",
    "plt.plot(np.log10(alphas), trainMeanRMSEs)\n",
    "plt.title('Root Mean Square Error on training set for %d-fold cross validation' % k,\n",
    "         fontsize=12)\n",
    "plt.ylabel('Training RMSE')\n",
    "plt.xlabel('log10 of alpha')\n",
    "plt.show()"
   ]
  },
  {
   "cell_type": "code",
   "execution_count": 189,
   "metadata": {
    "collapsed": false
   },
   "outputs": [
    {
     "data": {
      "image/png": "[encoded data removed]",
      "text/plain": [
       "<matplotlib.figure.Figure at 0x7fe7880d8dd0>"
      ]
     },
     "metadata": {},
     "output_type": "display_data"
    }
   ],
   "source": [
    "fig = plt.figure()\n",
    "plt.plot(np.log10(alphas), validationMeanRMSEs)\n",
    "plt.title('Root Mean Square Error on validation set for %d-fold cross validation' % k,\n",
    "         fontsize=12)\n",
    "plt.ylabel('Validation RMSE')\n",
    "plt.xlabel('log10 of alpha')\n",
    "plt.show()"
   ]
  },
  {
   "cell_type": "code",
   "execution_count": 190,
   "metadata": {
    "collapsed": false
   },
   "outputs": [
    {
     "name": "stdout",
     "output_type": "stream",
     "text": [
      "the best RMSE is achieved by alpha:\n"
     ]
    },
    {
     "data": {
      "text/plain": [
       "1.0"
      ]
     },
     "execution_count": 190,
     "metadata": {},
     "output_type": "execute_result"
    }
   ],
   "source": [
    "print \"the best RMSE is achieved by alpha:\"\n",
    "bestAlpha = alphas[np.argmin(validationMeanRMSEs)]\n",
    "bestAlpha"
   ]
  },
  {
   "cell_type": "markdown",
   "metadata": {},
   "source": [
    "We are going to retrain the neural network using the entire dataset based on this alpha and then we are going to test on the testing set which is unseen data we have not worked with before in this assignment"
   ]
  },
  {
   "cell_type": "code",
   "execution_count": 191,
   "metadata": {
    "collapsed": true
   },
   "outputs": [],
   "source": [
    "fittedParams, trainRMSE, testRMSE = fitNeuralNetwork(trainInputs=Xall, trainTargets=yAll,\n",
    "                                                     validInputs=Xtesting, validTargets=yTest, alpha=bestAlpha)"
   ]
  },
  {
   "cell_type": "code",
   "execution_count": 192,
   "metadata": {
    "collapsed": false
   },
   "outputs": [
    {
     "name": "stdout",
     "output_type": "stream",
     "text": [
      "training RMSE for the neural network with optimal alpha is\n"
     ]
    },
    {
     "data": {
      "text/plain": [
       "(0.08385678969088153,)"
      ]
     },
     "execution_count": 192,
     "metadata": {},
     "output_type": "execute_result"
    }
   ],
   "source": [
    "print \"training RMSE for the neural network with optimal alpha is\"\n",
    "trainRMSE"
   ]
  },
  {
   "cell_type": "code",
   "execution_count": 193,
   "metadata": {
    "collapsed": false
   },
   "outputs": [
    {
     "name": "stdout",
     "output_type": "stream",
     "text": [
      "testing RMSE for the neural network with optimal alpha is\n"
     ]
    },
    {
     "data": {
      "text/plain": [
       "0.2949036328213312"
      ]
     },
     "execution_count": 193,
     "metadata": {},
     "output_type": "execute_result"
    }
   ],
   "source": [
    "print \"testing RMSE for the neural network with optimal alpha is\"\n",
    "testRMSE"
   ]
  },
  {
   "cell_type": "markdown",
   "metadata": {},
   "source": [
    "Let's compare the above values with the simple case where we had the alpha = 10"
   ]
  },
  {
   "cell_type": "code",
   "execution_count": 194,
   "metadata": {
    "collapsed": true
   },
   "outputs": [],
   "source": [
    "fittedParams, trainRMSE_alpha10, testRMSE_alpha10 = fitNeuralNetwork(trainInputs=Xall, trainTargets=yAll,\n",
    "                                                     validInputs=Xtesting, validTargets=yTest, alpha=10)"
   ]
  },
  {
   "cell_type": "code",
   "execution_count": 199,
   "metadata": {
    "collapsed": false
   },
   "outputs": [
    {
     "name": "stdout",
     "output_type": "stream",
     "text": [
      "training RMSE for the neural network with alpha 10 is\n"
     ]
    },
    {
     "data": {
      "text/plain": [
       "(0.10395701898016467,)"
      ]
     },
     "execution_count": 199,
     "metadata": {},
     "output_type": "execute_result"
    }
   ],
   "source": [
    "print \"training RMSE for the neural network with alpha 10 is\"\n",
    "trainRMSE_alpha10"
   ]
  },
  {
   "cell_type": "code",
   "execution_count": 198,
   "metadata": {
    "collapsed": false
   },
   "outputs": [
    {
     "name": "stdout",
     "output_type": "stream",
     "text": [
      "testing RMSE for the neural network with alpha 10 is\n"
     ]
    },
    {
     "data": {
      "text/plain": [
       "0.28177834079572883"
      ]
     },
     "execution_count": 198,
     "metadata": {},
     "output_type": "execute_result"
    }
   ],
   "source": [
    "print \"testing RMSE for the neural network with alpha 10 is\"\n",
    "testRMSE_alpha10"
   ]
  },
  {
   "cell_type": "markdown",
   "metadata": {},
   "source": [
    "The training error is reduced when choosing the optimal alpha for training: ~0.083 < ~0.104\n",
    "\n",
    "But the testing error in the unseen data is lower when training data used the alpha=10 as we used in previous exercises"
   ]
  },
  {
   "cell_type": "markdown",
   "metadata": {},
   "source": [
    "We are going to repeat the previous two fit-and-RMSE of the neural network but this time we are going to use the training set as the training set and the validation set as testing set in order to be able and compare with the results of previous exercises"
   ]
  },
  {
   "cell_type": "code",
   "execution_count": 200,
   "metadata": {
    "collapsed": false
   },
   "outputs": [
    {
     "name": "stdout",
     "output_type": "stream",
     "text": [
      "training RMSE for the neural network with optimal alpha is\n",
      "(0.07919593358323644,)\n",
      "\n",
      "testing RMSE for the neural network with optimal alpha is\n",
      "0.240008558659\n"
     ]
    }
   ],
   "source": [
    "fittedParams, trainRMSE, testRMSE = fitNeuralNetwork(trainInputs=Xtr, trainTargets=yTrain,\n",
    "                                                     validInputs=Xvalid, validTargets=yVal, alpha=bestAlpha)\n",
    "\n",
    "print \"training RMSE for the neural network with optimal alpha is\"\n",
    "print trainRMSE\n",
    "print\n",
    "print \"testing RMSE for the neural network with optimal alpha is\"\n",
    "print testRMSE"
   ]
  },
  {
   "cell_type": "code",
   "execution_count": 201,
   "metadata": {
    "collapsed": false
   },
   "outputs": [
    {
     "name": "stdout",
     "output_type": "stream",
     "text": [
      "training RMSE for the neural network with alpha 10 is\n",
      "(0.10026697346626232,)\n",
      "\n",
      "testing RMSE for the neural network with alpha 10 is\n",
      "0.261324563952\n"
     ]
    }
   ],
   "source": [
    "fittedParams, trainRMSE_alpha10, testRMSE_alpha10 = fitNeuralNetwork(trainInputs=Xtr, trainTargets=yTrain,\n",
    "                                                     validInputs=Xvalid, validTargets=yVal, alpha=10)\n",
    "\n",
    "print \"training RMSE for the neural network with alpha 10 is\"\n",
    "print trainRMSE_alpha10\n",
    "print \n",
    "print \"testing RMSE for the neural network with alpha 10 is\"\n",
    "print testRMSE_alpha10"
   ]
  },
  {
   "cell_type": "markdown",
   "metadata": {},
   "source": [
    "*Note the last cell are just the results of the last run of the previous exercise, exercise 5, put again here for easier comparison*\n",
    "\n",
    "So as a conclusion we see that the training error is reduced and so is the validation error which means that cross-validation was a reliable procedure to output the best alpha parameter to use for regularization"
   ]
  },
  {
   "cell_type": "code",
   "execution_count": null,
   "metadata": {
    "collapsed": true
   },
   "outputs": [],
   "source": []
  }
 ],
 "metadata": {
  "anaconda-cloud": {},
  "kernelspec": {
   "display_name": "Python [conda env:mlpr]",
   "language": "python",
   "name": "conda-env-mlpr-py"
  },
  "language_info": {
   "codemirror_mode": {
    "name": "ipython",
    "version": 2
   },
   "file_extension": ".py",
   "mimetype": "text/x-python",
   "name": "python",
   "nbconvert_exporter": "python",
   "pygments_lexer": "ipython2",
   "version": "2.7.12"
  }
 },
 "nbformat": 4,
 "nbformat_minor": 1
}
