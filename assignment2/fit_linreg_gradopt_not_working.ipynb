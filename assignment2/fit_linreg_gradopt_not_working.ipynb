{
 "cells": [
  {
   "cell_type": "code",
   "execution_count": 1,
   "metadata": {
    "collapsed": false
   },
   "outputs": [
    {
     "data": {
      "text/plain": [
       "((379,), ())"
      ]
     },
     "execution_count": 1,
     "metadata": {},
     "output_type": "execute_result"
    }
   ],
   "source": [
    "import math\n",
    "from scipy import io\n",
    "import numpy as np\n",
    "from matplotlib import pyplot as plt\n",
    "import sys\n",
    "from ct_support_code import fit_linreg_gradopt\n",
    "\n",
    "#or notebook\n",
    "%matplotlib inline\n",
    "\n",
    "mlprDir = '/home/student/Dropbox/MSc_Artificial_Intelligence/mlpr_Machine_Learning_Pattern_Recognition/mlpr'\n",
    "sys.path.append(mlprDir)\n",
    "\n",
    "randomSeed = 0\n",
    "\n",
    "ctData = io.loadmat('ct_data.mat', squeeze_me=True) #“squeeze_me=True” so thaty_train.shapeis(N,)ratherthan(N,1)\n",
    "ctDataLen = len(ctData)\n",
    "\n",
    "Xtrain, Xval, Xtest, yTrain, yVal, yTest = ctData['X_train'], ctData['X_val'], ctData['X_test'], \\\n",
    "    ctData['y_train'], ctData['y_val'], ctData['y_test']\n",
    "    \n",
    "def checkIfArrayContainsIdenticalElements(arr):\n",
    "    assert len(arr) >= 1, \"do not call this function if array is empty\"\n",
    "    #reduce(lambda x,y : x if x == y else False, arr) == arr[0]\n",
    "    return np.all(np.array(arr) == arr[0])\n",
    "\n",
    "def identifyRedundantAttributes(dataset):\n",
    "    \"\"\"returns a binary mask suggesting the columns where all the instances have the same value\n",
    "    thus contributing zero information\"\"\"\n",
    "    return np.apply_along_axis(checkIfArrayContainsIdenticalElements, axis=0, arr = dataset)\n",
    "\n",
    "redundantAttrs = identifyRedundantAttributes(Xtrain)\n",
    "\n",
    "def removeRedundantAttrs(dataset, redundantAttributes):\n",
    "    fixedDataset = np.delete(dataset, np.argwhere(redundantAttributes), axis=1)\n",
    "    assert len(redundantAttributes[redundantAttributes==True]) == dataset.shape[1] - fixedDataset.shape[1],\\\n",
    "        \"%d vs %d\" % (len(redundantAttributes[redundantAttributes==True]), dataset.shape[1] - fixedDataset.shape[1])\n",
    "    return fixedDataset\n",
    "\n",
    "Xtr = removeRedundantAttrs(Xtrain, redundantAttrs)\n",
    "\n",
    "Xvalid = removeRedundantAttrs(Xval, redundantAttrs)\n",
    "\n",
    "Xtesting = removeRedundantAttrs(Xtest, redundantAttrs)\n",
    "\n",
    "alpha = 10\n",
    "\n",
    "gradoptFittedWeights = fit_linreg_gradopt(Xtr, yTrain, alpha)\n",
    "\n",
    "gradoptFittedWeights[0].shape, gradoptFittedWeights[1].shape"
   ]
  },
  {
   "cell_type": "code",
   "execution_count": 2,
   "metadata": {
    "collapsed": false
   },
   "outputs": [
    {
     "data": {
      "text/plain": [
       "'1.11.1'"
      ]
     },
     "execution_count": 2,
     "metadata": {},
     "output_type": "execute_result"
    }
   ],
   "source": [
    "np.version.version"
   ]
  },
  {
   "cell_type": "code",
   "execution_count": 3,
   "metadata": {
    "collapsed": true
   },
   "outputs": [],
   "source": [
    "import scipy"
   ]
  },
  {
   "cell_type": "code",
   "execution_count": 4,
   "metadata": {
    "collapsed": false
   },
   "outputs": [
    {
     "data": {
      "text/plain": [
       "'0.18.1'"
      ]
     },
     "execution_count": 4,
     "metadata": {},
     "output_type": "execute_result"
    }
   ],
   "source": [
    "scipy.version.version"
   ]
  }
 ],
 "metadata": {
  "anaconda-cloud": {},
  "kernelspec": {
   "display_name": "Python [conda env:mlpr]",
   "language": "python",
   "name": "conda-env-mlpr-py"
  },
  "language_info": {
   "codemirror_mode": {
    "name": "ipython",
    "version": 2
   },
   "file_extension": ".py",
   "mimetype": "text/x-python",
   "name": "python",
   "nbconvert_exporter": "python",
   "pygments_lexer": "ipython2",
   "version": "2.7.12"
  }
 },
 "nbformat": 4,
 "nbformat_minor": 1
}
