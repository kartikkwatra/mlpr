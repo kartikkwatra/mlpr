{
 "cells": [
  {
   "cell_type": "markdown",
   "metadata": {},
   "source": [
    "# Machine Learning and Pattern Recognition (MLPR)"
   ]
  },
  {
   "cell_type": "markdown",
   "metadata": {},
   "source": [
    "# Assignment 2"
   ]
  },
  {
   "cell_type": "markdown",
   "metadata": {},
   "source": [
    "# Georgios Pligoropoulos - s1687568"
   ]
  },
  {
   "cell_type": "markdown",
   "metadata": {
    "collapsed": true
   },
   "source": [
    "## November 2016 - 1st Semester"
   ]
  },
  {
   "cell_type": "code",
   "execution_count": 2,
   "metadata": {
    "collapsed": false
   },
   "outputs": [],
   "source": [
    "import math\n",
    "import imp\n",
    "from scipy import io\n",
    "from sklearn.model_selection import KFold\n",
    "import numpy as np\n",
    "from matplotlib import pyplot as plt\n",
    "import time\n",
    "\n",
    "#or notebook\n",
    "%matplotlib inline"
   ]
  },
  {
   "cell_type": "code",
   "execution_count": 3,
   "metadata": {
    "collapsed": true
   },
   "outputs": [],
   "source": [
    "import sys\n",
    "mlprDir = '/home/student/Dropbox/MSc_Artificial_Intelligence/mlpr_Machine_Learning_Pattern_Recognition/mlpr'\n",
    "sys.path.append(mlprDir)"
   ]
  },
  {
   "cell_type": "code",
   "execution_count": 58,
   "metadata": {
    "collapsed": true
   },
   "outputs": [],
   "source": [
    "seed = 16011984"
   ]
  },
  {
   "cell_type": "code",
   "execution_count": 59,
   "metadata": {
    "collapsed": true
   },
   "outputs": [],
   "source": [
    "from sklearn.metrics import mean_squared_error"
   ]
  },
  {
   "cell_type": "code",
   "execution_count": 60,
   "metadata": {
    "collapsed": true
   },
   "outputs": [],
   "source": [
    "def getPredictions(X, w, biases):\n",
    "    return X.dot(w) + biases"
   ]
  },
  {
   "cell_type": "code",
   "execution_count": 61,
   "metadata": {
    "collapsed": true
   },
   "outputs": [],
   "source": [
    "def getRMSE(trueTargets, predictions):\n",
    "    mse = np.sum((trueTargets - predictions)**2)/len(trueTargets)\n",
    "    #mse1 = mean_squared_error(trueTargets, predictions)\n",
    "    #assert mse == mse1 \n",
    "    return math.sqrt(mse)"
   ]
  },
  {
   "cell_type": "code",
   "execution_count": 5,
   "metadata": {
    "collapsed": false
   },
   "outputs": [
    {
     "data": {
      "text/plain": [
       "9"
      ]
     },
     "execution_count": 5,
     "metadata": {},
     "output_type": "execute_result"
    }
   ],
   "source": [
    "ctData = io.loadmat('ct_data.mat', squeeze_me=True) #“squeeze_me=True” so thaty_train.shapeis(N,)ratherthan(N,1)\n",
    "ctDataLen = len(ctData)\n",
    "ctDataLen"
   ]
  },
  {
   "cell_type": "code",
   "execution_count": 6,
   "metadata": {
    "collapsed": false
   },
   "outputs": [
    {
     "data": {
      "text/plain": [
       "['X_val',\n",
       " 'X_train',\n",
       " 'X_test',\n",
       " '__header__',\n",
       " '__globals__',\n",
       " 'y_val',\n",
       " 'y_train',\n",
       " '__version__',\n",
       " 'y_test']"
      ]
     },
     "execution_count": 6,
     "metadata": {},
     "output_type": "execute_result"
    }
   ],
   "source": [
    "ctData.keys()"
   ]
  },
  {
   "cell_type": "code",
   "execution_count": 12,
   "metadata": {
    "collapsed": true
   },
   "outputs": [],
   "source": [
    "assert len(ctData['y_train'].shape) == 1, \"the squeeze me = True above has failed\""
   ]
  },
  {
   "cell_type": "code",
   "execution_count": 13,
   "metadata": {
    "collapsed": false
   },
   "outputs": [],
   "source": [
    "def convertDictionaryToVariables(dictionary):\n",
    "    \"\"\"http://stackoverflow.com/questions/18090672/convert-dictionary-entries-into-variables-python\"\"\"\n",
    "    for key,val in dictionary.items():\n",
    "        exec(key + '=val')"
   ]
  },
  {
   "cell_type": "code",
   "execution_count": 14,
   "metadata": {
    "collapsed": false
   },
   "outputs": [],
   "source": [
    "convertDictionaryToVariables(ctData) # TODO: does not seem to work in python notebook"
   ]
  },
  {
   "cell_type": "code",
   "execution_count": 15,
   "metadata": {
    "collapsed": false
   },
   "outputs": [],
   "source": [
    "Xtrain, Xval, Xtest, yTrain, yVal, yTest = ctData['X_train'], ctData['X_val'], ctData['X_test'], \\\n",
    "    ctData['y_train'], ctData['y_val'], ctData['y_test']"
   ]
  },
  {
   "cell_type": "code",
   "execution_count": 16,
   "metadata": {
    "collapsed": false
   },
   "outputs": [
    {
     "data": {
      "text/plain": [
       "'MATLAB 5.0 MAT-file, written by Octave 4.0.0, 2016-10-30 15:41:35 UTC'"
      ]
     },
     "execution_count": 16,
     "metadata": {},
     "output_type": "execute_result"
    }
   ],
   "source": [
    "ctData['__header__']"
   ]
  },
  {
   "cell_type": "code",
   "execution_count": 17,
   "metadata": {
    "collapsed": false
   },
   "outputs": [
    {
     "data": {
      "text/plain": [
       "[]"
      ]
     },
     "execution_count": 17,
     "metadata": {},
     "output_type": "execute_result"
    }
   ],
   "source": [
    "ctData['__globals__']"
   ]
  },
  {
   "cell_type": "code",
   "execution_count": 18,
   "metadata": {
    "collapsed": false
   },
   "outputs": [
    {
     "data": {
      "text/plain": [
       "'1.0'"
      ]
     },
     "execution_count": 18,
     "metadata": {},
     "output_type": "execute_result"
    }
   ],
   "source": [
    "ctData['__version__']"
   ]
  },
  {
   "cell_type": "code",
   "execution_count": 19,
   "metadata": {
    "collapsed": false
   },
   "outputs": [
    {
     "data": {
      "text/plain": [
       "((40754, 384), (40754,))"
      ]
     },
     "execution_count": 19,
     "metadata": {},
     "output_type": "execute_result"
    }
   ],
   "source": [
    "Xtrain.shape, yTrain.shape"
   ]
  },
  {
   "cell_type": "code",
   "execution_count": 20,
   "metadata": {
    "collapsed": false
   },
   "outputs": [
    {
     "data": {
      "text/plain": [
       "((5785, 384), (5785,))"
      ]
     },
     "execution_count": 20,
     "metadata": {},
     "output_type": "execute_result"
    }
   ],
   "source": [
    "Xval.shape, yVal.shape"
   ]
  },
  {
   "cell_type": "code",
   "execution_count": 21,
   "metadata": {
    "collapsed": false
   },
   "outputs": [
    {
     "data": {
      "text/plain": [
       "((6961, 384), (6961,))"
      ]
     },
     "execution_count": 21,
     "metadata": {},
     "output_type": "execute_result"
    }
   ],
   "source": [
    "Xtest.shape, yTest.shape"
   ]
  },
  {
   "cell_type": "code",
   "execution_count": 22,
   "metadata": {
    "collapsed": true
   },
   "outputs": [],
   "source": [
    "someWhereInTheMiddleOfTraining = range(len(Xtrain)/2,len(Xtrain)/2 + 6)"
   ]
  },
  {
   "cell_type": "code",
   "execution_count": 23,
   "metadata": {
    "collapsed": false
   },
   "outputs": [
    {
     "data": {
      "text/plain": [
       "array([[ 0.      ,  0.      ,  0.      , ...,  0.      ,  0.      , -0.25    ],\n",
       "       [ 0.      ,  0.      ,  0.      , ...,  0.963103,  0.      , -0.25    ],\n",
       "       [ 0.      ,  0.      ,  0.      , ...,  0.975469,  0.      , -0.25    ],\n",
       "       [ 0.      ,  0.      ,  0.      , ...,  0.807768,  0.      , -0.25    ],\n",
       "       [ 0.      ,  0.      ,  0.      , ...,  0.      ,  0.      , -0.25    ],\n",
       "       [ 0.      ,  0.      ,  0.      , ...,  0.      ,  0.      , -0.25    ]])"
      ]
     },
     "execution_count": 23,
     "metadata": {},
     "output_type": "execute_result"
    }
   ],
   "source": [
    "Xtrain[someWhereInTheMiddleOfTraining]"
   ]
  },
  {
   "cell_type": "code",
   "execution_count": 24,
   "metadata": {
    "collapsed": false
   },
   "outputs": [
    {
     "data": {
      "text/plain": [
       "array([-0.39463686,  0.37122723,  0.37342168,  0.36903278,  0.33611602,\n",
       "        0.35147717])"
      ]
     },
     "execution_count": 24,
     "metadata": {},
     "output_type": "execute_result"
    }
   ],
   "source": [
    "yTrain[someWhereInTheMiddleOfTraining]"
   ]
  },
  {
   "cell_type": "code",
   "execution_count": 25,
   "metadata": {
    "collapsed": false
   },
   "outputs": [
    {
     "data": {
      "text/plain": [
       "2.2265180851800834"
      ]
     },
     "execution_count": 25,
     "metadata": {},
     "output_type": "execute_result"
    }
   ],
   "source": [
    "max(yTrain)"
   ]
  },
  {
   "cell_type": "code",
   "execution_count": 26,
   "metadata": {
    "collapsed": false
   },
   "outputs": [
    {
     "data": {
      "text/plain": [
       "-1.8679386519531087"
      ]
     },
     "execution_count": 26,
     "metadata": {},
     "output_type": "execute_result"
    }
   ],
   "source": [
    "min(yTrain)"
   ]
  },
  {
   "cell_type": "markdown",
   "metadata": {},
   "source": [
    "### 1a"
   ]
  },
  {
   "cell_type": "markdown",
   "metadata": {},
   "source": [
    "Verifying that the mean of the training positions in yTrain is zero"
   ]
  },
  {
   "cell_type": "code",
   "execution_count": 29,
   "metadata": {
    "collapsed": false
   },
   "outputs": [
    {
     "data": {
      "text/plain": [
       "True"
      ]
     },
     "execution_count": 29,
     "metadata": {},
     "output_type": "execute_result"
    }
   ],
   "source": [
    "np.allclose(np.mean(yTrain), 0)"
   ]
  },
  {
   "cell_type": "markdown",
   "metadata": {},
   "source": [
    "The mean of the 5,785 positions in they_valarray is not zero."
   ]
  },
  {
   "cell_type": "code",
   "execution_count": 30,
   "metadata": {
    "collapsed": false
   },
   "outputs": [
    {
     "data": {
      "text/plain": [
       "-0.21600850932415991"
      ]
     },
     "execution_count": 30,
     "metadata": {},
     "output_type": "execute_result"
    }
   ],
   "source": [
    "yValMean = np.mean(yVal)\n",
    "yValMean"
   ]
  },
  {
   "cell_type": "markdown",
   "metadata": {},
   "source": [
    "If we gathered a second dataset and computed its mean in the same way, we would get a different mean. For some datasets the mean will be bigger than the underlying true mean, sometimes it will be smaller.  \n",
    "Here we do not have a second dataset and thus we are stuck with that. But we can use the standard deviation to see how much the mean would vary."
   ]
  },
  {
   "cell_type": "code",
   "execution_count": 31,
   "metadata": {
    "collapsed": true
   },
   "outputs": [],
   "source": [
    "def getMeanError(arr):\n",
    "    return np.std(arr)/math.sqrt(len(arr))"
   ]
  },
  {
   "cell_type": "code",
   "execution_count": 32,
   "metadata": {
    "collapsed": false
   },
   "outputs": [
    {
     "name": "stdout",
     "output_type": "stream",
     "text": [
      "The standard error of the validation mean is -0.216009 +/- 0.012903\n"
     ]
    }
   ],
   "source": [
    "validationMeanError = getMeanError(yVal)\n",
    "print \"The standard error of the validation mean is %f +/- %f\" % (yValMean, validationMeanError)"
   ]
  },
  {
   "cell_type": "code",
   "execution_count": 33,
   "metadata": {
    "collapsed": true
   },
   "outputs": [],
   "source": [
    "firstPartOfTraining = yTrain[:len(yVal)]"
   ]
  },
  {
   "cell_type": "code",
   "execution_count": 34,
   "metadata": {
    "collapsed": false
   },
   "outputs": [
    {
     "name": "stdout",
     "output_type": "stream",
     "text": [
      "The standard error of the first part of training mean is -0.442477 +/- 0.011926\n"
     ]
    }
   ],
   "source": [
    "firstPartOfTrainingMeanError = getMeanError(firstPartOfTraining)\n",
    "print \"The standard error of the first part of training mean is %f +/- %f\" %\\\n",
    "    (np.mean(firstPartOfTraining), firstPartOfTrainingMeanError)"
   ]
  },
  {
   "cell_type": "markdown",
   "metadata": {},
   "source": [
    "Why these standard error bars do not reliably indicate what the average of locations in future CT slice data will be?\n",
    "\n",
    "Well intuitively the CT scan is a complex process and it involves the complexity of the human body. Here we have less than 60.000 instances in total which is a very small number in comparison with the population. Given that the person is totally still. Because if the person is slightly moving when the CT scan is being operating this will add noise to the data giving slight variations to the inputs thus changing the mean.\n",
    "\n",
    "We need many more datasets to derive a better mean and have a better approximation of the standard error.\n",
    "\n",
    "In addition we have taken into account the **assumption that the observations are independent** from each other which might not be the case."
   ]
  },
  {
   "cell_type": "markdown",
   "metadata": {},
   "source": [
    "### 1b"
   ]
  },
  {
   "cell_type": "code",
   "execution_count": 35,
   "metadata": {
    "collapsed": false
   },
   "outputs": [],
   "source": [
    "def checkIfArrayContainsIdenticalElements(arr):\n",
    "    assert len(arr) >= 1, \"do not call this function if array is empty\"\n",
    "    #reduce(lambda x,y : x if x == y else False, arr) == arr[0]\n",
    "    return np.all(np.array(arr) == arr[0])"
   ]
  },
  {
   "cell_type": "code",
   "execution_count": 36,
   "metadata": {
    "collapsed": false
   },
   "outputs": [],
   "source": [
    "def identifyRedundantAttributes(dataset):\n",
    "    \"\"\"returns a binary mask suggesting the columns where all the instances have the same value\n",
    "    thus contributing zero information\"\"\"\n",
    "    return np.apply_along_axis(checkIfArrayContainsIdenticalElements, axis=0, arr = dataset)"
   ]
  },
  {
   "cell_type": "code",
   "execution_count": 37,
   "metadata": {
    "collapsed": false
   },
   "outputs": [
    {
     "data": {
      "text/plain": [
       "(384,)"
      ]
     },
     "execution_count": 37,
     "metadata": {},
     "output_type": "execute_result"
    }
   ],
   "source": [
    "redundantAttrs = identifyRedundantAttributes(Xtrain)\n",
    "redundantAttrs.shape"
   ]
  },
  {
   "cell_type": "code",
   "execution_count": 38,
   "metadata": {
    "collapsed": false
   },
   "outputs": [
    {
     "data": {
      "text/plain": [
       "(40754, 384)"
      ]
     },
     "execution_count": 38,
     "metadata": {},
     "output_type": "execute_result"
    }
   ],
   "source": [
    "Xtrain.shape"
   ]
  },
  {
   "cell_type": "code",
   "execution_count": 39,
   "metadata": {
    "collapsed": true
   },
   "outputs": [],
   "source": [
    "def removeRedundantAttrs(dataset, redundantAttributes):\n",
    "    fixedDataset = np.delete(dataset, np.argwhere(redundantAttributes), axis=1)\n",
    "    assert len(redundantAttributes[redundantAttributes==True]) == dataset.shape[1] - fixedDataset.shape[1],\\\n",
    "        \"%d vs %d\" % (len(redundantAttributes[redundantAttributes==True]), dataset.shape[1] - fixedDataset.shape[1])\n",
    "    return fixedDataset"
   ]
  },
  {
   "cell_type": "code",
   "execution_count": 40,
   "metadata": {
    "collapsed": false
   },
   "outputs": [
    {
     "data": {
      "text/plain": [
       "(40754, 379)"
      ]
     },
     "execution_count": 40,
     "metadata": {},
     "output_type": "execute_result"
    }
   ],
   "source": [
    "Xtr = removeRedundantAttrs(Xtrain, redundantAttrs)\n",
    "Xtr.shape"
   ]
  },
  {
   "cell_type": "code",
   "execution_count": 41,
   "metadata": {
    "collapsed": false
   },
   "outputs": [
    {
     "data": {
      "text/plain": [
       "(5785, 379)"
      ]
     },
     "execution_count": 41,
     "metadata": {},
     "output_type": "execute_result"
    }
   ],
   "source": [
    "Xvalid = removeRedundantAttrs(Xval, redundantAttrs)\n",
    "Xvalid.shape"
   ]
  },
  {
   "cell_type": "code",
   "execution_count": 42,
   "metadata": {
    "collapsed": false
   },
   "outputs": [
    {
     "data": {
      "text/plain": [
       "(6961, 379)"
      ]
     },
     "execution_count": 42,
     "metadata": {},
     "output_type": "execute_result"
    }
   ],
   "source": [
    "Xtesting = removeRedundantAttrs(Xtest, redundantAttrs)\n",
    "Xtesting.shape"
   ]
  },
  {
   "cell_type": "markdown",
   "metadata": {},
   "source": [
    "We have removed the following columns:"
   ]
  },
  {
   "cell_type": "code",
   "execution_count": 43,
   "metadata": {
    "collapsed": false
   },
   "outputs": [
    {
     "data": {
      "text/plain": [
       "array([[ 59],\n",
       "       [ 69],\n",
       "       [179],\n",
       "       [189],\n",
       "       [351]])"
      ]
     },
     "execution_count": 43,
     "metadata": {},
     "output_type": "execute_result"
    }
   ],
   "source": [
    "np.argwhere(redundantAttrs)"
   ]
  },
  {
   "cell_type": "markdown",
   "metadata": {
    "collapsed": true
   },
   "source": [
    "## 2"
   ]
  },
  {
   "cell_type": "code",
   "execution_count": 36,
   "metadata": {
    "collapsed": true
   },
   "outputs": [],
   "source": [
    "alpha = 10"
   ]
  },
  {
   "cell_type": "code",
   "execution_count": 37,
   "metadata": {
    "collapsed": false
   },
   "outputs": [],
   "source": [
    "# We use that only for verification\n",
    "def closedFormSolutionForRidgeRegression(X, y, l2):\n",
    "    \"\"\"eye (I) matrix is modified to not penalize intercept\"\"\"\n",
    "    lenX = len(X)\n",
    "    H = np.hstack( (np.ones(lenX)[np.newaxis].T, X) )\n",
    "    eye = np.eye(H.shape[1])\n",
    "    eyeModified = eye\n",
    "    eyeModified[0,0] = 0\n",
    "    \n",
    "    #return np.linalg.inv(H.T.dot(H) + l2 * eyeModified).dot(H.T).dot(y)\n",
    "    #these two are equivalent but the \n",
    "    return np.linalg.solve(H.T.dot(H) + l2 * eyeModified, H.T.dot(y))"
   ]
  },
  {
   "cell_type": "code",
   "execution_count": 38,
   "metadata": {
    "collapsed": false
   },
   "outputs": [
    {
     "data": {
      "text/plain": [
       "(380,)"
      ]
     },
     "execution_count": 38,
     "metadata": {},
     "output_type": "execute_result"
    }
   ],
   "source": [
    "myWeights = closedFormSolutionForRidgeRegression(Xtr, yTrain, alpha)\n",
    "myWeights.shape"
   ]
  },
  {
   "cell_type": "code",
   "execution_count": 39,
   "metadata": {
    "collapsed": false
   },
   "outputs": [],
   "source": [
    "def augmentTrainingDataWithOnesForBias(X):\n",
    "    return np.hstack( (np.ones(len(X))[np.newaxis].T, X) )"
   ]
  },
  {
   "cell_type": "code",
   "execution_count": 40,
   "metadata": {
    "collapsed": false
   },
   "outputs": [
    {
     "data": {
      "text/plain": [
       "(40754, 380)"
      ]
     },
     "execution_count": 40,
     "metadata": {},
     "output_type": "execute_result"
    }
   ],
   "source": [
    "H = augmentTrainingDataWithOnesForBias(Xtr)\n",
    "H.shape"
   ]
  },
  {
   "cell_type": "code",
   "execution_count": 41,
   "metadata": {
    "collapsed": true
   },
   "outputs": [],
   "source": [
    "def addRowsForPseudoDataTrick(X, y, l2):\n",
    "    \"\"\"http://statweb.stanford.edu/~tibs/sta305files/Rudyregularization.pdf\"\"\"\n",
    "    size = X.shape[1]\n",
    "    eye = np.eye(size)\n",
    "    eyeModified = eye\n",
    "    eyeModified[0,0] = 0\n",
    "    omega = math.sqrt(l2) * eyeModified\n",
    "    return np.concatenate( (X, omega), axis=0), np.concatenate((y, np.zeros(size)))"
   ]
  },
  {
   "cell_type": "code",
   "execution_count": 42,
   "metadata": {
    "collapsed": false
   },
   "outputs": [],
   "source": [
    "def fit_linreg(X, yy, alpha):\n",
    "    inputs, outputs = addRowsForPseudoDataTrick(augmentTrainingDataWithOnesForBias(X), yy, alpha)\n",
    "    return np.linalg.lstsq(inputs, outputs)[0]"
   ]
  },
  {
   "cell_type": "code",
   "execution_count": 43,
   "metadata": {
    "collapsed": false
   },
   "outputs": [],
   "source": [
    "weights = fit_linreg(Xtr, yTrain, alpha)"
   ]
  },
  {
   "cell_type": "code",
   "execution_count": 44,
   "metadata": {
    "collapsed": false
   },
   "outputs": [],
   "source": [
    "assert np.allclose(myWeights, weights), \"means that the two solutions are not identical\""
   ]
  },
  {
   "cell_type": "code",
   "execution_count": 45,
   "metadata": {
    "collapsed": true
   },
   "outputs": [],
   "source": [
    "from ct_support_code import fit_linreg_gradopt"
   ]
  },
  {
   "cell_type": "code",
   "execution_count": 46,
   "metadata": {
    "collapsed": false
   },
   "outputs": [],
   "source": [
    "gradoptFittedWeights, gradoptFittedBias = fit_linreg_gradopt(Xtr, yTrain, alpha)"
   ]
  },
  {
   "cell_type": "code",
   "execution_count": 47,
   "metadata": {
    "collapsed": false
   },
   "outputs": [
    {
     "data": {
      "text/plain": [
       "((379,), ())"
      ]
     },
     "execution_count": 47,
     "metadata": {},
     "output_type": "execute_result"
    }
   ],
   "source": [
    "gradoptFittedWeights.shape, gradoptFittedBias.shape"
   ]
  },
  {
   "cell_type": "code",
   "execution_count": 48,
   "metadata": {
    "collapsed": false
   },
   "outputs": [
    {
     "data": {
      "text/plain": [
       "(380,)"
      ]
     },
     "execution_count": 48,
     "metadata": {},
     "output_type": "execute_result"
    }
   ],
   "source": [
    "gradoptFittedWeightsAndBias = np.concatenate( ( np.array([gradoptFittedBias]), gradoptFittedWeights) )\n",
    "gradoptFittedWeightsAndBias.shape"
   ]
  },
  {
   "cell_type": "code",
   "execution_count": 49,
   "metadata": {
    "collapsed": false
   },
   "outputs": [
    {
     "data": {
      "text/plain": [
       "False"
      ]
     },
     "execution_count": 49,
     "metadata": {},
     "output_type": "execute_result"
    }
   ],
   "source": [
    "np.allclose(gradoptFittedWeightsAndBias, weights)"
   ]
  },
  {
   "cell_type": "code",
   "execution_count": 50,
   "metadata": {
    "collapsed": false
   },
   "outputs": [
    {
     "name": "stdout",
     "output_type": "stream",
     "text": [
      "let's print the bias and some weights to see where is the difference, or how big it is\n"
     ]
    },
    {
     "data": {
      "text/plain": [
       "array([[ 0.13824328,  0.13941109],\n",
       "       [-0.05513268, -0.05512783],\n",
       "       [-0.10870641, -0.1087216 ],\n",
       "       [ 0.07951081,  0.07947379],\n",
       "       [ 0.28194341,  0.28193662],\n",
       "       [ 0.26014425,  0.26013513],\n",
       "       [ 0.11940019,  0.11934693],\n",
       "       [ 0.0142664 ,  0.0142611 ],\n",
       "       [ 0.23497929,  0.23496813],\n",
       "       [-0.32012978, -0.32012748],\n",
       "       [-0.04879251, -0.04877961],\n",
       "       [-0.04658537, -0.04658515],\n",
       "       [ 0.05159682,  0.05160122],\n",
       "       [-0.02323546, -0.02319087],\n",
       "       [-0.00205468, -0.00202425],\n",
       "       [-0.0096499 , -0.00962028],\n",
       "       [ 0.03985583,  0.03987988],\n",
       "       [ 0.02542174,  0.02538214],\n",
       "       [ 0.01492785,  0.01503999],\n",
       "       [-0.10848049, -0.10850978]])"
      ]
     },
     "execution_count": 50,
     "metadata": {},
     "output_type": "execute_result"
    }
   ],
   "source": [
    "print \"let's print the bias and some weights to see where is the difference, or how big it is\"\n",
    "np.hstack( (gradoptFittedWeightsAndBias[np.newaxis].T, weights[np.newaxis].T) )[:20]"
   ]
  },
  {
   "cell_type": "code",
   "execution_count": 51,
   "metadata": {
    "collapsed": false
   },
   "outputs": [
    {
     "data": {
      "text/plain": [
       "True"
      ]
     },
     "execution_count": 51,
     "metadata": {},
     "output_type": "execute_result"
    }
   ],
   "source": [
    "np.allclose(gradoptFittedWeightsAndBias, weights, atol=1e-2)"
   ]
  },
  {
   "cell_type": "markdown",
   "metadata": {},
   "source": [
    "We see from the above two cells that the weights including the bias are very close, actually not so close to be considered identical but when we loosened the tolerance we found out that they are very close together as we can observe by eye looking at the values side by side.\n",
    "\n",
    "This happens because as the algorithm tries to converge 1) maybe the learning rate is not the identical and 2) the threshold for convergence might not be so strict meaning that the provided solutions from the *fit_linreg_gradopt* are good enough for minimizing the error and thus the iterations stop without reaching the true global minimum point.\n",
    "\n",
    "In addiction taking a look at the implemented code we see that the optimizer is set to iterate at maximum 500 times. This could also be a limitting factor to reach to the absolutely optimal solution.\n",
    "\n",
    "Note that for the current problem and current dataset the closed form solution is much faster than the gradient descent approach"
   ]
  },
  {
   "cell_type": "code",
   "execution_count": 52,
   "metadata": {
    "collapsed": true
   },
   "outputs": [],
   "source": [
    "from ct_support_code import linreg_cost"
   ]
  },
  {
   "cell_type": "code",
   "execution_count": 53,
   "metadata": {
    "collapsed": true
   },
   "outputs": [],
   "source": [
    "def getParams(w):\n",
    "    return w[1:], w[0]"
   ]
  },
  {
   "cell_type": "code",
   "execution_count": 54,
   "metadata": {
    "collapsed": false
   },
   "outputs": [
    {
     "data": {
      "text/plain": [
       "5217.9279636734"
      ]
     },
     "execution_count": 54,
     "metadata": {},
     "output_type": "execute_result"
    }
   ],
   "source": [
    "trainingCostForClosedForm = linreg_cost(getParams(weights), Xtr, yTrain, alpha)\n",
    "trainingCostForClosedForm[0]"
   ]
  },
  {
   "cell_type": "code",
   "execution_count": 55,
   "metadata": {
    "collapsed": false
   },
   "outputs": [
    {
     "data": {
      "text/plain": [
       "1083.2545883098387"
      ]
     },
     "execution_count": 55,
     "metadata": {},
     "output_type": "execute_result"
    }
   ],
   "source": [
    "validationCostForClosedForm = linreg_cost(getParams(weights), Xvalid, yVal, alpha)\n",
    "validationCostForClosedForm[0]"
   ]
  },
  {
   "cell_type": "markdown",
   "metadata": {},
   "source": [
    "The above are the RSS scores, we do not want that because they are not immune to scaling. We want the RMSE"
   ]
  },
  {
   "cell_type": "code",
   "execution_count": 59,
   "metadata": {
    "collapsed": false
   },
   "outputs": [
    {
     "data": {
      "text/plain": [
       "0.35566175191574384"
      ]
     },
     "execution_count": 59,
     "metadata": {},
     "output_type": "execute_result"
    }
   ],
   "source": [
    "trainingRMSEforClosedForm = getRMSE(trueTargets=yTrain, predictions=getPredictions(Xtr, weights[1:], weights[0]))\n",
    "trainingRMSEforClosedForm"
   ]
  },
  {
   "cell_type": "code",
   "execution_count": 60,
   "metadata": {
    "collapsed": false
   },
   "outputs": [
    {
     "data": {
      "text/plain": [
       "0.42000850675140733"
      ]
     },
     "execution_count": 60,
     "metadata": {},
     "output_type": "execute_result"
    }
   ],
   "source": [
    "validationRMSEforClosedForm = getRMSE(trueTargets=yVal, predictions=getPredictions(Xvalid, weights[1:], weights[0]))\n",
    "validationRMSEforClosedForm"
   ]
  },
  {
   "cell_type": "markdown",
   "metadata": {},
   "source": [
    "Now we can compare the two errors directly and see that the error for training is indeed smaller that the error for the unseen validation data even though the regularization was used"
   ]
  },
  {
   "cell_type": "code",
   "execution_count": 61,
   "metadata": {
    "collapsed": false
   },
   "outputs": [
    {
     "data": {
      "text/plain": [
       "(0.35566091528208404, 0.42000265085266136)"
      ]
     },
     "execution_count": 61,
     "metadata": {},
     "output_type": "execute_result"
    }
   ],
   "source": [
    "w_s = gradoptFittedWeights\n",
    "b_s = gradoptFittedBias\n",
    "trainingRMSEforGradientDescent = getRMSE(trueTargets=yTrain, predictions=getPredictions(Xtr,  w_s, b_s))\n",
    "validationRMSEforGradientDescent = getRMSE(trueTargets=yVal, predictions=getPredictions(Xvalid, w_s, b_s))\n",
    "\n",
    "trainingRMSEforGradientDescent, validationRMSEforGradientDescent"
   ]
  },
  {
   "cell_type": "code",
   "execution_count": 62,
   "metadata": {
    "collapsed": false
   },
   "outputs": [
    {
     "data": {
      "text/plain": [
       "True"
      ]
     },
     "execution_count": 62,
     "metadata": {},
     "output_type": "execute_result"
    }
   ],
   "source": [
    "np.allclose(np.array([trainingRMSEforClosedForm, validationRMSEforClosedForm]),\n",
    "           np.array([trainingRMSEforGradientDescent, validationRMSEforGradientDescent]), atol=1e-5)"
   ]
  },
  {
   "cell_type": "markdown",
   "metadata": {},
   "source": [
    "The solution for the gradient descent is almost identical with a tolerance of 1e-5 tot the closed form solution as expected.\n",
    "\n",
    "In general we are expecting the closed-form solution to always be the truly optimal solution for linear regression.\n",
    "\n",
    "The closed form solution is not used in practice in many cases because the computation might be very slow in comparison to gradient descent. The more the dimensionality increasing the larger is this issue"
   ]
  },
  {
   "cell_type": "markdown",
   "metadata": {},
   "source": [
    "## 3a"
   ]
  },
  {
   "cell_type": "code",
   "execution_count": 63,
   "metadata": {
    "collapsed": false
   },
   "outputs": [
    {
     "data": {
      "text/plain": [
       "(379,)"
      ]
     },
     "execution_count": 63,
     "metadata": {},
     "output_type": "execute_result"
    }
   ],
   "source": [
    "Xmu = np.mean(Xtr, axis=0)\n",
    "Xmu.shape"
   ]
  },
  {
   "cell_type": "code",
   "execution_count": 64,
   "metadata": {
    "collapsed": false
   },
   "outputs": [
    {
     "data": {
      "text/plain": [
       "(40754, 379)"
      ]
     },
     "execution_count": 64,
     "metadata": {},
     "output_type": "execute_result"
    }
   ],
   "source": [
    "XtrainNorm = Xtr - Xmu\n",
    "XtrainNorm.shape"
   ]
  },
  {
   "cell_type": "code",
   "execution_count": 65,
   "metadata": {
    "collapsed": false
   },
   "outputs": [],
   "source": [
    "assert np.all(XtrainNorm[0] == Xtr[0] - Xmu),\\\n",
    "    \"just an almost silly assertion to verify that the broadcasting of numpy is working as expected\""
   ]
  },
  {
   "cell_type": "code",
   "execution_count": 66,
   "metadata": {
    "collapsed": false
   },
   "outputs": [
    {
     "data": {
      "text/plain": [
       "(5785, 379)"
      ]
     },
     "execution_count": 66,
     "metadata": {},
     "output_type": "execute_result"
    }
   ],
   "source": [
    "XvalNorm = Xvalid - Xmu\n",
    "XvalNorm.shape"
   ]
  },
  {
   "cell_type": "markdown",
   "metadata": {},
   "source": [
    "Let's first exploit sklearn to easily create a scree plot of the PCA to see really how much is the role of each Principal Component"
   ]
  },
  {
   "cell_type": "code",
   "execution_count": 67,
   "metadata": {
    "collapsed": true
   },
   "outputs": [],
   "source": [
    "import sklearn.decomposition as deco"
   ]
  },
  {
   "cell_type": "code",
   "execution_count": 68,
   "metadata": {
    "collapsed": false
   },
   "outputs": [
    {
     "data": {
      "text/plain": [
       "PCA(copy=True, iterated_power='auto', n_components=379, random_state=None,\n",
       "  svd_solver='auto', tol=0.0, whiten=False)"
      ]
     },
     "execution_count": 68,
     "metadata": {},
     "output_type": "execute_result"
    }
   ],
   "source": [
    "pca = deco.PCA(n_components=XtrainNorm.shape[1])\n",
    "pca"
   ]
  },
  {
   "cell_type": "code",
   "execution_count": 69,
   "metadata": {
    "collapsed": false
   },
   "outputs": [
    {
     "data": {
      "text/plain": [
       "PCA(copy=True, iterated_power='auto', n_components=379, random_state=None,\n",
       "  svd_solver='auto', tol=0.0, whiten=False)"
      ]
     },
     "execution_count": 69,
     "metadata": {},
     "output_type": "execute_result"
    }
   ],
   "source": [
    "pca.fit(XtrainNorm)"
   ]
  },
  {
   "cell_type": "code",
   "execution_count": 70,
   "metadata": {
    "collapsed": false
   },
   "outputs": [
    {
     "data": {
      "image/png": "[encoded data removed]",
      "text/plain": [
       "<matplotlib.figure.Figure at 0x7f44a1a7f850>"
      ]
     },
     "metadata": {},
     "output_type": "display_data"
    }
   ],
   "source": [
    "fig = plt.figure()\n",
    "xsize =XtrainNorm.shape[1]\n",
    "plt.bar( range(1,xsize+1), pca.explained_variance_ratio_, width = 1/(xsize/2) )\n",
    "plt.title('Scree plot of PCA for all principal components using the ratio of the variance')\n",
    "plt.xlabel('PCA')\n",
    "plt.ylabel('Variance Ratio')\n",
    "plt.show()"
   ]
  },
  {
   "cell_type": "markdown",
   "metadata": {},
   "source": [
    "From this first plot it seems that after the 150th Principal Component there is little information. The variance is much less significant in comparison to the first Principal Components. Let's replot"
   ]
  },
  {
   "cell_type": "code",
   "execution_count": 71,
   "metadata": {
    "collapsed": false
   },
   "outputs": [
    {
     "data": {
      "image/png": "[encoded data removed]",
      "text/plain": [
       "<matplotlib.figure.Figure at 0x7f44a1a7f810>"
      ]
     },
     "metadata": {},
     "output_type": "display_data"
    }
   ],
   "source": [
    "fig = plt.figure()\n",
    "xsize = 150\n",
    "plt.bar( range(1,xsize+1), pca.explained_variance_ratio_[:xsize], width = 1/(xsize/2) )\n",
    "plt.title('Scree plot of PCA for all principal components using the ratio of the variance')\n",
    "plt.xlabel('PCA')\n",
    "plt.ylabel('Variance Ratio')\n",
    "plt.show()"
   ]
  },
  {
   "cell_type": "code",
   "execution_count": 72,
   "metadata": {
    "collapsed": true
   },
   "outputs": [],
   "source": [
    "from ct_support_code import pca_zm_proj"
   ]
  },
  {
   "cell_type": "code",
   "execution_count": 73,
   "metadata": {
    "collapsed": false
   },
   "outputs": [
    {
     "data": {
      "text/plain": [
       "(379, 379)"
      ]
     },
     "execution_count": 73,
     "metadata": {},
     "output_type": "execute_result"
    }
   ],
   "source": [
    "V = pca_zm_proj(XtrainNorm)\n",
    "V.shape"
   ]
  },
  {
   "cell_type": "code",
   "execution_count": 74,
   "metadata": {
    "collapsed": true
   },
   "outputs": [],
   "source": [
    "K=10"
   ]
  },
  {
   "cell_type": "code",
   "execution_count": 75,
   "metadata": {
    "collapsed": false
   },
   "outputs": [
    {
     "data": {
      "text/plain": [
       "(379, 10)"
      ]
     },
     "execution_count": 75,
     "metadata": {},
     "output_type": "execute_result"
    }
   ],
   "source": [
    "V = pca_zm_proj(XtrainNorm, K=K).real # we get back complex numbers, not sure why\n",
    "V.shape"
   ]
  },
  {
   "cell_type": "code",
   "execution_count": 76,
   "metadata": {
    "collapsed": false
   },
   "outputs": [],
   "source": [
    "Xtrain10 = XtrainNorm.dot(V)"
   ]
  },
  {
   "cell_type": "code",
   "execution_count": 77,
   "metadata": {
    "collapsed": false
   },
   "outputs": [
    {
     "data": {
      "text/plain": [
       "(40754, 10)"
      ]
     },
     "execution_count": 77,
     "metadata": {},
     "output_type": "execute_result"
    }
   ],
   "source": [
    "Xtrain10.shape"
   ]
  },
  {
   "cell_type": "code",
   "execution_count": 78,
   "metadata": {
    "collapsed": false
   },
   "outputs": [
    {
     "data": {
      "text/plain": [
       "(5785, 10)"
      ]
     },
     "execution_count": 78,
     "metadata": {},
     "output_type": "execute_result"
    }
   ],
   "source": [
    "Xvalid10 = XvalNorm.dot(V)\n",
    "Xvalid10.shape"
   ]
  },
  {
   "cell_type": "code",
   "execution_count": 79,
   "metadata": {
    "collapsed": false
   },
   "outputs": [
    {
     "data": {
      "text/plain": [
       "(11,)"
      ]
     },
     "execution_count": 79,
     "metadata": {},
     "output_type": "execute_result"
    }
   ],
   "source": [
    "weights = fit_linreg(Xtrain10, yTrain, alpha)\n",
    "weights.shape"
   ]
  },
  {
   "cell_type": "code",
   "execution_count": 80,
   "metadata": {
    "collapsed": false
   },
   "outputs": [
    {
     "name": "stdout",
     "output_type": "stream",
     "text": [
      "Training Root Mean Square Error with PCA dimensionality reduction to K=10\n"
     ]
    },
    {
     "data": {
      "text/plain": [
       "0.5724151784607797"
      ]
     },
     "execution_count": 80,
     "metadata": {},
     "output_type": "execute_result"
    }
   ],
   "source": [
    "print \"Training Root Mean Square Error with PCA dimensionality reduction to K=%d\" % K\n",
    "trainingRMSEpca10 = getRMSE(trueTargets=yTrain, predictions=getPredictions(Xtrain10, weights[1:], weights[0]))\n",
    "trainingRMSEpca10"
   ]
  },
  {
   "cell_type": "code",
   "execution_count": 81,
   "metadata": {
    "collapsed": false
   },
   "outputs": [
    {
     "name": "stdout",
     "output_type": "stream",
     "text": [
      "Validation Root Mean Square Error with PCA dimensionality reduction to K=10\n"
     ]
    },
    {
     "data": {
      "text/plain": [
       "0.5712708979178774"
      ]
     },
     "execution_count": 81,
     "metadata": {},
     "output_type": "execute_result"
    }
   ],
   "source": [
    "print \"Validation Root Mean Square Error with PCA dimensionality reduction to K=%d\" % K\n",
    "validationRMSEpca10 = getRMSE(trueTargets=yVal, predictions=getPredictions(Xvalid10, weights[1:], weights[0]))\n",
    "validationRMSEpca10"
   ]
  },
  {
   "cell_type": "markdown",
   "metadata": {},
   "source": [
    "Both errors are smaller than when using all of the features. Meaning that now we are doing worse in terms of regression but effectively we have a faster system since the matrix multiplication are reduced a lot. So there is a tradeoff here.\n",
    "\n",
    "We are noticing that the training error has increased in relation to the validation error.  \n",
    "This is happening because unlike before that the model was fitted to the peculiarities of the training data we now have new features, actually we have the best possible linear combinations of our features and we are not using all of them, but only few of them.\n",
    "Therefore it is more unlikely that we are going to overfit to our training data. More possible to underfit instead."
   ]
  },
  {
   "cell_type": "code",
   "execution_count": 82,
   "metadata": {
    "collapsed": true
   },
   "outputs": [],
   "source": [
    "K=100"
   ]
  },
  {
   "cell_type": "code",
   "execution_count": 83,
   "metadata": {
    "collapsed": false
   },
   "outputs": [
    {
     "data": {
      "text/plain": [
       "(379, 100)"
      ]
     },
     "execution_count": 83,
     "metadata": {},
     "output_type": "execute_result"
    }
   ],
   "source": [
    "V = pca_zm_proj(XtrainNorm, K=K).real # we get back complex numbers, not sure why\n",
    "V.shape"
   ]
  },
  {
   "cell_type": "code",
   "execution_count": 84,
   "metadata": {
    "collapsed": false
   },
   "outputs": [],
   "source": [
    "Xtrain100 = XtrainNorm.dot(V)"
   ]
  },
  {
   "cell_type": "code",
   "execution_count": 85,
   "metadata": {
    "collapsed": false
   },
   "outputs": [
    {
     "data": {
      "text/plain": [
       "(40754, 100)"
      ]
     },
     "execution_count": 85,
     "metadata": {},
     "output_type": "execute_result"
    }
   ],
   "source": [
    "Xtrain100.shape"
   ]
  },
  {
   "cell_type": "code",
   "execution_count": 86,
   "metadata": {
    "collapsed": false
   },
   "outputs": [
    {
     "data": {
      "text/plain": [
       "(5785, 100)"
      ]
     },
     "execution_count": 86,
     "metadata": {},
     "output_type": "execute_result"
    }
   ],
   "source": [
    "Xvalid100 = XvalNorm.dot(V)\n",
    "Xvalid100.shape"
   ]
  },
  {
   "cell_type": "code",
   "execution_count": 87,
   "metadata": {
    "collapsed": false
   },
   "outputs": [
    {
     "data": {
      "text/plain": [
       "(101,)"
      ]
     },
     "execution_count": 87,
     "metadata": {},
     "output_type": "execute_result"
    }
   ],
   "source": [
    "weights = fit_linreg(Xtrain100, yTrain, alpha)\n",
    "weights.shape"
   ]
  },
  {
   "cell_type": "code",
   "execution_count": 88,
   "metadata": {
    "collapsed": false
   },
   "outputs": [
    {
     "name": "stdout",
     "output_type": "stream",
     "text": [
      "Training Root Mean Square Error with PCA dimensionality reduction to K=100\n"
     ]
    },
    {
     "data": {
      "text/plain": [
       "0.4105637933749981"
      ]
     },
     "execution_count": 88,
     "metadata": {},
     "output_type": "execute_result"
    }
   ],
   "source": [
    "print \"Training Root Mean Square Error with PCA dimensionality reduction to K=%d\" % K\n",
    "trainingRMSEpca100 = getRMSE(trueTargets=yTrain, predictions=getPredictions(Xtrain100, weights[1:], weights[0]))\n",
    "trainingRMSEpca100"
   ]
  },
  {
   "cell_type": "code",
   "execution_count": 89,
   "metadata": {
    "collapsed": false
   },
   "outputs": [
    {
     "name": "stdout",
     "output_type": "stream",
     "text": [
      "Validation Root Mean Square Error with PCA dimensionality reduction to K=100\n"
     ]
    },
    {
     "data": {
      "text/plain": [
       "0.4326955524607758"
      ]
     },
     "execution_count": 89,
     "metadata": {},
     "output_type": "execute_result"
    }
   ],
   "source": [
    "print \"Validation Root Mean Square Error with PCA dimensionality reduction to K=%d\" % K\n",
    "validationRMSEpca100 = getRMSE(trueTargets=yVal, predictions=getPredictions(Xvalid100, weights[1:], weights[0]))\n",
    "validationRMSEpca100"
   ]
  },
  {
   "cell_type": "markdown",
   "metadata": {},
   "source": [
    "By increasing the number of principal components we are including more information in the model and we see that we have approached the RMSE of the original experiment but with much fewer attributes, only 100 in comparison to 379. Again our computations are going to be faster.\n",
    "\n",
    "The RMSE of K=100 is smaller, better, than the RMSE for K=10 which is expected because we have included more information in the model. But as we are adding information we see that the training error is deviating from the validation error because these peculiarities of the training data start to re-appear. The gap is still much closer though."
   ]
  },
  {
   "cell_type": "markdown",
   "metadata": {},
   "source": [
    "Let's show this for all possible K values"
   ]
  },
  {
   "cell_type": "code",
   "execution_count": 108,
   "metadata": {
    "collapsed": false
   },
   "outputs": [
    {
     "data": {
      "text/plain": [
       "array([  1,   2,   3,   4,   5,   6,   7,   8,   9,  10,  11,  12,  13,\n",
       "        14,  15,  16,  17,  18,  19,  20,  21,  22,  23,  24,  25,  26,\n",
       "        27,  28,  29,  30,  31,  32,  33,  34,  35,  36,  37,  38,  39,\n",
       "        40,  41,  42,  43,  44,  45,  46,  47,  48,  49,  50,  51,  52,\n",
       "        53,  54,  55,  56,  57,  58,  59,  60,  61,  62,  63,  64,  65,\n",
       "        66,  67,  68,  69,  70,  71,  72,  73,  74,  75,  76,  77,  78,\n",
       "        79,  80,  81,  82,  83,  84,  85,  86,  87,  88,  89,  90,  91,\n",
       "        92,  93,  94,  95,  96,  97,  98,  99, 100, 101, 102, 103, 104,\n",
       "       105, 106, 107, 108, 109, 110, 111, 112, 113, 114, 115, 116, 117,\n",
       "       118, 119, 120, 121, 122, 123, 124, 125, 126, 127, 128, 129, 130,\n",
       "       131, 132, 133, 134, 135, 136, 137, 138, 139, 140, 141, 142, 143,\n",
       "       144, 145, 146, 147, 148, 149, 150, 151, 152, 153, 154, 155, 156,\n",
       "       157, 158, 159, 160, 161, 162, 163, 164, 165, 166, 167, 168, 169,\n",
       "       170, 171, 172, 173, 174, 175, 176, 177, 178, 179, 180, 181, 182,\n",
       "       183, 184, 185, 186, 187, 188, 189, 190, 191, 192, 193, 194, 195,\n",
       "       196, 197, 198, 199, 200, 201, 202, 203, 204, 205, 206, 207, 208,\n",
       "       209, 210, 211, 212, 213, 214, 215, 216, 217, 218, 219, 220, 221,\n",
       "       222, 223, 224, 225, 226, 227, 228, 229, 230, 231, 232, 233, 234,\n",
       "       235, 236, 237, 238, 239, 240, 241, 242, 243, 244, 245, 246, 247,\n",
       "       248, 249, 250, 251, 252, 253, 254, 255, 256, 257, 258, 259, 260,\n",
       "       261, 262, 263, 264, 265, 266, 267, 268, 269, 270, 271, 272, 273,\n",
       "       274, 275, 276, 277, 278, 279, 280, 281, 282, 283, 284, 285, 286,\n",
       "       287, 288, 289, 290, 291, 292, 293, 294, 295, 296, 297, 298, 299,\n",
       "       300, 301, 302, 303, 304, 305, 306, 307, 308, 309, 310, 311, 312,\n",
       "       313, 314, 315, 316, 317, 318, 319, 320, 321, 322, 323, 324, 325,\n",
       "       326, 327, 328, 329, 330, 331, 332, 333, 334, 335, 336, 337, 338,\n",
       "       339, 340, 341, 342, 343, 344, 345, 346, 347, 348, 349, 350, 351,\n",
       "       352, 353, 354, 355, 356, 357, 358, 359, 360, 361, 362, 363, 364,\n",
       "       365, 366, 367, 368, 369, 370, 371, 372, 373, 374, 375, 376, 377,\n",
       "       378, 379])"
      ]
     },
     "execution_count": 108,
     "metadata": {},
     "output_type": "execute_result"
    }
   ],
   "source": [
    "Ks = np.arange(1, Xtr.shape[1] + 1)\n",
    "Ks"
   ]
  },
  {
   "cell_type": "code",
   "execution_count": 109,
   "metadata": {
    "collapsed": true
   },
   "outputs": [],
   "source": [
    "def fitAndTrainForPCA(trainNorm, valNorm, trainTargets, valTargets, K, alpha):\n",
    "    V = pca_zm_proj(trainNorm, K=K).real # we get back complex numbers, not sure why\n",
    "    Xtrain = trainNorm.dot(V)\n",
    "    Xvalid = valNorm.dot(V)\n",
    "    weights = fit_linreg(Xtrain, yTrain, alpha)\n",
    "\n",
    "    trainRMSE = getRMSE(trueTargets=trainTargets, predictions=getPredictions(Xtrain, weights[1:], weights[0]))\n",
    "    \n",
    "    validRMSE = getRMSE(trueTargets=valTargets, predictions=getPredictions(Xvalid, weights[1:], weights[0]))\n",
    "    \n",
    "    return trainRMSE, validRMSE"
   ]
  },
  {
   "cell_type": "code",
   "execution_count": 112,
   "metadata": {
    "collapsed": false
   },
   "outputs": [],
   "source": [
    "trainRMSEs = np.zeros(len(Ks))\n",
    "validRMSEs = np.zeros(len(Ks))\n",
    "\n",
    "for i, K in enumerate(Ks):\n",
    "    trainRMSE, validRMSE = fitAndTrainForPCA(trainNorm = XtrainNorm, valNorm=XvalNorm,\n",
    "                                             trainTargets= yTrain, valTargets= yVal, K=K, alpha=alpha)\n",
    "    \n",
    "    trainRMSEs[i] = trainRMSE\n",
    "    validRMSEs[i] = validRMSE"
   ]
  },
  {
   "cell_type": "code",
   "execution_count": 122,
   "metadata": {
    "collapsed": false
   },
   "outputs": [
    {
     "data": {
      "image/png": "[encoded data removed]",
      "text/plain": [
       "<matplotlib.figure.Figure at 0x7f4483cdb150>"
      ]
     },
     "metadata": {},
     "output_type": "display_data"
    }
   ],
   "source": [
    "fig = plt.figure()\n",
    "plt.hold(True)\n",
    "#plt.plot(Ks, trainRMSEs, 'b.-')\n",
    "#plt.plot(Ks, validRMSEs, 'g.-')\n",
    "plt.plot(Ks, validRMSEs - trainRMSEs, 'r.-')\n",
    "plt.hold(False)\n",
    "plt.xlabel('K factor of PCA')\n",
    "plt.ylabel('Valid RMSE - Train RMSE')\n",
    "plt.title('Difference between the Validation RMSE and the Training RMSE as a function of K')\n",
    "plt.show()"
   ]
  },
  {
   "cell_type": "markdown",
   "metadata": {},
   "source": [
    "From the above plot we get what we expecting. At the beginning using only a few princinpal components we have lost lots of information, we have underfitted a lot and the way the model can perform on the validation and the training data is not easily predictable.\n",
    "\n",
    "However when there are enough principal components and further the validation error has an increasingly larger difference from the training error because the model contains more complexity and can more easily fit the training data but it fails to work as well on the validation data.\n",
    "\n",
    "This trend stops when we have included most of the principal components because these add little information to the model and thus the difference between the training RMSE and the validation RMSE remains constant"
   ]
  },
  {
   "cell_type": "markdown",
   "metadata": {},
   "source": [
    "## 3b"
   ]
  },
  {
   "cell_type": "code",
   "execution_count": 90,
   "metadata": {
    "collapsed": false
   },
   "outputs": [
    {
     "data": {
      "text/plain": [
       "<matplotlib.text.Text at 0x7f4483f2d0d0>"
      ]
     },
     "execution_count": 90,
     "metadata": {},
     "output_type": "execute_result"
    },
    {
     "data": {
      "image/png": "[encoded data removed]",
      "text/plain": [
       "<matplotlib.figure.Figure at 0x7f44e800f410>"
      ]
     },
     "metadata": {},
     "output_type": "display_data"
    }
   ],
   "source": [
    "#Plot a histogram of the values of the 46th feature (index 45 in python).\n",
    "index = 45\n",
    "plt.hist(Xtr[index],bins=20)\n",
    "plt.title('Plot a histogram of the values of the 46th feature')"
   ]
  },
  {
   "cell_type": "code",
   "execution_count": 98,
   "metadata": {
    "collapsed": false,
    "scrolled": true
   },
   "outputs": [
    {
     "name": "stdout",
     "output_type": "stream",
     "text": [
      "\n"
     ]
    },
    {
     "data": {
      "image/png": "[encoded data removed]",
      "text/plain": [
       "<matplotlib.figure.Figure at 0x7f448168d510>"
      ]
     },
     "metadata": {},
     "output_type": "display_data"
    }
   ],
   "source": [
    "fig, axes = plt.subplots(nrows=2, ncols=2)\n",
    "plt.suptitle(\"Plot a histogram of the values of the first, last, 100th and 200th feature/attribute\")\n",
    "ax0, ax1, ax2, ax3 = axes.flat\n",
    "ax0.hist(Xtr[0],bins=20)\n",
    "ax1.hist(Xtr[-1],bins=20)\n",
    "ax2.hist(Xtr[100],bins=20)\n",
    "ax3.hist(Xtr[200],bins=20)\n",
    "print"
   ]
  },
  {
   "cell_type": "markdown",
   "metadata": {},
   "source": [
    "By plotting these randomly selected plots and the plot with index 45, above, we notice that lots of features are near to zero and -0.25"
   ]
  },
  {
   "cell_type": "code",
   "execution_count": 113,
   "metadata": {
    "collapsed": true
   },
   "outputs": [],
   "source": [
    "totalElements = Xtr.shape[0] * Xtr.shape[1]"
   ]
  },
  {
   "cell_type": "code",
   "execution_count": 114,
   "metadata": {
    "collapsed": true
   },
   "outputs": [],
   "source": [
    "target = -0.25"
   ]
  },
  {
   "cell_type": "code",
   "execution_count": 115,
   "metadata": {
    "collapsed": false
   },
   "outputs": [
    {
     "data": {
      "text/plain": [
       "2297040"
      ]
     },
     "execution_count": 115,
     "metadata": {},
     "output_type": "execute_result"
    }
   ],
   "source": [
    "count = len(Xtr[Xtr==target])\n",
    "count"
   ]
  },
  {
   "cell_type": "code",
   "execution_count": 116,
   "metadata": {
    "collapsed": false
   },
   "outputs": [
    {
     "name": "stdout",
     "output_type": "stream",
     "text": [
      "The fraction of the values in training matrix that are equal to -0.250000 is 0.148716\n"
     ]
    }
   ],
   "source": [
    "print \"The fraction of the values in training matrix that are equal to %f is %f\" %\\\n",
    "    (target, float(count) / float(totalElements))"
   ]
  },
  {
   "cell_type": "code",
   "execution_count": 117,
   "metadata": {
    "collapsed": true
   },
   "outputs": [],
   "source": [
    "target = 0"
   ]
  },
  {
   "cell_type": "code",
   "execution_count": 118,
   "metadata": {
    "collapsed": false
   },
   "outputs": [
    {
     "data": {
      "text/plain": [
       "10163563"
      ]
     },
     "execution_count": 118,
     "metadata": {},
     "output_type": "execute_result"
    }
   ],
   "source": [
    "count = len(Xtr[Xtr==target])\n",
    "count"
   ]
  },
  {
   "cell_type": "code",
   "execution_count": 119,
   "metadata": {
    "collapsed": false
   },
   "outputs": [
    {
     "name": "stdout",
     "output_type": "stream",
     "text": [
      "The fraction of the values in training matrix that are equal to 0 is 0.658016\n"
     ]
    }
   ],
   "source": [
    "print \"The fraction of the values in training matrix that are equal to %d is %f\" %\\\n",
    "    (target, float(count) / float(totalElements))"
   ]
  },
  {
   "cell_type": "code",
   "execution_count": 120,
   "metadata": {
    "collapsed": true
   },
   "outputs": [],
   "source": [
    "aug_fn = lambda X : np.hstack([X, X==0, X<0])"
   ]
  },
  {
   "cell_type": "code",
   "execution_count": 121,
   "metadata": {
    "collapsed": false
   },
   "outputs": [],
   "source": [
    "Xtr_augmented = aug_fn(Xtr)"
   ]
  },
  {
   "cell_type": "code",
   "execution_count": 122,
   "metadata": {
    "collapsed": false
   },
   "outputs": [
    {
     "data": {
      "text/plain": [
       "(40754, 1137)"
      ]
     },
     "execution_count": 122,
     "metadata": {},
     "output_type": "execute_result"
    }
   ],
   "source": [
    "Xtr_augmented.shape"
   ]
  },
  {
   "cell_type": "code",
   "execution_count": 123,
   "metadata": {
    "collapsed": false
   },
   "outputs": [
    {
     "data": {
      "text/plain": [
       "(1138,)"
      ]
     },
     "execution_count": 123,
     "metadata": {},
     "output_type": "execute_result"
    }
   ],
   "source": [
    "weights = fit_linreg(Xtr_augmented, yTrain, alpha)\n",
    "weights.shape"
   ]
  },
  {
   "cell_type": "code",
   "execution_count": 124,
   "metadata": {
    "collapsed": false
   },
   "outputs": [
    {
     "data": {
      "text/plain": [
       "0.3178319185485654"
      ]
     },
     "execution_count": 124,
     "metadata": {},
     "output_type": "execute_result"
    }
   ],
   "source": [
    "trainingRMSEbinaryAugmentation = getRMSE(trueTargets=yTrain, predictions=getPredictions(Xtr_augmented, weights[1:], weights[0]))\n",
    "trainingRMSEbinaryAugmentation"
   ]
  },
  {
   "cell_type": "code",
   "execution_count": 125,
   "metadata": {
    "collapsed": false
   },
   "outputs": [
    {
     "data": {
      "text/plain": [
       "(5785, 1137)"
      ]
     },
     "execution_count": 125,
     "metadata": {},
     "output_type": "execute_result"
    }
   ],
   "source": [
    "Xvalid_binary_aug = aug_fn(Xvalid)\n",
    "Xvalid_binary_aug.shape"
   ]
  },
  {
   "cell_type": "code",
   "execution_count": 126,
   "metadata": {
    "collapsed": false
   },
   "outputs": [
    {
     "data": {
      "text/plain": [
       "0.3770058378403649"
      ]
     },
     "execution_count": 126,
     "metadata": {},
     "output_type": "execute_result"
    }
   ],
   "source": [
    "testingRMSEbinaryAugmentation = getRMSE(trueTargets=yVal, predictions=getPredictions(Xvalid_binary_aug, weights[1:], weights[0]))\n",
    "testingRMSEbinaryAugmentation"
   ]
  },
  {
   "cell_type": "markdown",
   "metadata": {},
   "source": [
    "We notice that after applying the binary augmentation (which tripled the number of our attributes though) we managed to achieve a lower RMSE for both the training and validation error"
   ]
  },
  {
   "cell_type": "markdown",
   "metadata": {},
   "source": [
    "The error goes down, thus the model improves, because all of those zeros present in the input array when multiplied by the weights they \"kill\" the weights and the model becomes inflexible.\n",
    "\n",
    "One more reason is that the negative values seem like a special category which is treated like a number. By making it binary we treat it as we would treat binary categories in linear regression. We do the same thing with you the zero, treating it as a category.  \n",
    "In other words we did the same thing as if we had three categories for each attribute A, B and C and we wanted to encode them with one-hot-encoding. Where here the A is zero, B is our special negative value and C is anything else. Recall that in one hot encoding you throw away one of the three columns because it is redundant.\n",
    "\n",
    "The above means there is not really a linear relationship between our data and our outputs/targets variables. Meaning that the non-linearities introduced by converting the matrix X to binary data with X==0 and X < 0 derived more useful representation."
   ]
  },
  {
   "cell_type": "markdown",
   "metadata": {},
   "source": [
    "### 3. extra step to see how the binary data behave on their own"
   ]
  },
  {
   "cell_type": "code",
   "execution_count": 106,
   "metadata": {
    "collapsed": true
   },
   "outputs": [],
   "source": [
    "aug_fn = lambda X : np.hstack([X==0, X<0])"
   ]
  },
  {
   "cell_type": "code",
   "execution_count": 100,
   "metadata": {
    "collapsed": false
   },
   "outputs": [],
   "source": [
    "Xtr_augmented = aug_fn(Xtr)"
   ]
  },
  {
   "cell_type": "code",
   "execution_count": 101,
   "metadata": {
    "collapsed": false
   },
   "outputs": [
    {
     "data": {
      "text/plain": [
       "(40754, 758)"
      ]
     },
     "execution_count": 101,
     "metadata": {},
     "output_type": "execute_result"
    }
   ],
   "source": [
    "Xtr_augmented.shape"
   ]
  },
  {
   "cell_type": "code",
   "execution_count": 102,
   "metadata": {
    "collapsed": false
   },
   "outputs": [
    {
     "data": {
      "text/plain": [
       "(759,)"
      ]
     },
     "execution_count": 102,
     "metadata": {},
     "output_type": "execute_result"
    }
   ],
   "source": [
    "weights = fit_linreg(Xtr_augmented, yTrain, alpha)\n",
    "weights.shape"
   ]
  },
  {
   "cell_type": "code",
   "execution_count": 103,
   "metadata": {
    "collapsed": false
   },
   "outputs": [
    {
     "data": {
      "text/plain": [
       "0.36229540203307875"
      ]
     },
     "execution_count": 103,
     "metadata": {},
     "output_type": "execute_result"
    }
   ],
   "source": [
    "trainingRMSEbinaryAugmentation = getRMSE(trueTargets=yTrain, predictions=getPredictions(Xtr_augmented, weights[1:], weights[0]))\n",
    "trainingRMSEbinaryAugmentation"
   ]
  },
  {
   "cell_type": "code",
   "execution_count": 104,
   "metadata": {
    "collapsed": false
   },
   "outputs": [
    {
     "data": {
      "text/plain": [
       "(5785, 758)"
      ]
     },
     "execution_count": 104,
     "metadata": {},
     "output_type": "execute_result"
    }
   ],
   "source": [
    "Xvalid_binary_aug = aug_fn(Xvalid)\n",
    "Xvalid_binary_aug.shape"
   ]
  },
  {
   "cell_type": "code",
   "execution_count": 105,
   "metadata": {
    "collapsed": false
   },
   "outputs": [
    {
     "data": {
      "text/plain": [
       "0.40197102810499635"
      ]
     },
     "execution_count": 105,
     "metadata": {},
     "output_type": "execute_result"
    }
   ],
   "source": [
    "testingRMSEbinaryAugmentation = getRMSE(trueTargets=yVal, predictions=getPredictions(Xvalid_binary_aug, weights[1:], weights[0]))\n",
    "testingRMSEbinaryAugmentation"
   ]
  },
  {
   "cell_type": "markdown",
   "metadata": {
    "collapsed": true
   },
   "source": [
    "From this extra experiment we realize when keeping the binary data alone we have lost some information and we have done worse by removing the original attributes. 0.40 error is larger than 0.37 from the previous experiment, speaking about the validation RMSE.\n",
    "\n",
    "This is expected since we have removed information.\n",
    "\n",
    "However it is interesting to note that even though the original matrix is missing the categorization of X==0 and X < 0 to binary values still works better than keeping only the original matrix. Recall that when used linear regression on the original X data (no augmentation or pca or other transformation) then the validation RMSE was 0.42 which is larger than 0.40."
   ]
  },
  {
   "cell_type": "markdown",
   "metadata": {},
   "source": [
    "## 4. Inverted Classification Tasks"
   ]
  },
  {
   "cell_type": "code",
   "execution_count": 104,
   "metadata": {
    "collapsed": true
   },
   "outputs": [],
   "source": [
    "from ct_support_code import minimize_list, logreg_cost"
   ]
  },
  {
   "cell_type": "code",
   "execution_count": 105,
   "metadata": {
    "collapsed": true
   },
   "outputs": [],
   "source": [
    "K = 10 # number of thresholded classification problems to fit"
   ]
  },
  {
   "cell_type": "code",
   "execution_count": 106,
   "metadata": {
    "collapsed": false
   },
   "outputs": [
    {
     "data": {
      "text/plain": [
       "2.2265180851800834"
      ]
     },
     "execution_count": 106,
     "metadata": {},
     "output_type": "execute_result"
    }
   ],
   "source": [
    "mx = np.max(yTrain)\n",
    "mx"
   ]
  },
  {
   "cell_type": "code",
   "execution_count": 107,
   "metadata": {
    "collapsed": false
   },
   "outputs": [
    {
     "data": {
      "text/plain": [
       "-1.8679386519531087"
      ]
     },
     "execution_count": 107,
     "metadata": {},
     "output_type": "execute_result"
    }
   ],
   "source": [
    "mn = np.min(yTrain)\n",
    "mn"
   ]
  },
  {
   "cell_type": "code",
   "execution_count": 108,
   "metadata": {
    "collapsed": false
   },
   "outputs": [
    {
     "data": {
      "text/plain": [
       "0.3722233397393811"
      ]
     },
     "execution_count": 108,
     "metadata": {},
     "output_type": "execute_result"
    }
   ],
   "source": [
    "hh = (mx-mn)/(K+1)\n",
    "hh"
   ]
  },
  {
   "cell_type": "code",
   "execution_count": 109,
   "metadata": {
    "collapsed": false
   },
   "outputs": [
    {
     "data": {
      "text/plain": [
       "array([-1.49571531, -1.12349197, -0.75126863, -0.37904529, -0.00682195,\n",
       "        0.36540139,  0.73762473,  1.10984807,  1.48207141,  1.85429475])"
      ]
     },
     "execution_count": 109,
     "metadata": {},
     "output_type": "execute_result"
    }
   ],
   "source": [
    "thresholds = np.linspace(mn+hh, mx-hh, num=K, endpoint=True)\n",
    "thresholds"
   ]
  },
  {
   "cell_type": "code",
   "execution_count": 110,
   "metadata": {
    "collapsed": true
   },
   "outputs": [],
   "source": [
    "def fitLogisticRegression(X, yy, alpha):\n",
    "    D = X.shape[1]\n",
    "    args = (X, yy, alpha)\n",
    "    init  = (np.zeros(D), np.array(0)) #initialize weights and biases to zero and start from there\n",
    "    #init  = (np.zeros(D), 0) #actually same thing\n",
    "    ww, bb = minimize_list(logreg_cost, init, args)\n",
    "    return ww, bb"
   ]
  },
  {
   "cell_type": "code",
   "execution_count": 111,
   "metadata": {
    "collapsed": true
   },
   "outputs": [],
   "source": [
    "paramsCollection = []"
   ]
  },
  {
   "cell_type": "code",
   "execution_count": 112,
   "metadata": {
    "collapsed": false
   },
   "outputs": [],
   "source": [
    "for kk in range(K):\n",
    "    labels = yTrain > thresholds[kk]\n",
    "    #labels (boolean) and labels*1 (which is ones and zeros) has the same behavior in python\n",
    "    params = fitLogisticRegression(Xtr, labels, alpha)\n",
    "    paramsCollection.append(params)"
   ]
  },
  {
   "cell_type": "code",
   "execution_count": 113,
   "metadata": {
    "collapsed": false
   },
   "outputs": [],
   "source": [
    "def logisticRegression(X, w, b):\n",
    "    X = np.hstack((np.ones((len(X), 1)),X))\n",
    "    w = np.concatenate((np.array([b]), w))\n",
    "    return 1 / (1 + np.exp(- X.dot(w)))"
   ]
  },
  {
   "cell_type": "code",
   "execution_count": 114,
   "metadata": {
    "collapsed": false
   },
   "outputs": [],
   "source": [
    "#just initialising with -1 to make sure that if we see a zero or an one it comes from the logistic regression and\n",
    "#not because of our initialization\n",
    "probsTrain = -np.ones((len(Xtr),K))"
   ]
  },
  {
   "cell_type": "code",
   "execution_count": 115,
   "metadata": {
    "collapsed": false
   },
   "outputs": [],
   "source": [
    "for i, params in enumerate(paramsCollection):\n",
    "    probsTrain[:, i] = logisticRegression(X= Xtr, w=params[0], b=params[1])"
   ]
  },
  {
   "cell_type": "code",
   "execution_count": 116,
   "metadata": {
    "collapsed": false
   },
   "outputs": [
    {
     "data": {
      "text/plain": [
       "(40754, 10)"
      ]
     },
     "execution_count": 116,
     "metadata": {},
     "output_type": "execute_result"
    }
   ],
   "source": [
    "probsTrain.shape"
   ]
  },
  {
   "cell_type": "code",
   "execution_count": 117,
   "metadata": {
    "collapsed": false
   },
   "outputs": [
    {
     "data": {
      "text/plain": [
       "array([[  9.96793793e-01,   7.71478616e-02,   8.35548478e-04,\n",
       "          3.34252213e-04,   8.82304343e-04,   3.81492646e-04,\n",
       "          1.47085018e-04,   2.59552076e-05,   1.00197970e-06,\n",
       "          2.85093492e-06],\n",
       "       [  9.97196504e-01,   3.65736517e-02,   5.55120134e-04,\n",
       "          6.93762470e-04,   3.12478303e-03,   4.50276758e-04,\n",
       "          2.91632804e-04,   3.34887243e-05,   2.77678011e-06,\n",
       "          4.55765983e-06],\n",
       "       [  9.97595483e-01,   3.78427978e-02,   5.41703673e-04,\n",
       "          9.14565893e-04,   3.81475234e-03,   4.28759522e-04,\n",
       "          2.26465379e-04,   2.69257117e-05,   3.73049278e-06,\n",
       "          4.58520602e-06],\n",
       "       [  9.97866754e-01,   5.84546716e-02,   3.66980495e-04,\n",
       "          5.90636557e-04,   8.42530012e-04,   1.88923319e-04,\n",
       "          9.91816112e-05,   1.91489189e-05,   8.32376037e-06,\n",
       "          3.82256053e-06],\n",
       "       [  9.97709884e-01,   5.49115080e-02,   3.59104887e-04,\n",
       "          4.97237521e-04,   9.58534312e-04,   1.97973117e-04,\n",
       "          8.85213826e-05,   1.57358347e-05,   7.92454692e-06,\n",
       "          3.47352856e-06]])"
      ]
     },
     "execution_count": 117,
     "metadata": {},
     "output_type": "execute_result"
    }
   ],
   "source": [
    "probsTrain[:5, :]"
   ]
  },
  {
   "cell_type": "markdown",
   "metadata": {},
   "source": [
    "Now let's fit a regularized linear regression model (alpha = 10) to our transformed 10-dimensional training set"
   ]
  },
  {
   "cell_type": "code",
   "execution_count": 118,
   "metadata": {
    "collapsed": false
   },
   "outputs": [
    {
     "data": {
      "text/plain": [
       "10"
      ]
     },
     "execution_count": 118,
     "metadata": {},
     "output_type": "execute_result"
    }
   ],
   "source": [
    "alpha = 10\n",
    "alpha"
   ]
  },
  {
   "cell_type": "code",
   "execution_count": 119,
   "metadata": {
    "collapsed": false
   },
   "outputs": [
    {
     "data": {
      "text/plain": [
       "(11,)"
      ]
     },
     "execution_count": 119,
     "metadata": {},
     "output_type": "execute_result"
    }
   ],
   "source": [
    "weights = fit_linreg(probsTrain, yTrain, alpha)\n",
    "weights.shape"
   ]
  },
  {
   "cell_type": "code",
   "execution_count": 120,
   "metadata": {
    "collapsed": false,
    "scrolled": true
   },
   "outputs": [],
   "source": [
    "ww_5 = weights[1:].copy() #just storing the weights for question 5\n",
    "bb_5 = weights[0].copy()"
   ]
  },
  {
   "cell_type": "code",
   "execution_count": 121,
   "metadata": {
    "collapsed": false
   },
   "outputs": [
    {
     "name": "stdout",
     "output_type": "stream",
     "text": [
      "Training RMSE for our reduced by the classification via logistic regression we used above is\n"
     ]
    },
    {
     "data": {
      "text/plain": [
       "0.13799833707562892"
      ]
     },
     "execution_count": 121,
     "metadata": {},
     "output_type": "execute_result"
    }
   ],
   "source": [
    "trainingRMSE = getRMSE(trueTargets=yTrain, predictions=getPredictions(probsTrain, weights[1:], weights[0]))\n",
    "print \"Training RMSE for our reduced by the classification via logistic regression we used above is\"\n",
    "trainingRMSE"
   ]
  },
  {
   "cell_type": "code",
   "execution_count": 122,
   "metadata": {
    "collapsed": false
   },
   "outputs": [],
   "source": [
    "#just initialising with -1 to make sure that if we see a zero or an one it comes from the logistic regression and\n",
    "#not because of our initialization\n",
    "probsVal = -np.ones((len(Xvalid),K))\n",
    "for i, params in enumerate(paramsCollection):\n",
    "    probsVal[:, i] = logisticRegression(X=Xvalid, w=params[0], b=params[1])"
   ]
  },
  {
   "cell_type": "code",
   "execution_count": 123,
   "metadata": {
    "collapsed": false
   },
   "outputs": [
    {
     "name": "stdout",
     "output_type": "stream",
     "text": [
      "Testing RMSE for our reduced by the classification via logistic regression we used above is\n"
     ]
    },
    {
     "data": {
      "text/plain": [
       "0.25151779052868917"
      ]
     },
     "execution_count": 123,
     "metadata": {},
     "output_type": "execute_result"
    }
   ],
   "source": [
    "testingRMSE = getRMSE(trueTargets=yVal, predictions=getPredictions(probsVal, weights[1:], weights[0]))\n",
    "print \"Testing RMSE for our reduced by the classification via logistic regression we used above is\"\n",
    "testingRMSE"
   ]
  },
  {
   "cell_type": "markdown",
   "metadata": {},
   "source": [
    "We see here that we have improved the model a lot by doing this simple 10 different classifications of the data. The RMSE of both training and validation sets have been improved. We tried to reduce the dimensionality with PCA. However the PCA can only do a (or I must say the best) linear combination of out features. It does that to give a projection of the data on the hyperplane which is parallel to where the variance of the data is maximum. But still we must consider that the best thing that it can do is do a linear combination of the features.  \n",
    "By doing logistic regression we have imposed some non-linearities which obviously were appropriate for the current data and the RMSE is lower than before."
   ]
  },
  {
   "cell_type": "markdown",
   "metadata": {},
   "source": [
    "## 5. Small Neural Network"
   ]
  },
  {
   "cell_type": "code",
   "execution_count": 50,
   "metadata": {
    "collapsed": true
   },
   "outputs": [],
   "source": [
    "alpha = 10"
   ]
  },
  {
   "cell_type": "code",
   "execution_count": 51,
   "metadata": {
    "collapsed": true
   },
   "outputs": [],
   "source": [
    "rng = np.random.RandomState(seed=seed)"
   ]
  },
  {
   "cell_type": "code",
   "execution_count": 52,
   "metadata": {
    "collapsed": true
   },
   "outputs": [],
   "source": [
    "from ct_support_code import nn_cost, minimize_list"
   ]
  },
  {
   "cell_type": "markdown",
   "metadata": {},
   "source": [
    "We understand here that we have not done full back propagation and therefore we have fitted the two layers of this model separately.\n",
    "\n",
    "So here we are building a model with two layers or to be more explicit we build a model with a single layer neural network plus a linear regression layer"
   ]
  },
  {
   "cell_type": "markdown",
   "metadata": {},
   "source": [
    "![alt text](https://s20.postimg.org/ixvissoel/20161106_154202.jpg \"Single Layer Neural Network + Linear Regression\")"
   ]
  },
  {
   "cell_type": "code",
   "execution_count": 53,
   "metadata": {
    "collapsed": true
   },
   "outputs": [],
   "source": [
    "def getRandomParams(D, K, factor = 1e-1):\n",
    "    \"\"\"D dimensionality of inputs, K dimensionality of outputs\"\"\"\n",
    "    factor = factor / math.sqrt(K) #to make it robust against the dimensionality of our hidden layer\n",
    "    ww = rng.randn(K) * factor\n",
    "    bb = rng.randn(1) * factor\n",
    "    V =  rng.randn(K, D) * factor\n",
    "    bk = rng.randn(K)\n",
    "    \n",
    "    return (ww, bb, V, bk)"
   ]
  },
  {
   "cell_type": "code",
   "execution_count": 54,
   "metadata": {
    "collapsed": false
   },
   "outputs": [
    {
     "name": "stdout",
     "output_type": "stream",
     "text": [
      "(10,)\n",
      "(1,)\n",
      "(10, 379)\n",
      "(10,)\n"
     ]
    }
   ],
   "source": [
    "initialParams = getRandomParams(D=Xtr.shape[1], K=10)\n",
    "for initialParam in initialParams:\n",
    "    print initialParam.shape"
   ]
  },
  {
   "cell_type": "code",
   "execution_count": 55,
   "metadata": {
    "collapsed": false
   },
   "outputs": [],
   "source": [
    "fittedParams = minimize_list(nn_cost, initialParams, (Xtr, yTrain, alpha))"
   ]
  },
  {
   "cell_type": "code",
   "execution_count": 56,
   "metadata": {
    "collapsed": false
   },
   "outputs": [
    {
     "name": "stdout",
     "output_type": "stream",
     "text": [
      "(10,)\n",
      "(1,)\n",
      "(10, 379)\n",
      "(10,)\n"
     ]
    }
   ],
   "source": [
    "for fittedParam in fittedParams:\n",
    "    print fittedParam.shape"
   ]
  },
  {
   "cell_type": "code",
   "execution_count": 62,
   "metadata": {
    "collapsed": false
   },
   "outputs": [
    {
     "name": "stdout",
     "output_type": "stream",
     "text": [
      "printing Root Mean Square Error for some random initial weights\n"
     ]
    },
    {
     "data": {
      "text/plain": [
       "0.1007315344759879"
      ]
     },
     "execution_count": 62,
     "metadata": {},
     "output_type": "execute_result"
    }
   ],
   "source": [
    "rmse = getRMSE(trueTargets=yTrain,predictions=nn_cost(fittedParams, Xtr))\n",
    "print \"printing Root Mean Square Error for some random initial weights\"\n",
    "rmse"
   ]
  },
  {
   "cell_type": "markdown",
   "metadata": {},
   "source": [
    "### 5a\n",
    "Let's try and initialize the model a few times with random parameters that derive from the standard normal distribution multiplied with different factors"
   ]
  },
  {
   "cell_type": "code",
   "execution_count": 63,
   "metadata": {
    "collapsed": false
   },
   "outputs": [
    {
     "data": {
      "text/plain": [
       "array([  1.00000000e-02,   1.00000000e-01,   1.00000000e+00,\n",
       "         1.00000000e+01,   1.00000000e+02])"
      ]
     },
     "execution_count": 63,
     "metadata": {},
     "output_type": "execute_result"
    }
   ],
   "source": [
    "factors = np.logspace(-2, 2, 5)\n",
    "factors"
   ]
  },
  {
   "cell_type": "code",
   "execution_count": 72,
   "metadata": {
    "collapsed": false
   },
   "outputs": [],
   "source": [
    "def fitAndScore(factor, K=10):\n",
    "    fittedParams = minimize_list(nn_cost, getRandomParams(D=Xtr.shape[1],K=K,factor=factor), (Xtr,yTrain,alpha))\n",
    "    return (\n",
    "        getRMSE(trueTargets=yTrain,predictions=nn_cost(fittedParams, Xtr)),\n",
    "        getRMSE(trueTargets=yVal,predictions=nn_cost(fittedParams, Xvalid))\n",
    "    )"
   ]
  },
  {
   "cell_type": "code",
   "execution_count": 65,
   "metadata": {
    "collapsed": false
   },
   "outputs": [
    {
     "name": "stderr",
     "output_type": "stream",
     "text": [
      "ct_support_code.py:201: RuntimeWarning: overflow encountered in exp\n",
      "  P = 1 / (1 + np.exp(-A)) # N,K\n"
     ]
    }
   ],
   "source": [
    "scores = []\n",
    "\n",
    "for factor in factors:\n",
    "    scores.append(\n",
    "        fitAndScore(factor)\n",
    "    )"
   ]
  },
  {
   "cell_type": "code",
   "execution_count": 66,
   "metadata": {
    "collapsed": true
   },
   "outputs": [],
   "source": [
    "trainErrors = [s[0] for s in scores]\n",
    "testingErrors = [s[1] for s in scores]"
   ]
  },
  {
   "cell_type": "code",
   "execution_count": 67,
   "metadata": {
    "collapsed": false
   },
   "outputs": [
    {
     "data": {
      "image/png": "[encoded data removed]",
      "text/plain": [
       "<matplotlib.figure.Figure at 0x7f699a2f9b90>"
      ]
     },
     "metadata": {},
     "output_type": "display_data"
    }
   ],
   "source": [
    "fig = plt.figure()\n",
    "plt.hold(True)\n",
    "plt.plot(np.log10(factors), trainErrors, 'b.-')\n",
    "plt.plot(np.log10(factors),testingErrors, 'r.-')\n",
    "plt.hold(False)\n",
    "plt.legend(['Training Errors', 'Testing Erros'])\n",
    "plt.show()"
   ]
  },
  {
   "cell_type": "markdown",
   "metadata": {},
   "source": [
    "From the plot above we see that the randomly initially weights give a non-high-variance RMSE ~0.1 for training and ~0.25 for validation but when the weights are very high the sigmoids of the neural network saturate and we get a very bad RMSE"
   ]
  },
  {
   "cell_type": "markdown",
   "metadata": {},
   "source": [
    "Let's take the mean, max and min RMSE of both training and validation set for the above experiment excluding the value when the saturation occured"
   ]
  },
  {
   "cell_type": "code",
   "execution_count": 68,
   "metadata": {
    "collapsed": false
   },
   "outputs": [],
   "source": [
    "trainErrorsFixed = trainErrors[:-1]"
   ]
  },
  {
   "cell_type": "code",
   "execution_count": 69,
   "metadata": {
    "collapsed": false
   },
   "outputs": [
    {
     "data": {
      "text/plain": [
       "(0.097470394334065, 0.1185664570251758, 0.10449261805654335)"
      ]
     },
     "execution_count": 69,
     "metadata": {},
     "output_type": "execute_result"
    }
   ],
   "source": [
    "minTrainRMSE, maxTrainRMSE, meanTrainRMSE = min(trainErrorsFixed), max(trainErrorsFixed), np.mean(trainErrorsFixed)\n",
    "minTrainRMSE, maxTrainRMSE, meanTrainRMSE"
   ]
  },
  {
   "cell_type": "code",
   "execution_count": 70,
   "metadata": {
    "collapsed": true
   },
   "outputs": [],
   "source": [
    "testingErrorsFixed = testingErrors[:-1]"
   ]
  },
  {
   "cell_type": "code",
   "execution_count": 71,
   "metadata": {
    "collapsed": false
   },
   "outputs": [
    {
     "data": {
      "text/plain": [
       "(0.25218178203992786, 0.28493189766215743, 0.26324682846348935)"
      ]
     },
     "execution_count": 71,
     "metadata": {},
     "output_type": "execute_result"
    }
   ],
   "source": [
    "minTestRMSE, maxTestRMSE, meanTestRMSE = min(testingErrorsFixed), max(testingErrorsFixed), np.mean(testingErrorsFixed)\n",
    "minTestRMSE, maxTestRMSE, meanTestRMSE"
   ]
  },
  {
   "cell_type": "markdown",
   "metadata": {},
   "source": [
    "### 5b\n",
    "Let's try and use the weights from the question 4 as the initial parameters and see if this training layer by layer is useful for initialization (paramsCollection)"
   ]
  },
  {
   "cell_type": "code",
   "execution_count": 142,
   "metadata": {
    "collapsed": false
   },
   "outputs": [
    {
     "data": {
      "text/plain": [
       "10"
      ]
     },
     "execution_count": 142,
     "metadata": {},
     "output_type": "execute_result"
    }
   ],
   "source": [
    "len(paramsCollection) #TODO refactor params collection to make it into a matrix to have it ready for question 5"
   ]
  },
  {
   "cell_type": "code",
   "execution_count": 143,
   "metadata": {
    "collapsed": false
   },
   "outputs": [],
   "source": [
    "bk = np.array([p[1] for p in paramsCollection]) #get biases from params collection"
   ]
  },
  {
   "cell_type": "code",
   "execution_count": 144,
   "metadata": {
    "collapsed": false
   },
   "outputs": [],
   "source": [
    "D = Xtr.shape[1]"
   ]
  },
  {
   "cell_type": "code",
   "execution_count": 145,
   "metadata": {
    "collapsed": false
   },
   "outputs": [
    {
     "data": {
      "text/plain": [
       "(10, 379)"
      ]
     },
     "execution_count": 145,
     "metadata": {},
     "output_type": "execute_result"
    }
   ],
   "source": [
    "V = np.zeros((K, D))\n",
    "V.shape"
   ]
  },
  {
   "cell_type": "code",
   "execution_count": 146,
   "metadata": {
    "collapsed": false
   },
   "outputs": [],
   "source": [
    "weightsFromParamsCollection = [p[0] for p in paramsCollection]"
   ]
  },
  {
   "cell_type": "code",
   "execution_count": 147,
   "metadata": {
    "collapsed": false
   },
   "outputs": [],
   "source": [
    "for i, w in enumerate(weightsFromParamsCollection):\n",
    "    V[i, :] = w"
   ]
  },
  {
   "cell_type": "code",
   "execution_count": 148,
   "metadata": {
    "collapsed": false
   },
   "outputs": [
    {
     "data": {
      "text/plain": [
       "array([[-0.1804373 ,  0.16753387,  0.0861282 , -0.05835337, -0.27254156,\n",
       "         0.01045983,  0.09169777,  0.14772877,  0.1130179 ,  0.01292211],\n",
       "       [ 0.23818631, -0.0037519 ,  0.08939135, -0.28249096,  0.46947222,\n",
       "         0.2428821 , -0.20053769,  0.5639093 ,  0.19279334,  0.02279842],\n",
       "       [-0.34090875, -0.01084626,  0.15612231,  0.53620278,  1.43310226,\n",
       "         0.39290399, -0.01777887,  0.16203922, -0.77345654, -0.17547967],\n",
       "       [-0.47333174, -0.64860932, -0.14091801,  1.33454083,  1.45991401,\n",
       "         0.16763888,  0.25495831,  0.81614697, -0.70309945, -0.27338187],\n",
       "       [-0.41188558, -0.61319485, -0.0988138 ,  1.30113018,  1.34673323,\n",
       "         0.33154783, -0.46113265,  0.59379654, -0.94065742, -0.32934864]])"
      ]
     },
     "execution_count": 148,
     "metadata": {},
     "output_type": "execute_result"
    }
   ],
   "source": [
    "V[:5,:10]"
   ]
  },
  {
   "cell_type": "code",
   "execution_count": 149,
   "metadata": {
    "collapsed": true
   },
   "outputs": [],
   "source": [
    "def getInitialNeuralNetworkState():\n",
    "    return (ww_5.copy(), bb_5.copy(), V.copy(), bk.copy())"
   ]
  },
  {
   "cell_type": "code",
   "execution_count": 150,
   "metadata": {
    "collapsed": true
   },
   "outputs": [],
   "source": [
    "fittedParams = minimize_list(nn_cost, getInitialNeuralNetworkState(), (Xtr, yTrain, alpha))\n",
    "train_question4_RMSE = getRMSE(trueTargets=yTrain, predictions=nn_cost(fittedParams, Xtr)),\n",
    "testing_question4_RMSE = getRMSE(trueTargets=yVal, predictions=nn_cost(fittedParams, Xvalid))"
   ]
  },
  {
   "cell_type": "code",
   "execution_count": 151,
   "metadata": {
    "collapsed": false
   },
   "outputs": [
    {
     "data": {
      "text/plain": [
       "(0.10026697346626232,)"
      ]
     },
     "execution_count": 151,
     "metadata": {},
     "output_type": "execute_result"
    }
   ],
   "source": [
    "train_question4_RMSE"
   ]
  },
  {
   "cell_type": "code",
   "execution_count": 152,
   "metadata": {
    "collapsed": false
   },
   "outputs": [
    {
     "data": {
      "text/plain": [
       "0.2613245639516538"
      ]
     },
     "execution_count": 152,
     "metadata": {},
     "output_type": "execute_result"
    }
   ],
   "source": [
    "testing_question4_RMSE"
   ]
  },
  {
   "cell_type": "markdown",
   "metadata": {},
   "source": [
    "We followed a procedure for pretraining / initialization which is called Layer-by-Layer cross-entropy training. In our case it does not seem to yield any amazing results even though the training error is below the mean of the previous experiment and the testing error is slighly above the mean of the previous experiment.\n",
    "\n",
    "We can only conclude that this methodology is not bad and is guaranteed some good results but not optimal.  \n",
    "We see that initialization with some random values we were able to find a better local (if not global) minima."
   ]
  },
  {
   "cell_type": "markdown",
   "metadata": {},
   "source": [
    "## 6. What's Next?\n",
    "Here we are going to implement a larger neural network with ten times more neurons. Let's see if we have an improved performance with 100 neurons"
   ]
  },
  {
   "cell_type": "code",
   "execution_count": 153,
   "metadata": {
    "collapsed": true
   },
   "outputs": [],
   "source": [
    "trainError, testError = fitAndScore(1e-3, K=100)"
   ]
  },
  {
   "cell_type": "code",
   "execution_count": 154,
   "metadata": {
    "collapsed": false
   },
   "outputs": [
    {
     "data": {
      "text/plain": [
       "0.09935530492176238"
      ]
     },
     "execution_count": 154,
     "metadata": {},
     "output_type": "execute_result"
    }
   ],
   "source": [
    "trainError"
   ]
  },
  {
   "cell_type": "code",
   "execution_count": 155,
   "metadata": {
    "collapsed": false
   },
   "outputs": [
    {
     "data": {
      "text/plain": [
       "0.26360266742658284"
      ]
     },
     "execution_count": 155,
     "metadata": {},
     "output_type": "execute_result"
    }
   ],
   "source": [
    "testError"
   ]
  },
  {
   "cell_type": "markdown",
   "metadata": {},
   "source": [
    "With 100 neurons the system became much more computationally intensive. It took much longer to complete the process and the result was not an amazing one.\n",
    "\n",
    "We notice that the training error has decreased a little bit but the testing error has not changed significantly than the previous experiments.\n",
    "\n",
    "The increased number of neurons means that the system has more flexibility to derive more features because the logistic regressions to only K=10 might not be enough to capture the complexity of the data and thus some information is lost in this dimensionality reduction."
   ]
  },
  {
   "cell_type": "markdown",
   "metadata": {},
   "source": [
    "#### Extra idea"
   ]
  },
  {
   "cell_type": "markdown",
   "metadata": {},
   "source": [
    "One more idea worth trying is to improve the performance by optimizing the regularization variable lambda (or alpha as we have called it in this assignment). We might also want to do a k-fold cross validation by combining the training and validation data and use as test the testing dataset.\n",
    "\n",
    "Note that for this part of the answer we are using K=10 neurons"
   ]
  },
  {
   "cell_type": "code",
   "execution_count": 156,
   "metadata": {
    "collapsed": false
   },
   "outputs": [
    {
     "data": {
      "text/plain": [
       "((40754, 379), (5785, 379), (6961, 379))"
      ]
     },
     "execution_count": 156,
     "metadata": {},
     "output_type": "execute_result"
    }
   ],
   "source": [
    "Xtr.shape, Xvalid.shape, Xtesting.shape"
   ]
  },
  {
   "cell_type": "code",
   "execution_count": 157,
   "metadata": {
    "collapsed": false
   },
   "outputs": [
    {
     "data": {
      "text/plain": [
       "((40754,), (5785,), (6961,))"
      ]
     },
     "execution_count": 157,
     "metadata": {},
     "output_type": "execute_result"
    }
   ],
   "source": [
    "yTrain.shape, yVal.shape, yTest.shape"
   ]
  },
  {
   "cell_type": "code",
   "execution_count": 158,
   "metadata": {
    "collapsed": false
   },
   "outputs": [
    {
     "data": {
      "text/plain": [
       "(46539, 379)"
      ]
     },
     "execution_count": 158,
     "metadata": {},
     "output_type": "execute_result"
    }
   ],
   "source": [
    "Xall = np.concatenate( (Xtr, Xvalid), axis=0 )\n",
    "assert Xall.shape[0] == Xtr.shape[0] + Xvalid.shape[0] and Xall.shape[1] == Xtr.shape[1]\n",
    "Xall.shape"
   ]
  },
  {
   "cell_type": "code",
   "execution_count": 159,
   "metadata": {
    "collapsed": false
   },
   "outputs": [
    {
     "data": {
      "text/plain": [
       "(46539,)"
      ]
     },
     "execution_count": 159,
     "metadata": {},
     "output_type": "execute_result"
    }
   ],
   "source": [
    "yAll = np.concatenate( (yTrain, yVal), axis=0 )\n",
    "assert yAll.shape[0] == yTrain.shape[0] + yVal.shape[0]\n",
    "yAll.shape"
   ]
  },
  {
   "cell_type": "markdown",
   "metadata": {},
   "source": [
    "Let's do a 10-fold cross validation"
   ]
  },
  {
   "cell_type": "code",
   "execution_count": 160,
   "metadata": {
    "collapsed": true
   },
   "outputs": [],
   "source": [
    "k = 10"
   ]
  },
  {
   "cell_type": "code",
   "execution_count": 161,
   "metadata": {
    "collapsed": true
   },
   "outputs": [],
   "source": [
    "kFold = KFold(n_splits=k, shuffle=True, random_state=seed) #be aware this behaves differently for different versions of scipy"
   ]
  },
  {
   "cell_type": "code",
   "execution_count": 162,
   "metadata": {
    "collapsed": false
   },
   "outputs": [
    {
     "name": "stdout",
     "output_type": "stream",
     "text": [
      "let's print all the sizes of the different combinations of the k fold cross validation\n",
      "(41885,)\n",
      "(4654,)\n",
      "(41885,)\n",
      "(4654,)\n",
      "(41885,)\n",
      "(4654,)\n",
      "(41885,)\n",
      "(4654,)\n",
      "(41885,)\n",
      "(4654,)\n",
      "(41885,)\n",
      "(4654,)\n",
      "(41885,)\n",
      "(4654,)\n",
      "(41885,)\n",
      "(4654,)\n",
      "(41885,)\n",
      "(4654,)\n",
      "(41886,)\n",
      "(4653,)\n"
     ]
    }
   ],
   "source": [
    "print \"let's print all the sizes of the different combinations of the k fold cross validation\"\n",
    "for a, b in kFold.split(Xall):\n",
    "    print a.shape\n",
    "    print b.shape"
   ]
  },
  {
   "cell_type": "code",
   "execution_count": 163,
   "metadata": {
    "collapsed": false
   },
   "outputs": [
    {
     "data": {
      "text/plain": [
       "1.0"
      ]
     },
     "execution_count": 163,
     "metadata": {},
     "output_type": "execute_result"
    }
   ],
   "source": [
    "np.log10(alpha)"
   ]
  },
  {
   "cell_type": "code",
   "execution_count": 164,
   "metadata": {
    "collapsed": false
   },
   "outputs": [
    {
     "data": {
      "text/plain": [
       "2"
      ]
     },
     "execution_count": 164,
     "metadata": {},
     "output_type": "execute_result"
    }
   ],
   "source": [
    "numOfPossibleAlphas = 5\n",
    "shift = (numOfPossibleAlphas-1)/2\n",
    "shift"
   ]
  },
  {
   "cell_type": "code",
   "execution_count": 165,
   "metadata": {
    "collapsed": false
   },
   "outputs": [
    {
     "name": "stdout",
     "output_type": "stream",
     "text": [
      "(5,)\n"
     ]
    },
    {
     "data": {
      "text/plain": [
       "array([  1.00000000e-01,   1.00000000e+00,   1.00000000e+01,\n",
       "         1.00000000e+02,   1.00000000e+03])"
      ]
     },
     "execution_count": 165,
     "metadata": {},
     "output_type": "execute_result"
    }
   ],
   "source": [
    "alphas = np.logspace(np.log10(alpha) - shift, np.log10(alpha) + shift, num = numOfPossibleAlphas)\n",
    "print alphas.shape\n",
    "alphas"
   ]
  },
  {
   "cell_type": "code",
   "execution_count": 166,
   "metadata": {
    "collapsed": false
   },
   "outputs": [
    {
     "name": "stdout",
     "output_type": "stream",
     "text": [
      "This is the initial neural network state as computed from the previous exercises\n",
      "(10,)\n",
      "()\n",
      "(10, 379)\n",
      "(10,)\n"
     ]
    }
   ],
   "source": [
    "print \"This is the initial neural network state as computed from the previous exercises\"\n",
    "for item in getInitialNeuralNetworkState():\n",
    "    print item.shape"
   ]
  },
  {
   "cell_type": "code",
   "execution_count": 173,
   "metadata": {
    "collapsed": true
   },
   "outputs": [],
   "source": [
    "def fitNeuralNetwork(trainInputs, trainTargets, validInputs, validTargets, alpha):\n",
    "    fittedParams = minimize_list(nn_cost, getInitialNeuralNetworkState(), (trainInputs, trainTargets, alpha))\n",
    "    trainRMSE = getRMSE(trueTargets=trainTargets, predictions=nn_cost(fittedParams, trainInputs)),\n",
    "    validRMSE = getRMSE(trueTargets=validTargets, predictions=nn_cost(fittedParams, validInputs))\n",
    "    return fittedParams, trainRMSE, validRMSE"
   ]
  },
  {
   "cell_type": "code",
   "execution_count": 174,
   "metadata": {
    "collapsed": false
   },
   "outputs": [
    {
     "data": {
      "text/plain": [
       "(10, 5)"
      ]
     },
     "execution_count": 174,
     "metadata": {},
     "output_type": "execute_result"
    }
   ],
   "source": [
    "resultsShape = (k, len(alphas))\n",
    "resultsShape"
   ]
  },
  {
   "cell_type": "code",
   "execution_count": 175,
   "metadata": {
    "collapsed": true
   },
   "outputs": [],
   "source": [
    "trainErrors = np.zeros(resultsShape)\n",
    "validationErrors = np.zeros(resultsShape)"
   ]
  },
  {
   "cell_type": "code",
   "execution_count": 177,
   "metadata": {
    "collapsed": false
   },
   "outputs": [],
   "source": [
    "def doCrossValidation(alpha, i):\n",
    "    for j, (trainIndices, validationIndices) in enumerate(kFold.split(Xall)):\n",
    "        fittedParams, trainRMSE, validRMSE = fitNeuralNetwork(\n",
    "            trainInputs=Xall[trainIndices], trainTargets=yAll[trainIndices],\n",
    "            validInputs=Xall[validationIndices], validTargets = yAll[validationIndices], alpha=alpha\n",
    "        )\n",
    "\n",
    "        assert len(trainRMSE) == 1\n",
    "        trainErrors[j, i] = trainRMSE[0]\n",
    "        validationErrors[j, i] = validRMSE"
   ]
  },
  {
   "cell_type": "code",
   "execution_count": 178,
   "metadata": {
    "collapsed": true
   },
   "outputs": [],
   "source": [
    "def fitAndValidateForMultipleAlphas(alphas):\n",
    "    for i, alpha in enumerate(alphas):\n",
    "        doCrossValidation(alpha, i)"
   ]
  },
  {
   "cell_type": "code",
   "execution_count": 179,
   "metadata": {
    "collapsed": false
   },
   "outputs": [
    {
     "data": {
      "text/plain": [
       "1160.1132969856262"
      ]
     },
     "execution_count": 179,
     "metadata": {},
     "output_type": "execute_result"
    }
   ],
   "source": [
    "trainErrors = np.zeros(resultsShape)\n",
    "validationErrors = np.zeros(resultsShape)\n",
    "run_start_time = time.time()\n",
    "fitAndValidateForMultipleAlphas(alphas) #long running script because we need to run the neural network 50 times\n",
    "run_time = time.time() - run_start_time\n",
    "run_time"
   ]
  },
  {
   "cell_type": "code",
   "execution_count": 180,
   "metadata": {
    "collapsed": false
   },
   "outputs": [
    {
     "data": {
      "text/plain": [
       "(5,)"
      ]
     },
     "execution_count": 180,
     "metadata": {},
     "output_type": "execute_result"
    }
   ],
   "source": [
    "trainMeanRMSEs = np.mean(trainErrors, axis=0)\n",
    "trainMeanRMSEs.shape"
   ]
  },
  {
   "cell_type": "code",
   "execution_count": 181,
   "metadata": {
    "collapsed": false
   },
   "outputs": [
    {
     "data": {
      "text/plain": [
       "(5,)"
      ]
     },
     "execution_count": 181,
     "metadata": {},
     "output_type": "execute_result"
    }
   ],
   "source": [
    "validationMeanRMSEs = np.mean(validationErrors, axis=0)\n",
    "validationMeanRMSEs.shape"
   ]
  },
  {
   "cell_type": "code",
   "execution_count": 182,
   "metadata": {
    "collapsed": false
   },
   "outputs": [
    {
     "data": {
      "image/png": "[encoded data removed]",
      "text/plain": [
       "<matplotlib.figure.Figure at 0x7fe779b96890>"
      ]
     },
     "metadata": {},
     "output_type": "display_data"
    }
   ],
   "source": [
    "fig = plt.figure()\n",
    "plt.plot(np.log10(alphas), trainMeanRMSEs)\n",
    "plt.title('Root Mean Square Error on training set for %d-fold cross validation' % k,\n",
    "         fontsize=12)\n",
    "plt.ylabel('Training RMSE')\n",
    "plt.xlabel('log10 of alpha')\n",
    "plt.show()"
   ]
  },
  {
   "cell_type": "code",
   "execution_count": 183,
   "metadata": {
    "collapsed": false
   },
   "outputs": [
    {
     "data": {
      "image/png": "[encoded data removed]",
      "text/plain": [
       "<matplotlib.figure.Figure at 0x7fe779b96e50>"
      ]
     },
     "metadata": {},
     "output_type": "display_data"
    }
   ],
   "source": [
    "fig = plt.figure()\n",
    "plt.plot(np.log10(alphas), validationMeanRMSEs)\n",
    "plt.title('Root Mean Square Error on validation set for %d-fold cross validation' % k,\n",
    "         fontsize=12)\n",
    "plt.ylabel('Validation RMSE')\n",
    "plt.xlabel('log10 of alpha')\n",
    "plt.show()"
   ]
  },
  {
   "cell_type": "markdown",
   "metadata": {},
   "source": [
    "From the two graphs above we understand that we need to explore for smaller values of alpha"
   ]
  },
  {
   "cell_type": "code",
   "execution_count": 184,
   "metadata": {
    "collapsed": false
   },
   "outputs": [
    {
     "data": {
      "text/plain": [
       "array([  1.00000000e-03,   1.00000000e-02,   1.00000000e-01,\n",
       "         1.00000000e+00,   1.00000000e+01])"
      ]
     },
     "execution_count": 184,
     "metadata": {},
     "output_type": "execute_result"
    }
   ],
   "source": [
    "alphas = np.logspace(-3, 1, num=5)\n",
    "alphas"
   ]
  },
  {
   "cell_type": "code",
   "execution_count": 185,
   "metadata": {
    "collapsed": false
   },
   "outputs": [
    {
     "data": {
      "text/plain": [
       "1274.1242611408234"
      ]
     },
     "execution_count": 185,
     "metadata": {},
     "output_type": "execute_result"
    }
   ],
   "source": [
    "trainErrors = np.zeros(resultsShape)\n",
    "validationErrors = np.zeros(resultsShape)\n",
    "run_start_time = time.time()\n",
    "fitAndValidateForMultipleAlphas(alphas) #long running script because we need to run the neural network 50 times\n",
    "run_time = time.time() - run_start_time\n",
    "run_time"
   ]
  },
  {
   "cell_type": "code",
   "execution_count": 186,
   "metadata": {
    "collapsed": false
   },
   "outputs": [
    {
     "data": {
      "text/plain": [
       "(5,)"
      ]
     },
     "execution_count": 186,
     "metadata": {},
     "output_type": "execute_result"
    }
   ],
   "source": [
    "trainMeanRMSEs = np.mean(trainErrors, axis=0)\n",
    "trainMeanRMSEs.shape"
   ]
  },
  {
   "cell_type": "code",
   "execution_count": 187,
   "metadata": {
    "collapsed": false
   },
   "outputs": [
    {
     "data": {
      "text/plain": [
       "(5,)"
      ]
     },
     "execution_count": 187,
     "metadata": {},
     "output_type": "execute_result"
    }
   ],
   "source": [
    "validationMeanRMSEs = np.mean(validationErrors, axis=0)\n",
    "validationMeanRMSEs.shape"
   ]
  },
  {
   "cell_type": "code",
   "execution_count": 188,
   "metadata": {
    "collapsed": false
   },
   "outputs": [
    {
     "data": {
      "image/png": "[encoded data removed]",
      "text/plain": [
       "<matplotlib.figure.Figure at 0x7fe779640f10>"
      ]
     },
     "metadata": {},
     "output_type": "display_data"
    }
   ],
   "source": [
    "fig = plt.figure()\n",
    "plt.plot(np.log10(alphas), trainMeanRMSEs)\n",
    "plt.title('Root Mean Square Error on training set for %d-fold cross validation' % k,\n",
    "         fontsize=12)\n",
    "plt.ylabel('Training RMSE')\n",
    "plt.xlabel('log10 of alpha')\n",
    "plt.show()"
   ]
  },
  {
   "cell_type": "code",
   "execution_count": 189,
   "metadata": {
    "collapsed": false
   },
   "outputs": [
    {
     "data": {
      "image/png": "[encoded data removed]",
      "text/plain": [
       "<matplotlib.figure.Figure at 0x7fe7880d8dd0>"
      ]
     },
     "metadata": {},
     "output_type": "display_data"
    }
   ],
   "source": [
    "fig = plt.figure()\n",
    "plt.plot(np.log10(alphas), validationMeanRMSEs)\n",
    "plt.title('Root Mean Square Error on validation set for %d-fold cross validation' % k,\n",
    "         fontsize=12)\n",
    "plt.ylabel('Validation RMSE')\n",
    "plt.xlabel('log10 of alpha')\n",
    "plt.show()"
   ]
  },
  {
   "cell_type": "code",
   "execution_count": 190,
   "metadata": {
    "collapsed": false
   },
   "outputs": [
    {
     "name": "stdout",
     "output_type": "stream",
     "text": [
      "the best RMSE is achieved by alpha:\n"
     ]
    },
    {
     "data": {
      "text/plain": [
       "1.0"
      ]
     },
     "execution_count": 190,
     "metadata": {},
     "output_type": "execute_result"
    }
   ],
   "source": [
    "print \"the best RMSE is achieved by alpha:\"\n",
    "bestAlpha = alphas[np.argmin(validationMeanRMSEs)]\n",
    "bestAlpha"
   ]
  },
  {
   "cell_type": "markdown",
   "metadata": {},
   "source": [
    "We are going to retrain the neural network using the entire dataset based on this alpha and then we are going to test on the testing set which is unseen data we have not worked with before in this assignment"
   ]
  },
  {
   "cell_type": "code",
   "execution_count": 191,
   "metadata": {
    "collapsed": true
   },
   "outputs": [],
   "source": [
    "fittedParams, trainRMSE, testRMSE = fitNeuralNetwork(trainInputs=Xall, trainTargets=yAll,\n",
    "                                                     validInputs=Xtesting, validTargets=yTest, alpha=bestAlpha)"
   ]
  },
  {
   "cell_type": "code",
   "execution_count": 192,
   "metadata": {
    "collapsed": false
   },
   "outputs": [
    {
     "name": "stdout",
     "output_type": "stream",
     "text": [
      "training RMSE for the neural network with optimal alpha is\n"
     ]
    },
    {
     "data": {
      "text/plain": [
       "(0.08385678969088153,)"
      ]
     },
     "execution_count": 192,
     "metadata": {},
     "output_type": "execute_result"
    }
   ],
   "source": [
    "print \"training RMSE for the neural network with optimal alpha is\"\n",
    "trainRMSE"
   ]
  },
  {
   "cell_type": "code",
   "execution_count": 193,
   "metadata": {
    "collapsed": false
   },
   "outputs": [
    {
     "name": "stdout",
     "output_type": "stream",
     "text": [
      "testing RMSE for the neural network with optimal alpha is\n"
     ]
    },
    {
     "data": {
      "text/plain": [
       "0.2949036328213312"
      ]
     },
     "execution_count": 193,
     "metadata": {},
     "output_type": "execute_result"
    }
   ],
   "source": [
    "print \"testing RMSE for the neural network with optimal alpha is\"\n",
    "testRMSE"
   ]
  },
  {
   "cell_type": "markdown",
   "metadata": {},
   "source": [
    "Let's compare the above values with the simple case where we had the alpha = 10"
   ]
  },
  {
   "cell_type": "code",
   "execution_count": 194,
   "metadata": {
    "collapsed": true
   },
   "outputs": [],
   "source": [
    "fittedParams, trainRMSE_alpha10, testRMSE_alpha10 = fitNeuralNetwork(trainInputs=Xall, trainTargets=yAll,\n",
    "                                                     validInputs=Xtesting, validTargets=yTest, alpha=10)"
   ]
  },
  {
   "cell_type": "code",
   "execution_count": 199,
   "metadata": {
    "collapsed": false
   },
   "outputs": [
    {
     "name": "stdout",
     "output_type": "stream",
     "text": [
      "training RMSE for the neural network with alpha 10 is\n"
     ]
    },
    {
     "data": {
      "text/plain": [
       "(0.10395701898016467,)"
      ]
     },
     "execution_count": 199,
     "metadata": {},
     "output_type": "execute_result"
    }
   ],
   "source": [
    "print \"training RMSE for the neural network with alpha 10 is\"\n",
    "trainRMSE_alpha10"
   ]
  },
  {
   "cell_type": "code",
   "execution_count": 198,
   "metadata": {
    "collapsed": false
   },
   "outputs": [
    {
     "name": "stdout",
     "output_type": "stream",
     "text": [
      "testing RMSE for the neural network with alpha 10 is\n"
     ]
    },
    {
     "data": {
      "text/plain": [
       "0.28177834079572883"
      ]
     },
     "execution_count": 198,
     "metadata": {},
     "output_type": "execute_result"
    }
   ],
   "source": [
    "print \"testing RMSE for the neural network with alpha 10 is\"\n",
    "testRMSE_alpha10"
   ]
  },
  {
   "cell_type": "markdown",
   "metadata": {},
   "source": [
    "The training error is reduced when choosing the optimal alpha for training: ~0.083 < ~0.104\n",
    "\n",
    "But the testing error in the unseen data is lower when training data used the alpha=10 as we used in previous exercises"
   ]
  },
  {
   "cell_type": "markdown",
   "metadata": {},
   "source": [
    "We are going to repeat the previous two fit-and-RMSE of the neural network but this time we are going to use the training set as the training set and the validation set as testing set in order to be able and compare with the results of previous exercises"
   ]
  },
  {
   "cell_type": "code",
   "execution_count": 200,
   "metadata": {
    "collapsed": false
   },
   "outputs": [
    {
     "name": "stdout",
     "output_type": "stream",
     "text": [
      "training RMSE for the neural network with optimal alpha is\n",
      "(0.07919593358323644,)\n",
      "\n",
      "testing RMSE for the neural network with optimal alpha is\n",
      "0.240008558659\n"
     ]
    }
   ],
   "source": [
    "fittedParams, trainRMSE, testRMSE = fitNeuralNetwork(trainInputs=Xtr, trainTargets=yTrain,\n",
    "                                                     validInputs=Xvalid, validTargets=yVal, alpha=bestAlpha)\n",
    "\n",
    "print \"training RMSE for the neural network with optimal alpha is\"\n",
    "print trainRMSE\n",
    "print\n",
    "print \"testing RMSE for the neural network with optimal alpha is\"\n",
    "print testRMSE"
   ]
  },
  {
   "cell_type": "code",
   "execution_count": 201,
   "metadata": {
    "collapsed": false
   },
   "outputs": [
    {
     "name": "stdout",
     "output_type": "stream",
     "text": [
      "training RMSE for the neural network with alpha 10 is\n",
      "(0.10026697346626232,)\n",
      "\n",
      "testing RMSE for the neural network with alpha 10 is\n",
      "0.261324563952\n"
     ]
    }
   ],
   "source": [
    "fittedParams, trainRMSE_alpha10, testRMSE_alpha10 = fitNeuralNetwork(trainInputs=Xtr, trainTargets=yTrain,\n",
    "                                                     validInputs=Xvalid, validTargets=yVal, alpha=10)\n",
    "\n",
    "print \"training RMSE for the neural network with alpha 10 is\"\n",
    "print trainRMSE_alpha10\n",
    "print \n",
    "print \"testing RMSE for the neural network with alpha 10 is\"\n",
    "print testRMSE_alpha10"
   ]
  },
  {
   "cell_type": "markdown",
   "metadata": {},
   "source": [
    "*Note the last cell are just the results of the last run of the previous exercise, exercise 5, put again here for easier comparison*\n",
    "\n",
    "So as a conclusion we see that the training error is reduced and so is the validation error which means that cross-validation was a reliable procedure to output the best alpha parameter to use for regularization"
   ]
  },
  {
   "cell_type": "code",
   "execution_count": null,
   "metadata": {
    "collapsed": true
   },
   "outputs": [],
   "source": []
  }
 ],
 "metadata": {
  "anaconda-cloud": {},
  "kernelspec": {
   "display_name": "Python [conda env:mlpr]",
   "language": "python",
   "name": "conda-env-mlpr-py"
  },
  "language_info": {
   "codemirror_mode": {
    "name": "ipython",
    "version": 2
   },
   "file_extension": ".py",
   "mimetype": "text/x-python",
   "name": "python",
   "nbconvert_exporter": "python",
   "pygments_lexer": "ipython2",
   "version": "2.7.12"
  }
 },
 "nbformat": 4,
 "nbformat_minor": 1
}
